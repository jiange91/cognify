{
 "cells": [
  {
   "cell_type": "code",
   "execution_count": 1,
   "metadata": {},
   "outputs": [],
   "source": [
    "from cognify.optimizer.analysis.domain import  TextEmbeddingDomainManager, DomainManagerInterface"
   ]
  },
  {
   "cell_type": "code",
   "execution_count": 2,
   "metadata": {},
   "outputs": [],
   "source": [
    "def embed_fn(query):\n",
    "    return TextEmbeddingDomainManager.default_get_embedding(query['question'])\n",
    "\n",
    "manager = TextEmbeddingDomainManager(\n",
    "    n_groups=4, embedding_func=embed_fn\n",
    ")"
   ]
  },
  {
   "cell_type": "code",
   "execution_count": 3,
   "metadata": {},
   "outputs": [],
   "source": [
    "import json \n",
    "import dotenv\n",
    "\n",
    "dotenv.load_dotenv()\n",
    "\n",
    "with open('/mnt/data/ssd2/zijian/cognify/examples/text-to-sql/data/dev/sub_sampled_bird_dev_set_raw.json', 'r') as f:\n",
    "    data = json.load(f)\n",
    "\n",
    "manager.partition(data)"
   ]
  },
  {
   "cell_type": "code",
   "execution_count": 4,
   "metadata": {},
   "outputs": [],
   "source": [
    "manager.save(filepath='t2s.pkl')"
   ]
  },
  {
   "cell_type": "code",
   "execution_count": 5,
   "metadata": {},
   "outputs": [],
   "source": [
    "manager = DomainManagerInterface.load(filepath='t2s.pkl')"
   ]
  },
  {
   "cell_type": "code",
   "execution_count": 6,
   "metadata": {},
   "outputs": [
    {
     "name": "stdout",
     "output_type": "stream",
     "text": [
      "[8, 60, 81, 82, 83, 84, 85, 86, 87, 88, 89, 90, 91, 92, 93, 94, 95, 96, 97, 98, 99, 100, 102, 103, 104, 107, 108, 127, 132, 137, 138, 141, 142, 143, 145, 146]\n",
      "[18, 19, 20, 21, 22, 23, 24, 25, 26, 27, 28, 29, 30, 31, 110, 111, 112, 113, 114, 115, 116, 117, 118, 119, 120, 121, 122, 123, 124, 125]\n",
      "[0, 1, 2, 3, 4, 5, 6, 7, 9, 10, 11, 12, 13, 14, 15, 16, 17, 32, 33, 34, 35, 36, 37, 38, 39, 40, 41, 42, 43, 44, 45, 46, 47, 48, 49, 50, 105, 126, 128, 130, 131, 133, 134, 135, 136, 139, 140, 144]\n",
      "[51, 52, 53, 54, 55, 56, 57, 58, 59, 61, 62, 63, 64, 65, 66, 67, 68, 69, 70, 71, 72, 73, 74, 75, 76, 77, 78, 79, 80, 101, 106, 109, 129]\n"
     ]
    }
   ],
   "source": [
    "for i in range(4):\n",
    "    print(manager._clusters[i].members)"
   ]
  },
  {
   "cell_type": "code",
   "execution_count": 7,
   "metadata": {},
   "outputs": [
    {
     "name": "stdout",
     "output_type": "stream",
     "text": [
      "{'question_id': 9, 'db_id': 'california_schools', 'question': 'Among the schools with the average score in Math over 560 in the SAT test, how many schools are directly charter-funded?', 'evidence': '', 'SQL': \"SELECT COUNT(T2.`School Code`) FROM satscores AS T1 INNER JOIN frpm AS T2 ON T1.cds = T2.CDSCode WHERE T1.AvgScrMath > 560 AND T2.`Charter Funding Type` = 'Directly funded'\", 'difficulty': 'simple'}\n",
      "{'question_id': 21, 'db_id': 'california_schools', 'question': 'In Los Angeles how many schools have more than 500 free meals but less than 700 free or reduced price meals for K-12?', 'evidence': '', 'SQL': \"SELECT COUNT(CDSCode) FROM frpm WHERE `County Name` = 'Los Angeles' AND `Free Meal Count (K-12)` > 500 AND `Free Meal Count (K-12)` < 700\", 'difficulty': 'simple'}\n",
      "{'question_id': 25, 'db_id': 'california_schools', 'question': 'Name schools in Riverside which the average of average math score for SAT is grater than 400, what is the funding type of these schools?', 'evidence': 'Average of average math = sum(average math scores) / count(schools).', 'SQL': \"SELECT T1.sname, T2.`Charter Funding Type` FROM satscores AS T1 INNER JOIN frpm AS T2 ON T1.cds = T2.CDSCode WHERE T2.`District Name` LIKE 'Riverside%' GROUP BY T1.sname, T2.`Charter Funding Type` HAVING CAST(SUM(T1.AvgScrMath) AS REAL) / COUNT(T1.cds) > 400\", 'difficulty': 'moderate'}\n",
      "{'question_id': 35, 'db_id': 'california_schools', 'question': \"What is the administrator's email address of the chartered school with the fewest students enrolled in grades 1 through 12?\", 'evidence': 'Charted school means `Charter School (Y/N)` = 1 in the table frpm; Students enrolled in grades 1 through 12 refers to `Enrollment (K-12)`', 'SQL': 'SELECT T2.AdmEmail1 FROM frpm AS T1 INNER JOIN schools AS T2 ON T1.CDSCode = T2.CDSCode WHERE T1.`Charter School (Y/N)` = 1 ORDER BY T1.`Enrollment (K-12)` ASC LIMIT 1', 'difficulty': 'moderate'}\n",
      "{'question_id': 40, 'db_id': 'california_schools', 'question': 'What is the telephone number for the school with the lowest average score in reading in Fresno Unified?', 'evidence': 'Fresno Unified is a name of district;', 'SQL': \"SELECT T2.Phone FROM satscores AS T1 INNER JOIN schools AS T2 ON T1.cds = T2.CDSCode WHERE T2.District = 'Fresno Unified' AND T1.AvgScrRead IS NOT NULL ORDER BY T1.AvgScrRead ASC LIMIT 1\", 'difficulty': 'moderate'}\n",
      "{'question_id': 43, 'db_id': 'california_schools', 'question': 'What is the average math score of the school with the lowest average score for all subjects, and in which county is it located?', 'evidence': 'Average score for all subjects can be computed by AvgScrMath + AvgScrRead + AvgScrWrite', 'SQL': 'SELECT T1.AvgScrMath, T2.County FROM satscores AS T1 INNER JOIN schools AS T2 ON T1.cds = T2.CDSCode WHERE T1.AvgScrMath IS NOT NULL ORDER BY T1.AvgScrMath + T1.AvgScrRead + T1.AvgScrWrite ASC LIMIT 1', 'difficulty': 'moderate'}\n",
      "{'question_id': 76, 'db_id': 'california_schools', 'question': 'What is the city location of the high school level school with Lunch Provision 2 whose lowest grade is 9 and the highest grade is 12 in the county of Merced?', 'evidence': \"High school can be represented as EILCode = 'HS'\", 'SQL': \"SELECT T2.City FROM frpm AS T1 INNER JOIN schools AS T2 ON T1.CDSCode = T2.CDSCode WHERE T1.`NSLP Provision Status` = 'Lunch Provision 2' AND T2.County = 'Merced' AND T1.`Low Grade` = 9 AND T1.`High Grade` = 12 AND T2.EILCode = 'HS'\", 'difficulty': 'moderate'}\n",
      "{'question_id': 81, 'db_id': 'california_schools', 'question': 'In which city can you find the school in the state of California with the lowest latitude coordinates and what is its lowest grade? Indicate the school name.', 'evidence': \"State of California refers to state = 'CA'\", 'SQL': \"SELECT T2.City, T1.`Low Grade`, T1.`School Name` FROM frpm AS T1 INNER JOIN schools AS T2 ON T1.CDSCode = T2.CDSCode WHERE T2.State = 'CA' ORDER BY T2.Latitude ASC LIMIT 1\", 'difficulty': 'moderate'}\n",
      "{'question_id': 97, 'db_id': 'financial', 'question': 'List out the clients who choose statement of issuance after transaction are Disponent?', 'evidence': \"'POPLATEK PO OBRATU' stands for issuance after transaction\", 'SQL': \"SELECT T2.client_id FROM account AS T1 INNER JOIN disp AS T2 ON T1.account_id = T2.account_id WHERE T1.frequency = 'POPLATEK PO OBRATU' AND T2.type = 'DISPONENT'\", 'difficulty': 'simple'}\n",
      "{'question_id': 98, 'db_id': 'financial', 'question': 'Among the accounts who have approved loan date in 1997, list out the accounts that have the lowest approved amount and choose weekly issuance statement.', 'evidence': \"'POPLATEK TYDNE' stands for weekly issuance\", 'SQL': \"SELECT T2.account_id FROM loan AS T1 INNER JOIN account AS T2 ON T1.account_id = T2.account_id WHERE STRFTIME('%Y', T1.date) = '1997' AND T2.frequency = 'POPLATEK TYDNE' ORDER BY T1.amount LIMIT 1\", 'difficulty': 'moderate'}\n",
      "{'question_id': 111, 'db_id': 'financial', 'question': 'How many accounts were opened in Litomerice in 1996?', 'evidence': 'A2 refers to district name; Litomerice is one of district names.', 'SQL': \"SELECT COUNT(T2.account_id) FROM district AS T1 INNER JOIN account AS T2 ON T1.district_id = T2.district_id WHERE STRFTIME('%Y', T2.date) = '1996' AND T1.A2 = 'Litomerice'\", 'difficulty': 'simple'}\n",
      "{'question_id': 130, 'db_id': 'financial', 'question': 'How many of the account holders in South Bohemia still do not own credit cards?', 'evidence': 'A3 contains the region names; South Bohemia is one of region names.', 'SQL': \"SELECT COUNT(T3.account_id) FROM district AS T1 INNER JOIN client AS T2 ON T1.district_id = T2.district_id INNER JOIN disp AS T3 ON T2.client_id = T3.client_id WHERE T1.A3 = 'south Bohemia' AND T3.type != 'OWNER'\", 'difficulty': 'moderate'}\n",
      "{'question_id': 139, 'db_id': 'financial', 'question': 'How many high-level credit cards have \"disponent\" type of disposition?', 'evidence': 'High-level credit cards refers to the cards with the gold type.', 'SQL': \"SELECT COUNT(T1.card_id) FROM card AS T1 INNER JOIN disp AS T2 ON T1.disp_id = T2.disp_id WHERE T1.type = 'gold' AND T2.type = 'DISPONENT'\", 'difficulty': 'simple'}\n",
      "{'question_id': 158, 'db_id': 'financial', 'question': 'What is the district Id of the account that placed the order with the id 33333?', 'evidence': '', 'SQL': 'SELECT T3.district_id FROM `order` AS T1 INNER JOIN account AS T2 ON T1.account_id = T2.account_id INNER JOIN district AS T3 ON T2.district_id = T3.district_id WHERE T1.order_id = 33333', 'difficulty': 'simple'}\n",
      "{'question_id': 164, 'db_id': 'financial', 'question': 'Who placed the order with the id 32423?', 'evidence': '', 'SQL': 'SELECT T3.client_id FROM `order` AS T1 INNER JOIN account AS T2 ON T1.account_id = T2.account_id INNER JOIN client AS T3 ON T2.district_id = T3.district_id WHERE T1.order_id = 32423', 'difficulty': 'simple'}\n",
      "{'question_id': 176, 'db_id': 'financial', 'question': 'What is the amount of debt that client number 992 has, and how is this client doing with payments?', 'evidence': '', 'SQL': 'SELECT T3.amount, T3.status FROM client AS T1 INNER JOIN account AS T2 ON T1.district_id = T2.district_id INNER JOIN loan AS T3 ON T2.account_id = T3.account_id WHERE T1.client_id = 992', 'difficulty': 'simple'}\n",
      "{'question_id': 189, 'db_id': 'financial', 'question': 'Name the account numbers of female clients who are oldest and have lowest average salary?', 'evidence': \"Female refers to 'F' in the gender; A11 contains information about average salary\", 'SQL': \"SELECT T3.account_id FROM client AS T1 INNER JOIN district AS T2 ON T1.district_id = T2.district_id INNER JOIN account AS T3 ON T2.district_id = T3.district_id WHERE T1.gender = 'F' ORDER BY T1.birth_date ASC, T2.A11 ASC LIMIT 1\", 'difficulty': 'moderate'}\n",
      "{'question_id': 347, 'db_id': 'card_games', 'question': 'Find all cards illustrated by Stephen Daniel and describe the text of the ruling of these cards. State if these cards have missing or degraded properties and values.', 'evidence': \"cards have missing or degraded properties and value refers to hasContentWarning = 1; 'Stephen Daniele' is artist;\", 'SQL': \"SELECT T1.id, T2.text, T1.hasContentWarning FROM cards AS T1 INNER JOIN rulings AS T2 ON T1.uuid = T2.uuid WHERE T1.artist = 'Stephen Daniele'\", 'difficulty': 'moderate'}\n",
      "{'question_id': 350, 'db_id': 'card_games', 'question': 'State the alternative languages available for card named Annul numbered 29.', 'evidence': \"annul refers to name = 'annul'; numbered 29 refers to number = '29';\", 'SQL': \"SELECT T2.language FROM cards AS T1 INNER JOIN foreign_data AS T2 ON T1.uuid = T2.uuid WHERE T1.name = 'Annul' AND T1.number = 29\", 'difficulty': 'simple'}\n",
      "{'question_id': 353, 'db_id': 'card_games', 'question': 'List all the sets available in Italian translation. State the total number of cards per set.', 'evidence': \"Italian translation refers to language = 'Italian'; total number of card per set refers to totalSetSize;\", 'SQL': \"SELECT T1.name, T1.totalSetSize FROM sets AS T1 INNER JOIN set_translations AS T2 ON T1.code = T2.setCode WHERE T2.language = 'Italian'\", 'difficulty': 'simple'}\n",
      "{'question_id': 362, 'db_id': 'card_games', 'question': 'What is the description about the ruling of card \"Condemn\"?', 'evidence': \"Ancestor's Chosen' is the name of card; description about the ruling refers to text;\", 'SQL': \"SELECT T2.text FROM cards AS T1 INNER JOIN rulings AS T2 ON T1.uuid = T2.uuid WHERE T1.name = 'Condemn'\", 'difficulty': 'simple'}\n",
      "{'question_id': 387, 'db_id': 'card_games', 'question': 'What are the cards for set OGW? State the colour for these cards.', 'evidence': \"set OGW refers to setCode = 'OGW';\", 'SQL': \"SELECT id, colors FROM cards WHERE id IN ( SELECT id FROM set_translations WHERE setCode = 'OGW' )\", 'difficulty': 'simple'}\n",
      "{'question_id': 402, 'db_id': 'card_games', 'question': 'What is the percentage of Story Spotlight cards that also have a text box? List them by their ID.', 'evidence': 'Story Spotlight cards that do not have a text box refers to isStorylight = 1 and isTextless = 1; Percentage refer to DIVIDE(SUM(count(id) where isStorylight = 1), SUM(count(id))) * 100\\n\\n', 'SQL': 'SELECT CAST(SUM(CASE WHEN isTextless = 0 THEN 1 ELSE 0 END) AS REAL) * 100 / COUNT(id) FROM cards WHERE isStorySpotlight = 1', 'difficulty': 'moderate'}\n",
      "{'question_id': 419, 'db_id': 'card_games', 'question': 'How many color cards with no borders have been ranked higher than 12000 on EDHRec?', 'evidence': \"color cards with no borders refers to borderColor = 'borderless'; ranked higher than 12000 on EDHRec refers to edhrecRank > 12000\", 'SQL': \"SELECT COUNT(id) FROM cards WHERE edhrecRank > 12000 AND borderColor = 'borderless'\", 'difficulty': 'simple'}\n",
      "{'question_id': 423, 'db_id': 'card_games', 'question': 'Please provide the ids of top three powerful pairs of Kingdom Foil and Kingdom Cards sorted by Kingdom Foil id in alphabetical order.', 'evidence': 'poweful refers to cardKingdomFoilId is not null AND cardKingdomId is not null', 'SQL': 'SELECT cardKingdomFoilId, cardKingdomId FROM cards WHERE cardKingdomFoilId IS NOT NULL AND cardKingdomId IS NOT NULL ORDER BY cardKingdomFoilId LIMIT 3', 'difficulty': 'simple'}\n",
      "{'question_id': 436, 'db_id': 'card_games', 'question': 'How many cards have frame effect as extendedart? List out the id of those cards.', 'evidence': \"\\nframe effect as extendedart refers to frameEffects = 'extendedart'\\n\", 'SQL': \"SELECT id FROM cards WHERE frameEffects = 'extendedart' GROUP BY id\", 'difficulty': 'simple'}\n",
      "{'question_id': 448, 'db_id': 'card_games', 'question': 'Name the foreign name of the card that has abzan watermark? List out the type of this card.', 'evidence': '', 'SQL': \"SELECT DISTINCT T1.name, T1.type FROM cards AS T1 INNER JOIN foreign_data AS T2 ON T2.uuid = T1.uuid WHERE T1.watermark = 'abzan'\", 'difficulty': 'simple'}\n",
      "{'question_id': 470, 'db_id': 'card_games', 'question': 'When was the set of cards with \"Ancestor\\'s Chosen\" released?', 'evidence': 'card set \"Ancestor\\'s Chosen\" refers to name = \\'Ancestor\\'\\'s Chosen\\'; when released refers to releaseDate', 'SQL': \"SELECT DISTINCT T2.releaseDate FROM cards AS T1 INNER JOIN sets AS T2 ON T2.code = T1.setCode WHERE T1.name = 'Ancestor''s Chosen'\", 'difficulty': 'simple'}\n",
      "{'question_id': 479, 'db_id': 'card_games', 'question': 'Among the cards with converted mana cost higher than 5 in the set Coldsnap, how many of them have unknown power?', 'evidence': \"card set Coldsnap refers to name = 'Coldsnap'; converted mana cost higher than 5 refers to convertedManaCost > 5; unknown power refers to power = '*' or T1.power is null\", 'SQL': \"SELECT SUM(CASE WHEN T1.power LIKE '%*%' OR T1.power IS NULL THEN 1 ELSE 0 END) FROM cards AS T1 INNER JOIN sets AS T2 ON T2.code = T1.setCode WHERE T2.name = 'Coldsnap' AND T1.convertedManaCost > 5\", 'difficulty': 'moderate'}\n",
      "{'question_id': 483, 'db_id': 'card_games', 'question': 'Please list the Italian text ruling of all the cards in the set Coldsnap.', 'evidence': \"card set Coldsnap refers to name = 'Coldsnap'; Italian refers to language = 'Italian'\", 'SQL': \"SELECT DISTINCT T1.text FROM foreign_data AS T1 INNER JOIN cards AS T2 ON T2.uuid = T1.uuid INNER JOIN sets AS T3 ON T3.code = T2.setCode WHERE T3.name = 'Coldsnap' AND T1.language = 'Italian'\", 'difficulty': 'moderate'}\n",
      "{'question_id': 484, 'db_id': 'card_games', 'question': 'Please list the Italian names of the cards in the set Coldsnap with the highest converted mana cost.', 'evidence': \"card set Coldsnap refers to name = 'Coldsnap'; Italian refers to language = 'Italian'\", 'SQL': \"SELECT T2.name FROM foreign_data AS T1 INNER JOIN cards AS T2 ON T2.uuid = T1.uuid INNER JOIN sets AS T3 ON T3.code = T2.setCode WHERE T3.name = 'Coldsnap' AND T1.language = 'Italian' ORDER BY T2.convertedManaCost DESC LIMIT 1\", 'difficulty': 'moderate'}\n",
      "{'question_id': 489, 'db_id': 'card_games', 'question': \"List the keyrune code for the set whose code is 'PKHC'.\", 'evidence': 'keyrune code refers to keyruneCode', 'SQL': \"SELECT keyruneCode FROM sets WHERE code = 'PKHC'\", 'difficulty': 'simple'}\n",
      "{'question_id': 510, 'db_id': 'card_games', 'question': \"Among the cards that doesn't have multiple faces on the same card, who is the illustrator of the card art that has the highest cost of converted mana?\", 'evidence': \"doesn't have multiple faces refers to side IS NULL; illustrator refers to artist\", 'SQL': 'SELECT artist FROM cards WHERE side IS NULL ORDER BY convertedManaCost DESC LIMIT 1', 'difficulty': 'simple'}\n",
      "{'question_id': 515, 'db_id': 'card_games', 'question': 'When was the oldest mythic card released and what are its legal play formats?', 'evidence': \"the oldest card refers to MIN(originalReleaseDate); mythic card refers to rarity = 'mythic'; legal play refers to status = 'legal'; play format refers to format\", 'SQL': \"SELECT T1.originalReleaseDate, T2.format FROM cards AS T1 INNER JOIN legalities AS T2 ON T1.uuid = T2.uuid WHERE T1.rarity = 'mythic' AND T1.originalReleaseDate IS NOT NULL AND T2.status = 'Legal' ORDER BY T1.originalReleaseDate LIMIT 1\", 'difficulty': 'moderate'}\n",
      "{'question_id': 520, 'db_id': 'card_games', 'question': 'Who is the illustrator that illustrated the least amount of cards? List the format of play of the cards that he/she illustrated.', 'evidence': 'format of the cards refers to format; illustrator refers to artist; the least amount of cards refers to MIN(artist)', 'SQL': 'SELECT T1.artist, T2.format FROM cards AS T1 INNER JOIN legalities AS T2 ON T2.uuid = T1.uuid GROUP BY T1.artist ORDER BY COUNT(T1.id) ASC LIMIT 1', 'difficulty': 'moderate'}\n",
      "{'question_id': 529, 'db_id': 'card_games', 'question': \"Find and list the names of sets which doesn't have Japanese translation but have Korean translation.\", 'evidence': \"names of sets refers to name; doesn't have Japanese translation refers to language not like '%Japanese%'; have Korean translation refers to language = 'Korean'\", 'SQL': \"SELECT name FROM sets WHERE code IN ( SELECT setCode FROM set_translations WHERE language = 'Korean' AND language NOT LIKE '%Japanese%' )\", 'difficulty': 'moderate'}\n",
      "{'question_id': 1085, 'db_id': 'european_football_2', 'question': 'Which of these players performs the best in crossing actions, Alexis, Ariel Borysiuk or Arouna Kone?', 'evidence': 'player who perform best in crossing actions refers to MAX(crossing);', 'SQL': \"SELECT t1.player_name, t2.crossing FROM Player AS t1 INNER JOIN Player_Attributes AS t2 ON t1.player_api_id = t2.player_api_id WHERE t1.player_name IN ('Alexis', 'Ariel Borysiuk', 'Arouna Kone') ORDER BY t2.crossing DESC LIMIT 1\", 'difficulty': 'moderate'}\n",
      "{'question_id': 1319, 'db_id': 'student_club', 'question': 'Which college is the vice president of the Student_Club from?', 'evidence': 'Vice President is a position of the Student Club', 'SQL': \"SELECT T2.college FROM member AS T1 INNER JOIN major AS T2 ON T1.link_to_major = T2.major_id WHERE T1.position LIKE 'vice president'\", 'difficulty': 'simple'}\n",
      "{'question_id': 1349, 'db_id': 'student_club', 'question': 'Provide the total number of the budget amount for \"September Speaker\" event.', 'evidence': \"'September Speaker' is an event name; total number of budget amount refers to SUM(amount)\", 'SQL': \"SELECT SUM(T1.amount) FROM budget AS T1 INNER JOIN event AS T2 ON T1.link_to_event = T2.event_id WHERE T2.event_name = 'September Speaker'\", 'difficulty': 'simple'}\n",
      "{'question_id': 1368, 'db_id': 'student_club', 'question': 'What does the person with the phone number \"809-555-3360\" major in?', 'evidence': 'major in refers to major_name', 'SQL': \"SELECT T2.major_name FROM member AS T1 INNER JOIN major AS T2 ON T1.link_to_major = T2.major_id WHERE T1.phone = '809-555-3360'\", 'difficulty': 'simple'}\n",
      "{'question_id': 1393, 'db_id': 'student_club', 'question': \"Provide the full name and email address of the Student_Club's Secretary.\", 'evidence': \"full name refers to first_name, last_name; 'Secretary' is a position of Student Club\", 'SQL': \"SELECT first_name, last_name, email FROM member WHERE position = 'Secretary'\", 'difficulty': 'simple'}\n",
      "{'question_id': 1415, 'db_id': 'student_club', 'question': 'List out the position of members who joined major of Business.', 'evidence': \"'Business' is the major name\", 'SQL': \"SELECT T2.position FROM major AS T1 INNER JOIN member AS T2 ON T1.major_id = T2.link_to_major WHERE T1.major_name = 'Business'\", 'difficulty': 'simple'}\n",
      "{'question_id': 1430, 'db_id': 'student_club', 'question': 'What is the last name and position of the student that bought pizza on 09/10/2019?', 'evidence': \"bought pizza on 09/10/2019 refers to expense_description = 'Pizza' where expense_date = '2019-09-10'\", 'SQL': \"SELECT T1.last_name, T1.position FROM member AS T1 INNER JOIN expense AS T2 ON T1.member_id = T2.link_to_member WHERE T2.expense_date = '2019-09-10' AND T2.expense_description = 'Pizza'\", 'difficulty': 'moderate'}\n",
      "{'question_id': 1438, 'db_id': 'student_club', 'question': 'Please indicate the college of the person whose first name is Katy with the link to the major \"rec1N0upiVLy5esTO\".', 'evidence': '', 'SQL': \"SELECT T2.college FROM member AS T1 INNER JOIN major AS T2 ON T2.major_id = T1.link_to_major WHERE T1.link_to_major = 'rec1N0upiVLy5esTO' AND T1.first_name = 'Katy'\", 'difficulty': 'simple'}\n",
      "{'question_id': 1447, 'db_id': 'student_club', 'question': 'List the name and location of events that underspend its budget.', 'evidence': 'name of event refers to event_name; underspend its budget refers to remaining > 0', 'SQL': 'SELECT DISTINCT T1.event_name, T1.location FROM event AS T1 INNER JOIN budget AS T2 ON T1.event_id = T2.link_to_event WHERE T2.remaining > 0', 'difficulty': 'simple'}\n",
      "{'question_id': 1466, 'db_id': 'student_club', 'question': \"Write the full name of the club member with the position of 'Secretary' and list which college the club member belongs to.\", 'evidence': 'full name refers to first_name, last name', 'SQL': \"SELECT T1.first_name, T1.last_name, college FROM member AS T1 INNER JOIN major AS T2 ON T2.major_id = T1.link_to_major WHERE T1.position = 'Secretary'\", 'difficulty': 'simple'}\n",
      "{'question_id': 1467, 'db_id': 'student_club', 'question': 'Calculate the total amount spent on speaker gifts and list the name of the event they were spent on.', 'evidence': \"total amount spent = SUM(spent) where category = 'Speaker Gifts'\", 'SQL': \"SELECT SUM(T1.spent), T2.event_name FROM budget AS T1 INNER JOIN event AS T2 ON T1.link_to_event = T2.event_id WHERE T1.category = 'Speaker Gifts'\", 'difficulty': 'simple'}\n",
      "{'question_id': 1511, 'db_id': 'debit_card_specializing', 'question': 'For the customers who paid in the euro, what is their average total price of the transactions?', 'evidence': '', 'SQL': \"SELECT AVG(T1.Price) FROM transactions_1k AS T1 INNER JOIN gasstations AS T2 ON T1.GasStationID = T2.GasStationID INNER JOIN customers AS T3 ON T1.CustomerID = T3.CustomerID WHERE T3.Currency = 'EUR'\", 'difficulty': 'simple'}\n"
     ]
    }
   ],
   "source": [
    "for i in manager._clusters[2].members:\n",
    "    print(data[i])"
   ]
  },
  {
   "cell_type": "code",
   "execution_count": 8,
   "metadata": {},
   "outputs": [
    {
     "data": {
      "text/plain": [
       "2"
      ]
     },
     "execution_count": 8,
     "metadata": {},
     "output_type": "execute_result"
    }
   ],
   "source": [
    "query = {\n",
    "    \"question_id\": 10,\n",
    "    \"db_id\": \"california_schools\",\n",
    "    \"question\": \"For the school with the highest average score in Reading in the SAT test, what is its FRPM count for students aged 5-17?\",\n",
    "    \"evidence\": \"\",\n",
    "    \"SQL\": \"SELECT T2.`FRPM Count (Ages 5-17)` FROM satscores AS T1 INNER JOIN frpm AS T2 ON T1.cds = T2.CDSCode ORDER BY T1.AvgScrRead DESC LIMIT 1\",\n",
    "    \"difficulty\": \"simple\"\n",
    "}\n",
    "\n",
    "manager.belongs_to(\n",
    "    query\n",
    ")"
   ]
  },
  {
   "cell_type": "code",
   "execution_count": null,
   "metadata": {},
   "outputs": [],
   "source": []
  }
 ],
 "metadata": {
  "kernelspec": {
   "display_name": "test_cognify",
   "language": "python",
   "name": "python3"
  },
  "language_info": {
   "codemirror_mode": {
    "name": "ipython",
    "version": 3
   },
   "file_extension": ".py",
   "mimetype": "text/x-python",
   "name": "python",
   "nbconvert_exporter": "python",
   "pygments_lexer": "ipython3",
   "version": "3.11.0"
  }
 },
 "nbformat": 4,
 "nbformat_minor": 2
}
