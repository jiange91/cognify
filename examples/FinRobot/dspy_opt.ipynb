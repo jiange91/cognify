{
 "cells": [
  {
   "cell_type": "code",
   "execution_count": 1,
   "metadata": {},
   "outputs": [],
   "source": [
    "from config import  load_data, evaluate\n",
    "from dspy_workflow import fin_robot\n",
    "import dspy"
   ]
  },
  {
   "cell_type": "code",
   "execution_count": 2,
   "metadata": {},
   "outputs": [],
   "source": [
    "def dspy_evaluate(example, pred, trace=None):\n",
    "    return evaluate(pred, example.label, example.mode, example.task)"
   ]
  },
  {
   "cell_type": "code",
   "execution_count": 3,
   "metadata": {},
   "outputs": [],
   "source": [
    "train, val, test = load_data()"
   ]
  },
  {
   "cell_type": "code",
   "execution_count": 4,
   "metadata": {},
   "outputs": [],
   "source": [
    "train_dspy = [\n",
    "    dspy.Example(task=x[0]['task'], mode=x[0]['mode'], label=x[1]['label']).with_inputs('task') for x in train\n",
    "]\n",
    "test_dspy = [\n",
    "    dspy.Example(task=x[0]['task'], mode=x[0]['mode'], label=x[1]['label']).with_inputs('task') for x in test\n",
    "]"
   ]
  },
  {
   "cell_type": "code",
   "execution_count": 5,
   "metadata": {},
   "outputs": [
    {
     "data": {
      "text/plain": [
       "[Example({'task': 'What is the sentiment of this news? Please choose an answer from {negative/neutral/positive}.\\nTeollisuuden Voima Oyj , the Finnish utility known as TVO , said it shortlisted Mitsubishi Heavy s EU-APWR model along with reactors from Areva , Toshiba Corp. , GE Hitachi Nuclear Energy and Korea Hydro & Nuclear Power Co. .', 'mode': 'sentiment_analysis', 'label': 'neutral'}) (input_keys={'task'}),\n",
       " Example({'task': 'What is the sentiment of this news? Please choose an answer from {negative/neutral/positive}.\\nSanofi poaches AstraZeneca scientist as new research head', 'mode': 'sentiment_analysis', 'label': 'neutral'}) (input_keys={'task'}),\n",
       " Example({'task': \"What is the sentiment of this news? Please choose an answer from {strong negative/moderately negative/mildly negative/neutral/mildly positive/moderately positive/strong positive}.\\nStarbucks says the workers violated safety policies while workers said they'd never heard of the policy before and are alleging retaliation.\", 'mode': 'sentiment_analysis', 'label': 'moderately negative'}) (input_keys={'task'}),\n",
       " Example({'task': 'What is the sentiment of this tweet? Please choose an answer from {negative/neutral/positive}.\\n$brcm raises revenue forecast', 'mode': 'sentiment_analysis', 'label': 'positive'}) (input_keys={'task'}),\n",
       " Example({'task': \"What is the sentiment of this news? Please choose an answer from {strong negative/moderately negative/mildly negative/neutral/mildly positive/moderately positive/strong positive}.\\nGoogle parent\\xa0Alphabet Inc.\\xa0reported revenue and earnings that fell short of analysts' expectations, showing the company's search advertising juggernaut was not immune to a slowdown in the digital ad market. The shares fell more than 6%.\", 'mode': 'sentiment_analysis', 'label': 'moderately negative'}) (input_keys={'task'})]"
      ]
     },
     "execution_count": 5,
     "metadata": {},
     "output_type": "execute_result"
    }
   ],
   "source": [
    "train_dspy[:5]"
   ]
  },
  {
   "cell_type": "code",
   "execution_count": 6,
   "metadata": {},
   "outputs": [],
   "source": [
    "evaluator = dspy.Evaluate(\n",
    "    devset=test_dspy,\n",
    "    metric=dspy_evaluate,\n",
    "    display_progress=True,\n",
    "    num_threads=50,\n",
    ")"
   ]
  },
  {
   "cell_type": "code",
   "execution_count": 7,
   "metadata": {},
   "outputs": [
    {
     "name": "stdout",
     "output_type": "stream",
     "text": [
      "Average Metric: 81.72 / 300 (27.2%): 100%|██████████| 300/300 [01:15<00:00,  3.97it/s]"
     ]
    },
    {
     "name": "stderr",
     "output_type": "stream",
     "text": [
      "2025/02/09 01:37:20 INFO dspy.evaluate.evaluate: Average Metric: 81.72339144247138 / 300 (27.2%)\n"
     ]
    },
    {
     "name": "stdout",
     "output_type": "stream",
     "text": [
      "\n"
     ]
    },
    {
     "data": {
      "text/plain": [
       "27.24"
      ]
     },
     "execution_count": 7,
     "metadata": {},
     "output_type": "execute_result"
    }
   ],
   "source": [
    "evaluator(fin_robot)"
   ]
  },
  {
   "cell_type": "code",
   "execution_count": 7,
   "metadata": {},
   "outputs": [],
   "source": [
    "gpt4o = dspy.LM(model='gpt-4o', max_tokens=2048)\n",
    "\n",
    "models = dict(prompt_model=gpt4o, teacher_settings=dict(lm=gpt4o))\n",
    "tp = dspy.MIPROv2(metric=dspy_evaluate, auto=\"medium\", num_threads=50, **models)\n",
    "kwargs = dict(minibatch_size=50, minibatch_full_eval_steps=4, requires_permission_to_run=False)"
   ]
  },
  {
   "cell_type": "code",
   "execution_count": 9,
   "metadata": {},
   "outputs": [
    {
     "data": {
      "text/plain": [
       "12"
      ]
     },
     "execution_count": 9,
     "metadata": {},
     "output_type": "execute_result"
    }
   ],
   "source": [
    "len(fin_robot.predictors())"
   ]
  },
  {
   "cell_type": "code",
   "execution_count": 10,
   "metadata": {},
   "outputs": [
    {
     "name": "stderr",
     "output_type": "stream",
     "text": [
      "2025/02/09 01:45:36 INFO dspy.teleprompt.mipro_optimizer_v2: \n",
      "RUNNING WITH THE FOLLOWING MEDIUM AUTO RUN SETTINGS:\n",
      "num_trials: 25\n",
      "minibatch: True\n",
      "num_candidates: 2\n",
      "valset size: 240\n",
      "\n",
      "2025/02/09 01:45:36 INFO dspy.teleprompt.mipro_optimizer_v2: \n",
      "==> STEP 1: BOOTSTRAP FEWSHOT EXAMPLES <==\n",
      "2025/02/09 01:45:36 INFO dspy.teleprompt.mipro_optimizer_v2: These will be used as few-shot example candidates for our program and for creating instructions.\n",
      "\n",
      "2025/02/09 01:45:36 INFO dspy.teleprompt.mipro_optimizer_v2: Bootstrapping N=2 sets of demonstrations...\n",
      "2025/02/09 01:45:36 INFO dspy.teleprompt.mipro_optimizer_v2: \n",
      "==> STEP 2: PROPOSE INSTRUCTION CANDIDATES <==\n",
      "2025/02/09 01:45:36 INFO dspy.teleprompt.mipro_optimizer_v2: We will use the few-shot examples from the previous step, a generated dataset summary, a summary of the program code, and a randomly selected prompting tip to propose instructions.\n"
     ]
    },
    {
     "name": "stdout",
     "output_type": "stream",
     "text": [
      "Bootstrapping set 1/2\n",
      "Bootstrapping set 2/2\n",
      "class FinLeader(dspy.Signature):\n",
      "    \"\"\"\n",
      "You are the leader of the following group members:\n",
      "\n",
      "Member information in format \"- <member_name>: <member_role>\"\n",
      "- Value_Factor_Researcher: As a value factor researcher, the individual must possess expertise in financial statement analysis, a strong understanding of valuation metrics, adeptness in Python for quantitative modeling, and the ability to work collaboratively in team settings to integrate the value perspective into broader investment strategies.\n",
      "- Growth_Factor_Researcher: As a growth factor researcher, the individual must possess expertise in analyzing corporate growth indicators like earnings and revenue expansion, have strong Python skills for data analysis, and collaborate effectively in group settings to evaluate investment growth opportunities.\n",
      "- Momentum_Factor_Researcher: As a momentum factor researcher, one needs to have the ability to identify and analyze market trends and price patterns, be proficient in Python for statistical analysis, and work collaboratively in a team to leverage momentum-based investment strategies.\n",
      "- Quality_Factor_Researcher: As a quality factor researcher, the individual should evaluate companies based on financial health and earnings quality, utilize Python for quantitative analysis, and engage in team discussions to integrate quality assessments into investment decisions.\n",
      "- Volatility_Factor_Researcher: As a volatility factor researcher, one must analyze price fluctuations and risk metrics, demonstrate strong Python skills for risk modeling, and contribute to team efforts in developing risk-adjusted trading strategies.\n",
      "- Liquidity_Factor_Researcher: As a liquidity factor researcher, the position requires the ability to assess asset tradeability and market depth, use Python for liquidity analysis, and collaborate with the team to incorporate liquidity insights into trading algorithms.\n",
      "- Sentiment_Factor_Researcher: As a sentiment factor researcher, the individual should analyze market sentiment and investor opinions, be adept in Python for processing and analyzing large sentiment data sets, and work with colleagues to factor sentiment analysis into market predictions.\n",
      "- Macro_Factor_Researcher: As a macro factor researcher, one needs to understand the impact of macroeconomic indicators on markets, have strong Python skills for econometric analysis, and engage collaboratively in aligning investment strategies with macroeconomic conditions.\n",
      "- Portfolio_Manager: As a portfolio manager, the individual must integrate findings from various factor analyses to create and manage comprehensive investment strategies, demonstrate proficiency in Python for strategy development, and work collaboratively to ensure that these strategies meet the firm’s investment goals and risk tolerance.\n",
      "- Quantitative_Analyst: As a quantitative analyst, one is responsible for validating investment strategies and factors, conducting back-tests and risk assessments using Python, and collaborating with the team to ensure that the investment approach is both statistically sound and aligned with risk management protocols.\n",
      "- Financial_Data_Specialist: As a financial information officer, the individual is responsible for gathering, processing, analyzing, and extracting key financial information from structured and unstructured data sources.\n",
      "\n",
      "As a group leader, you are responsible for coordinating the team's efforts to complete a project. You will be given a user task, history progress and the remaining number of orders you can make. Please try to complete the task without exceeding the order limit.\n",
      "\n",
      "Your role is as follows:\n",
      "- Summarize the status of the project progess.\n",
      "- Based on the progress, you can decide whether to make a new order or to end the project. \n",
      "    * If you believe the task is completed, set the project status to \"END\" and give the final solution based on the conversation history.\n",
      "- If you need to give an order to one of your team members to make further progress:\n",
      "    * Orders should follow the format: \"[<name of staff>] <order>\". \n",
      "        - The name of the staff must be wrapped in square brackets, followed by the order after a space.\n",
      "    * Ensure that each order is clear, detailed, and actionable.\n",
      "    * If a group member is seeking clarification/help, provide additional information to help them complete the task or make an order to another member to collect the necessary information.\n",
      "- Only issue one order at a time.\n",
      "\n",
      "    \"\"\"\n",
      "    task: str = dspy.InputField()\n",
      "    project_history: str = dspy.InputField()\n",
      "    remaining_order_budget: int = dspy.InputField()\n",
      "    response: LeaderResponse = dspy.OutputField()\n",
      "\n"
     ]
    },
    {
     "name": "stderr",
     "output_type": "stream",
     "text": [
      "2025/02/09 01:45:51 INFO dspy.teleprompt.mipro_optimizer_v2: \n",
      "Proposing instructions...\n",
      "\n",
      "2025/02/09 01:47:26 INFO dspy.teleprompt.mipro_optimizer_v2: Proposed Instructions for Predictor 0:\n",
      "\n",
      "2025/02/09 01:47:26 INFO dspy.teleprompt.mipro_optimizer_v2: 0: You are the leader of the following group members:\n",
      "\n",
      "Member information in format \"- <member_name>: <member_role>\"\n",
      "- Value_Factor_Researcher: As a value factor researcher, the individual must possess expertise in financial statement analysis, a strong understanding of valuation metrics, adeptness in Python for quantitative modeling, and the ability to work collaboratively in team settings to integrate the value perspective into broader investment strategies.\n",
      "- Growth_Factor_Researcher: As a growth factor researcher, the individual must possess expertise in analyzing corporate growth indicators like earnings and revenue expansion, have strong Python skills for data analysis, and collaborate effectively in group settings to evaluate investment growth opportunities.\n",
      "- Momentum_Factor_Researcher: As a momentum factor researcher, one needs to have the ability to identify and analyze market trends and price patterns, be proficient in Python for statistical analysis, and work collaboratively in a team to leverage momentum-based investment strategies.\n",
      "- Quality_Factor_Researcher: As a quality factor researcher, the individual should evaluate companies based on financial health and earnings quality, utilize Python for quantitative analysis, and engage in team discussions to integrate quality assessments into investment decisions.\n",
      "- Volatility_Factor_Researcher: As a volatility factor researcher, one must analyze price fluctuations and risk metrics, demonstrate strong Python skills for risk modeling, and contribute to team efforts in developing risk-adjusted trading strategies.\n",
      "- Liquidity_Factor_Researcher: As a liquidity factor researcher, the position requires the ability to assess asset tradeability and market depth, use Python for liquidity analysis, and collaborate with the team to incorporate liquidity insights into trading algorithms.\n",
      "- Sentiment_Factor_Researcher: As a sentiment factor researcher, the individual should analyze market sentiment and investor opinions, be adept in Python for processing and analyzing large sentiment data sets, and work with colleagues to factor sentiment analysis into market predictions.\n",
      "- Macro_Factor_Researcher: As a macro factor researcher, one needs to understand the impact of macroeconomic indicators on markets, have strong Python skills for econometric analysis, and engage collaboratively in aligning investment strategies with macroeconomic conditions.\n",
      "- Portfolio_Manager: As a portfolio manager, the individual must integrate findings from various factor analyses to create and manage comprehensive investment strategies, demonstrate proficiency in Python for strategy development, and work collaboratively to ensure that these strategies meet the firm’s investment goals and risk tolerance.\n",
      "- Quantitative_Analyst: As a quantitative analyst, one is responsible for validating investment strategies and factors, conducting back-tests and risk assessments using Python, and collaborating with the team to ensure that the investment approach is both statistically sound and aligned with risk management protocols.\n",
      "- Financial_Data_Specialist: As a financial information officer, the individual is responsible for gathering, processing, analyzing, and extracting key financial information from structured and unstructured data sources.\n",
      "\n",
      "As a group leader, you are responsible for coordinating the team's efforts to complete a project. You will be given a user task, history progress and the remaining number of orders you can make. Please try to complete the task without exceeding the order limit.\n",
      "\n",
      "Your role is as follows:\n",
      "- Summarize the status of the project progess.\n",
      "- Based on the progress, you can decide whether to make a new order or to end the project. \n",
      "    * If you believe the task is completed, set the project status to \"END\" and give the final solution based on the conversation history.\n",
      "- If you need to give an order to one of your team members to make further progress:\n",
      "    * Orders should follow the format: \"[<name of staff>] <order>\". \n",
      "        - The name of the staff must be wrapped in square brackets, followed by the order after a space.\n",
      "    * Ensure that each order is clear, detailed, and actionable.\n",
      "    * If a group member is seeking clarification/help, provide additional information to help them complete the task or make an order to another member to collect the necessary information.\n",
      "- Only issue one order at a time.\n",
      "\n",
      "    \n",
      "\n",
      "2025/02/09 01:47:26 INFO dspy.teleprompt.mipro_optimizer_v2: 1: You are the leader of a team of financial researchers and analysts. Your task is to effectively coordinate the team's efforts to complete an investment strategy project within a limited number of allowed orders. You will be given a user task, the project's progress history, and the remaining number of orders you can issue. Your role includes:\n",
      "\n",
      "- Summarizing the current status of the project based on the provided history.\n",
      "- Deciding whether to issue a new order to a team member or to conclude the project if the task is completed.\n",
      "- If issuing an order, ensure it is clear, detailed, and actionable. Format orders as follows: \"[<name of staff>] <order>\", with the staff member's name in square brackets followed by the order.\n",
      "- If a team member requests clarification or help, provide additional information to assist them or issue an order to another member to gather necessary information.\n",
      "- Manage your orders efficiently to avoid exceeding the order limit and ensure timely project completion.\n",
      "\n",
      "2025/02/09 01:47:26 INFO dspy.teleprompt.mipro_optimizer_v2: \n",
      "\n",
      "2025/02/09 01:47:26 INFO dspy.teleprompt.mipro_optimizer_v2: Proposed Instructions for Predictor 1:\n",
      "\n",
      "2025/02/09 01:47:26 INFO dspy.teleprompt.mipro_optimizer_v2: 0: You are a Value_Factor_Researcher. As a value factor researcher, the individual must possess expertise in financial statement analysis, a strong understanding of valuation metrics, adeptness in Python for quantitative modeling, and the ability to work collaboratively in team settings to integrate the value perspective into broader investment strategies.\n",
      "\n",
      "Follow leader's order and give your answer. You will also be given the history of orders and responses to help you understand the context of the task.\n",
      "\n",
      "2025/02/09 01:47:26 INFO dspy.teleprompt.mipro_optimizer_v2: 1: You are a Value_Factor_Researcher, specializing in financial statement analysis and valuation metrics. Your task is to follow the leader's order and provide your analysis based on the given instructions. You will be provided with the history of orders and responses to ensure you understand the context of the project. Use your expertise in Python for quantitative modeling and collaborate effectively to integrate the value perspective into broader investment strategies. Respond with your findings and any additional insights that could assist in the completion of the project.\n",
      "\n",
      "2025/02/09 01:47:26 INFO dspy.teleprompt.mipro_optimizer_v2: \n",
      "\n",
      "2025/02/09 01:47:26 INFO dspy.teleprompt.mipro_optimizer_v2: Proposed Instructions for Predictor 2:\n",
      "\n",
      "2025/02/09 01:47:26 INFO dspy.teleprompt.mipro_optimizer_v2: 0: You are a Growth_Factor_Researcher. As a growth factor researcher, the individual must possess expertise in analyzing corporate growth indicators like earnings and revenue expansion, have strong Python skills for data analysis, and collaborate effectively in group settings to evaluate investment growth opportunities.\n",
      "\n",
      "Follow leader's order and give your answer. You will also be given the history of orders and responses to help you understand the context of the task.\n",
      "\n",
      "2025/02/09 01:47:26 INFO dspy.teleprompt.mipro_optimizer_v2: 1: You are a Growth_Factor_Researcher tasked with evaluating investment growth opportunities. You will receive an order from the project leader, along with a history of previous orders and responses to provide context. Your goal is to analyze corporate growth indicators such as earnings and revenue expansion using your expertise in data analysis. Respond to the leader's order with a detailed and actionable answer that aligns with the project's objectives. Ensure that your response is clear and contributes effectively to the team's collaborative efforts.\n",
      "\n",
      "2025/02/09 01:47:26 INFO dspy.teleprompt.mipro_optimizer_v2: \n",
      "\n",
      "2025/02/09 01:47:26 INFO dspy.teleprompt.mipro_optimizer_v2: Proposed Instructions for Predictor 3:\n",
      "\n",
      "2025/02/09 01:47:26 INFO dspy.teleprompt.mipro_optimizer_v2: 0: You are a Momentum_Factor_Researcher. As a momentum factor researcher, one needs to have the ability to identify and analyze market trends and price patterns, be proficient in Python for statistical analysis, and work collaboratively in a team to leverage momentum-based investment strategies.\n",
      "\n",
      "Follow leader's order and give your answer. You will also be given the history of orders and responses to help you understand the context of the task.\n",
      "\n",
      "2025/02/09 01:47:26 INFO dspy.teleprompt.mipro_optimizer_v2: 1: You are a Momentum_Factor_Researcher tasked with analyzing market trends and price patterns. Use your proficiency in Python for statistical analysis to complete the order given by the project leader. Review the history of orders and responses to understand the context and provide a well-informed response. Ensure your analysis contributes to the development of momentum-based investment strategies, and collaborate effectively with your team to achieve the project's objectives.\n",
      "\n",
      "2025/02/09 01:47:26 INFO dspy.teleprompt.mipro_optimizer_v2: \n",
      "\n",
      "2025/02/09 01:47:26 INFO dspy.teleprompt.mipro_optimizer_v2: Proposed Instructions for Predictor 4:\n",
      "\n",
      "2025/02/09 01:47:26 INFO dspy.teleprompt.mipro_optimizer_v2: 0: You are a Quality_Factor_Researcher. As a quality factor researcher, the individual should evaluate companies based on financial health and earnings quality, utilize Python for quantitative analysis, and engage in team discussions to integrate quality assessments into investment decisions.\n",
      "\n",
      "Follow leader's order and give your answer. You will also be given the history of orders and responses to help you understand the context of the task.\n",
      "\n",
      "2025/02/09 01:47:26 INFO dspy.teleprompt.mipro_optimizer_v2: 1: As a Quality_Factor_Researcher, your task is to evaluate companies based on their financial health and earnings quality. You will be provided with the history of previous orders and responses to understand the context of the ongoing project. Utilize Python for quantitative analysis to assess the quality factors of the companies in question. Follow the leader's order precisely and provide a detailed and actionable response. Your analysis should contribute to integrating quality assessments into investment decisions, ensuring that the findings align with the overall project goals and strategies. Make sure to communicate your findings clearly and collaborate effectively with team members to achieve the desired outcomes.\n",
      "\n",
      "2025/02/09 01:47:26 INFO dspy.teleprompt.mipro_optimizer_v2: \n",
      "\n",
      "2025/02/09 01:47:26 INFO dspy.teleprompt.mipro_optimizer_v2: Proposed Instructions for Predictor 5:\n",
      "\n",
      "2025/02/09 01:47:26 INFO dspy.teleprompt.mipro_optimizer_v2: 0: You are a Volatility_Factor_Researcher. As a volatility factor researcher, one must analyze price fluctuations and risk metrics, demonstrate strong Python skills for risk modeling, and contribute to team efforts in developing risk-adjusted trading strategies.\n",
      "\n",
      "Follow leader's order and give your answer. You will also be given the history of orders and responses to help you understand the context of the task.\n",
      "\n",
      "2025/02/09 01:47:26 INFO dspy.teleprompt.mipro_optimizer_v2: 1: As a Volatility_Factor_Researcher, your task is to analyze the given history of orders and responses to understand the context of the current project. Use your expertise in analyzing price fluctuations and risk metrics to develop a risk-adjusted trading strategy. Follow the leader's order closely and provide a detailed and actionable response. Ensure your analysis is supported by strong Python-based risk modeling techniques. Your response should not only address the current order but also contribute to the overall team effort by integrating your findings into the broader investment strategy being developed. Be mindful of the project's progress and any constraints indicated in the history to ensure your contribution aligns with the team's goals and the project's completion timeline.\n",
      "\n",
      "2025/02/09 01:47:26 INFO dspy.teleprompt.mipro_optimizer_v2: \n",
      "\n",
      "2025/02/09 01:47:26 INFO dspy.teleprompt.mipro_optimizer_v2: Proposed Instructions for Predictor 6:\n",
      "\n",
      "2025/02/09 01:47:26 INFO dspy.teleprompt.mipro_optimizer_v2: 0: You are a Liquidity_Factor_Researcher. As a liquidity factor researcher, the position requires the ability to assess asset tradeability and market depth, use Python for liquidity analysis, and collaborate with the team to incorporate liquidity insights into trading algorithms.\n",
      "\n",
      "Follow leader's order and give your answer. You will also be given the history of orders and responses to help you understand the context of the task.\n",
      "\n",
      "2025/02/09 01:47:26 INFO dspy.teleprompt.mipro_optimizer_v2: 1: You are a Liquidity_Factor_Researcher tasked with assessing asset tradeability and market depth. Utilize your expertise in Python for liquidity analysis to provide insights that can be integrated into trading algorithms. Given the history of orders and responses, follow the leader's order to deliver your analysis. Ensure your response is clear, detailed, and actionable, considering the context of the task as outlined in the project history.\n",
      "\n",
      "2025/02/09 01:47:26 INFO dspy.teleprompt.mipro_optimizer_v2: \n",
      "\n",
      "2025/02/09 01:47:26 INFO dspy.teleprompt.mipro_optimizer_v2: Proposed Instructions for Predictor 7:\n",
      "\n",
      "2025/02/09 01:47:26 INFO dspy.teleprompt.mipro_optimizer_v2: 0: You are a Sentiment_Factor_Researcher. As a sentiment factor researcher, the individual should analyze market sentiment and investor opinions, be adept in Python for processing and analyzing large sentiment data sets, and work with colleagues to factor sentiment analysis into market predictions.\n",
      "\n",
      "Follow leader's order and give your answer. You will also be given the history of orders and responses to help you understand the context of the task.\n",
      "\n",
      "2025/02/09 01:47:26 INFO dspy.teleprompt.mipro_optimizer_v2: 1: You are a Sentiment_Factor_Researcher. Your task is to analyze market sentiment and investor opinions, utilizing your expertise in Python to process and analyze large sentiment data sets. You will be provided with the history of orders and responses to understand the context of the task. Follow the leader's order to contribute effectively to the project. Use your insights to factor sentiment analysis into market predictions and respond with your findings to aid in the completion of the project.\n",
      "\n",
      "2025/02/09 01:47:26 INFO dspy.teleprompt.mipro_optimizer_v2: \n",
      "\n",
      "2025/02/09 01:47:26 INFO dspy.teleprompt.mipro_optimizer_v2: Proposed Instructions for Predictor 8:\n",
      "\n",
      "2025/02/09 01:47:26 INFO dspy.teleprompt.mipro_optimizer_v2: 0: You are a Macro_Factor_Researcher. As a macro factor researcher, one needs to understand the impact of macroeconomic indicators on markets, have strong Python skills for econometric analysis, and engage collaboratively in aligning investment strategies with macroeconomic conditions.\n",
      "\n",
      "Follow leader's order and give your answer. You will also be given the history of orders and responses to help you understand the context of the task.\n",
      "\n",
      "2025/02/09 01:47:26 INFO dspy.teleprompt.mipro_optimizer_v2: 1: As a Macro_Factor_Researcher, your task is to analyze macroeconomic indicators and their impact on the market as part of a collaborative project. You will receive a specific order from the project leader, along with a history of previous orders and responses to provide context. Use your expertise in econometric analysis and Python to fulfill the order, ensuring your response aligns with the overall investment strategy being developed. Provide a detailed and precise response based on the leader's instructions and the historical context provided.\n",
      "\n",
      "2025/02/09 01:47:26 INFO dspy.teleprompt.mipro_optimizer_v2: \n",
      "\n",
      "2025/02/09 01:47:26 INFO dspy.teleprompt.mipro_optimizer_v2: Proposed Instructions for Predictor 9:\n",
      "\n",
      "2025/02/09 01:47:26 INFO dspy.teleprompt.mipro_optimizer_v2: 0: You are a Portfolio_Manager. As a portfolio manager, the individual must integrate findings from various factor analyses to create and manage comprehensive investment strategies, demonstrate proficiency in Python for strategy development, and work collaboratively to ensure that these strategies meet the firm’s investment goals and risk tolerance.\n",
      "\n",
      "Follow leader's order and give your answer. You will also be given the history of orders and responses to help you understand the context of the task.\n",
      "\n",
      "2025/02/09 01:47:26 INFO dspy.teleprompt.mipro_optimizer_v2: 1: As a Portfolio_Manager, your role is to synthesize insights from the team's factor analyses into cohesive investment strategies that align with the firm’s objectives and risk parameters. Utilize the history of orders and responses provided to you to understand the project's context and follow the leader's directive to deliver your response. Ensure your strategy is well-structured, incorporates the diverse expertise of the team, and is adaptable to market conditions. Your response should be clear, actionable, and demonstrate your proficiency in Python for strategy development.\n",
      "\n",
      "2025/02/09 01:47:26 INFO dspy.teleprompt.mipro_optimizer_v2: \n",
      "\n",
      "2025/02/09 01:47:26 INFO dspy.teleprompt.mipro_optimizer_v2: Proposed Instructions for Predictor 10:\n",
      "\n",
      "2025/02/09 01:47:26 INFO dspy.teleprompt.mipro_optimizer_v2: 0: You are a Quantitative_Analyst. As a quantitative analyst, one is responsible for validating investment strategies and factors, conducting back-tests and risk assessments using Python, and collaborating with the team to ensure that the investment approach is both statistically sound and aligned with risk management protocols.\n",
      "\n",
      "Follow leader's order and give your answer. You will also be given the history of orders and responses to help you understand the context of the task.\n",
      "\n",
      "2025/02/09 01:47:26 INFO dspy.teleprompt.mipro_optimizer_v2: 1: As a Quantitative_Analyst, your role is to validate the investment strategies and factors presented by your team. You are tasked with conducting thorough back-tests and assessing risk using Python, ensuring that the strategies are both statistically sound and in line with risk management protocols. Utilize the history of orders and responses to understand the context and provide a comprehensive analysis. Follow the leader's order precisely, and when offering your answer, ensure it is detailed and supports the project's goals of developing robust investment strategies. Be prepared to collaborate and provide insights that can refine the approach, ensuring it meets the firm's investment objectives.\n",
      "\n",
      "2025/02/09 01:47:26 INFO dspy.teleprompt.mipro_optimizer_v2: \n",
      "\n",
      "2025/02/09 01:47:26 INFO dspy.teleprompt.mipro_optimizer_v2: Proposed Instructions for Predictor 11:\n",
      "\n",
      "2025/02/09 01:47:26 INFO dspy.teleprompt.mipro_optimizer_v2: 0: You are a Financial_Data_Specialist. As a financial information officer, the individual is responsible for gathering, processing, analyzing, and extracting key financial information from structured and unstructured data sources.\n",
      "\n",
      "Follow leader's order and give your answer. You will also be given the history of orders and responses to help you understand the context of the task.\n",
      "\n",
      "2025/02/09 01:47:26 INFO dspy.teleprompt.mipro_optimizer_v2: 1: You are a Financial_Data_Specialist tasked with processing and extracting key financial information from both structured and unstructured data sources. Your role is to follow the leader's order precisely and provide your analysis based on the task given. You will be provided with the history of previous orders and responses to help you understand the context and progress of the project. Use this information to ensure your response is accurate and contributes effectively to the project's goals.\n",
      "\n",
      "2025/02/09 01:47:26 INFO dspy.teleprompt.mipro_optimizer_v2: \n",
      "\n",
      "2025/02/09 01:47:26 INFO dspy.teleprompt.mipro_optimizer_v2: Evaluating the default program...\n",
      "\n"
     ]
    },
    {
     "name": "stdout",
     "output_type": "stream",
     "text": [
      "Average Metric: 78.70 / 240 (32.8%): 100%|██████████| 240/240 [00:26<00:00,  8.94it/s]"
     ]
    },
    {
     "name": "stderr",
     "output_type": "stream",
     "text": [
      "2025/02/09 01:47:54 INFO dspy.evaluate.evaluate: Average Metric: 78.69535235418194 / 240 (32.8%)\n",
      "2025/02/09 01:47:54 INFO dspy.teleprompt.mipro_optimizer_v2: Default program score: 32.79\n",
      "\n",
      "2025/02/09 01:47:54 INFO dspy.teleprompt.mipro_optimizer_v2: ==> STEP 3: FINDING OPTIMAL PROMPT PARAMETERS <==\n",
      "2025/02/09 01:47:54 INFO dspy.teleprompt.mipro_optimizer_v2: We will evaluate the program over a series of trials with different combinations of instructions and few-shot examples to find the optimal combination using Bayesian Optimization.\n",
      "\n",
      "2025/02/09 01:47:54 INFO dspy.teleprompt.mipro_optimizer_v2: == Minibatch Trial 1 / 25 ==\n"
     ]
    },
    {
     "name": "stdout",
     "output_type": "stream",
     "text": [
      "\n",
      "  0%|          | 0/50 [00:00<?, ?it/s]"
     ]
    },
    {
     "name": "stderr",
     "output_type": "stream",
     "text": [
      "2025/02/09 01:47:55 ERROR dspy.utils.parallelizer: Error processing item Example({'task': 'Does the news headline talk about price going down? Please choose an answer from {Yes/No}.\\napril gold down 20 cents to settle at $1,116.10/oz', 'mode': 'headline_classification', 'label': 'Yes'}) (input_keys={'task'}): Invalid order string format. Ensure it follows '[<name of staff>] <order>'.. Set `provide_traceback=True` to see the stack trace.\n"
     ]
    },
    {
     "name": "stdout",
     "output_type": "stream",
     "text": [
      "Average Metric: 0.00 / 0 (0%):   2%|▏         | 1/50 [00:00<00:34,  1.44it/s]"
     ]
    },
    {
     "name": "stderr",
     "output_type": "stream",
     "text": [
      "2025/02/09 01:47:55 ERROR dspy.utils.parallelizer: Error processing item Example({'task': 'Does the news headline compare gold with any other asset? Please choose an answer from {Yes/No}.\\nDec. gold climbs $9.40, or 0.7%, to settle at $1,356.90/oz', 'mode': 'headline_classification', 'label': 'No'}) (input_keys={'task'}): Invalid order string format. Ensure it follows '[<name of staff>] <order>'.. Set `provide_traceback=True` to see the stack trace.\n"
     ]
    },
    {
     "name": "stdout",
     "output_type": "stream",
     "text": [
      "Average Metric: 0.00 / 0 (0%):   4%|▍         | 2/50 [00:00<00:17,  2.75it/s]"
     ]
    },
    {
     "name": "stderr",
     "output_type": "stream",
     "text": [
      "2025/02/09 01:47:55 ERROR dspy.utils.parallelizer: Error processing item Example({'task': 'What is the sentiment of this tweet? Please choose an answer from {negative/neutral/positive}.\\nLayoffs Loom as Canadian Rail Strike Hits Chemicals, Farmers', 'mode': 'sentiment_analysis', 'label': 'neutral'}) (input_keys={'task'}): Invalid order string format. Ensure it follows '[<name of staff>] <order>'.. Set `provide_traceback=True` to see the stack trace.\n"
     ]
    },
    {
     "name": "stdout",
     "output_type": "stream",
     "text": [
      "Average Metric: 0.00 / 0 (0%):   6%|▌         | 3/50 [00:00<00:12,  3.87it/s]"
     ]
    },
    {
     "name": "stderr",
     "output_type": "stream",
     "text": [
      "2025/02/09 01:47:55 ERROR dspy.utils.parallelizer: Error processing item Example({'task': 'What is the sentiment of this news? Please choose an answer from {negative/neutral/positive}.\\nTesco sales rise shows tentative recovery continues', 'mode': 'sentiment_analysis', 'label': 'positive'}) (input_keys={'task'}): Invalid order string format. Ensure it follows '[<name of staff>] <order>'.. Set `provide_traceback=True` to see the stack trace.\n"
     ]
    },
    {
     "name": "stdout",
     "output_type": "stream",
     "text": [
      "Average Metric: 0.00 / 0 (0%):   8%|▊         | 4/50 [00:01<00:09,  4.73it/s]"
     ]
    },
    {
     "name": "stderr",
     "output_type": "stream",
     "text": [
      "2025/02/09 01:47:55 ERROR dspy.utils.parallelizer: Error processing item Example({'task': 'Utilize your financial knowledge, give your answer or opinion to the input question or subject . Answer format is not limited.\\nValuing a small business to invest in ', 'mode': 'fiqa', 'label': 'It should be pretty obvious that without knowing what sort of assets the company owns, and what sort of net earnings are being generated it\\'s impossible to say what a $20k equity investment should get you in terms of ownership percentage.   With that said, you want to look at a few to several years of books, look for trends.  Some things to understand that might be subtle red flags: It\\'s extremely common for early stage investors to essentially make loans rather than strictly buying shares.  In the worst case scenario creditors get to participate in liquidation proceedings before shareholders do.  You may be better off investing in this business via a loan that\\'s convertible to equity at your discretion.   Single owner service companies are difficult because all of the net earnings go to the proprietor and that person maintains all of the relationships.  So taking something like 5 years of net earnings as the value of the company doesn\\'t make much sense because you (or someone else) couldn\\'t just step in and replace the owner.  Granted, you aren\\'t contemplating taking over the business, but it negates using an X years of net earnings valuation method.  When you read about valuation there is a sort of overriding assumption that no single person could topple the operation which couldn\\'t be farther from the truth in single employee service companies.  Additionally, understand that your investment in a single owner company hinges completely on one person\\'s ability and willingness to work. It\\'s really vital to understand the purpose of the funds.  Someone will be hired?  $20,000 couldn\\'t be even six months of wages... Put things in to perspective with a pad, pen and calculator.  Don\\'t invest in the pipe dream of a friend of yours, and DEFINITELY don\\'t hand this person the downpayment for their new house.  The first rule of investing is \"don\\'t lose money,\" this isn\\'t emotional, this is a dollars and cents pragmatic process. Why does the business need this money?  How will you be paid back?   Personally, I think it would be more gratifying to put $20k in a blender and watch it blend, this is probably a horrible investment.  The risk should just be left to credit card companies.'}) (input_keys={'task'}): 'Market_Researcher'. Set `provide_traceback=True` to see the stack trace.\n"
     ]
    },
    {
     "name": "stdout",
     "output_type": "stream",
     "text": [
      "Average Metric: 0.00 / 0 (0%):  10%|█         | 5/50 [00:01<00:11,  3.77it/s]"
     ]
    },
    {
     "name": "stderr",
     "output_type": "stream",
     "text": [
      "2025/02/09 01:47:59 ERROR dspy.utils.parallelizer: Error processing item Example({'task': 'What is the sentiment of this news? Please choose an answer from {strong negative/moderately negative/mildly negative/neutral/mildly positive/moderately positive/strong positive}.\\nThe cuts across several areas of Microsoft is less drastic than a sales reorganization announced five years ago.', 'mode': 'sentiment_analysis', 'label': 'neutral'}) (input_keys={'task'}): Invalid order string format. Ensure it follows '[<name of staff>] <order>'.. Set `provide_traceback=True` to see the stack trace.\n"
     ]
    },
    {
     "name": "stdout",
     "output_type": "stream",
     "text": [
      "Average Metric: 0.00 / 0 (0%):  12%|█▏        | 6/50 [00:04<01:00,  1.37s/it]"
     ]
    },
    {
     "name": "stderr",
     "output_type": "stream",
     "text": [
      "2025/02/09 01:48:00 ERROR dspy.utils.parallelizer: Error processing item Example({'task': 'What is the sentiment of this news? Please choose an answer from {strong negative/moderately negative/mildly negative/neutral/mildly positive/moderately positive/strong positive}.\\nThe economy has been facing severe headwinds, with only a few sectors holding firm. Earlier this year, several technology stocks were doused in red ink after their Q4 earnings calls.', 'mode': 'sentiment_analysis', 'label': 'mildly negative'}) (input_keys={'task'}): Invalid order string format. Ensure it follows '[<name of staff>] <order>'.. Set `provide_traceback=True` to see the stack trace.\n"
     ]
    },
    {
     "name": "stdout",
     "output_type": "stream",
     "text": [
      "Average Metric: 0.00 / 1 (0.0%):  16%|█▌        | 8/50 [00:06<00:39,  1.06it/s]"
     ]
    },
    {
     "name": "stderr",
     "output_type": "stream",
     "text": [
      "2025/02/09 01:48:00 ERROR dspy.utils.parallelizer: Error processing item Example({'task': 'Does the news headline talk about price going up? Please choose an answer from {Yes/No}.\\nGold snaps three-day rally as Trump, lawmakers reach debt-ceiling deal', 'mode': 'headline_classification', 'label': 'Yes'}) (input_keys={'task'}): Invalid order string format. Ensure it follows '[<name of staff>] <order>'.. Set `provide_traceback=True` to see the stack trace.\n"
     ]
    },
    {
     "name": "stdout",
     "output_type": "stream",
     "text": [
      "Average Metric: 0.00 / 2 (0.0%):  20%|██        | 10/50 [00:06<00:24,  1.61it/s]"
     ]
    },
    {
     "name": "stderr",
     "output_type": "stream",
     "text": [
      "2025/02/09 01:48:02 ERROR dspy.utils.parallelizer: Error processing item Example({'task': 'Does the news headline compare gold with any other asset? Please choose an answer from {Yes/No}.\\napril gold down 20 cents to settle at $1,116.10/oz', 'mode': 'headline_classification', 'label': 'No'}) (input_keys={'task'}): Invalid order string format. Ensure it follows '[<name of staff>] <order>'.. Set `provide_traceback=True` to see the stack trace.\n"
     ]
    },
    {
     "name": "stdout",
     "output_type": "stream",
     "text": [
      "Average Metric: 0.00 / 2 (0.0%):  22%|██▏       | 11/50 [00:07<00:29,  1.34it/s]"
     ]
    },
    {
     "name": "stderr",
     "output_type": "stream",
     "text": [
      "2025/02/09 01:48:27 INFO dspy.teleprompt.mipro_optimizer_v2: Score: 0.0 on minibatch of size 50 with parameters ['Predictor 0: Instruction 1', 'Predictor 0: Few-Shot Set 0', 'Predictor 1: Instruction 1', 'Predictor 1: Few-Shot Set 0', 'Predictor 2: Instruction 1', 'Predictor 2: Few-Shot Set 1', 'Predictor 3: Instruction 0', 'Predictor 3: Few-Shot Set 0', 'Predictor 4: Instruction 0', 'Predictor 4: Few-Shot Set 1', 'Predictor 5: Instruction 1', 'Predictor 5: Few-Shot Set 0', 'Predictor 6: Instruction 0', 'Predictor 6: Few-Shot Set 0', 'Predictor 7: Instruction 1', 'Predictor 7: Few-Shot Set 1', 'Predictor 8: Instruction 0', 'Predictor 8: Few-Shot Set 1', 'Predictor 9: Instruction 0', 'Predictor 9: Few-Shot Set 1', 'Predictor 10: Instruction 0', 'Predictor 10: Few-Shot Set 0', 'Predictor 11: Instruction 0', 'Predictor 11: Few-Shot Set 1'].\n",
      "2025/02/09 01:48:27 INFO dspy.teleprompt.mipro_optimizer_v2: Minibatch scores so far: [0.0]\n",
      "2025/02/09 01:48:27 INFO dspy.teleprompt.mipro_optimizer_v2: Full eval scores so far: [32.79]\n",
      "2025/02/09 01:48:27 INFO dspy.teleprompt.mipro_optimizer_v2: Best full score so far: 32.79\n",
      "2025/02/09 01:48:27 INFO dspy.teleprompt.mipro_optimizer_v2: ============================\n",
      "\n",
      "\n",
      "2025/02/09 01:48:27 INFO dspy.teleprompt.mipro_optimizer_v2: == Minibatch Trial 2 / 25 ==\n"
     ]
    },
    {
     "name": "stdout",
     "output_type": "stream",
     "text": [
      "Exception occurred: Invalid order string format. Ensure it follows '[<name of staff>] <order>'.\n",
      "Average Metric: 18.58 / 50 (37.2%): 100%|██████████| 50/50 [00:27<00:00,  1.80it/s]"
     ]
    },
    {
     "name": "stderr",
     "output_type": "stream",
     "text": [
      "2025/02/09 01:48:55 INFO dspy.evaluate.evaluate: Average Metric: 18.576928635953028 / 50 (37.2%)\n",
      "2025/02/09 01:48:55 INFO dspy.teleprompt.mipro_optimizer_v2: Score: 37.15 on minibatch of size 50 with parameters ['Predictor 0: Instruction 0', 'Predictor 0: Few-Shot Set 0', 'Predictor 1: Instruction 0', 'Predictor 1: Few-Shot Set 1', 'Predictor 2: Instruction 0', 'Predictor 2: Few-Shot Set 1', 'Predictor 3: Instruction 1', 'Predictor 3: Few-Shot Set 0', 'Predictor 4: Instruction 0', 'Predictor 4: Few-Shot Set 0', 'Predictor 5: Instruction 1', 'Predictor 5: Few-Shot Set 0', 'Predictor 6: Instruction 1', 'Predictor 6: Few-Shot Set 1', 'Predictor 7: Instruction 1', 'Predictor 7: Few-Shot Set 0', 'Predictor 8: Instruction 0', 'Predictor 8: Few-Shot Set 1', 'Predictor 9: Instruction 0', 'Predictor 9: Few-Shot Set 0', 'Predictor 10: Instruction 0', 'Predictor 10: Few-Shot Set 0', 'Predictor 11: Instruction 1', 'Predictor 11: Few-Shot Set 0'].\n",
      "2025/02/09 01:48:55 INFO dspy.teleprompt.mipro_optimizer_v2: Minibatch scores so far: [0.0, 37.15]\n",
      "2025/02/09 01:48:55 INFO dspy.teleprompt.mipro_optimizer_v2: Full eval scores so far: [32.79]\n",
      "2025/02/09 01:48:55 INFO dspy.teleprompt.mipro_optimizer_v2: Best full score so far: 32.79\n",
      "2025/02/09 01:48:55 INFO dspy.teleprompt.mipro_optimizer_v2: ============================\n",
      "\n",
      "\n",
      "2025/02/09 01:48:55 INFO dspy.teleprompt.mipro_optimizer_v2: == Minibatch Trial 3 / 25 ==\n"
     ]
    },
    {
     "name": "stdout",
     "output_type": "stream",
     "text": [
      "\n",
      "Average Metric: 0.00 / 2 (0.0%):  22%|██▏       | 11/50 [01:19<04:41,  7.23s/it]/s]\n",
      "Average Metric: 12.19 / 50 (24.4%): 100%|██████████| 50/50 [00:28<00:00,  1.74it/s]"
     ]
    },
    {
     "name": "stderr",
     "output_type": "stream",
     "text": [
      "2025/02/09 01:49:25 INFO dspy.evaluate.evaluate: Average Metric: 12.187493987493987 / 50 (24.4%)\n",
      "2025/02/09 01:49:25 INFO dspy.teleprompt.mipro_optimizer_v2: Score: 24.37 on minibatch of size 50 with parameters ['Predictor 0: Instruction 0', 'Predictor 0: Few-Shot Set 0', 'Predictor 1: Instruction 0', 'Predictor 1: Few-Shot Set 0', 'Predictor 2: Instruction 0', 'Predictor 2: Few-Shot Set 0', 'Predictor 3: Instruction 1', 'Predictor 3: Few-Shot Set 1', 'Predictor 4: Instruction 1', 'Predictor 4: Few-Shot Set 1', 'Predictor 5: Instruction 1', 'Predictor 5: Few-Shot Set 1', 'Predictor 6: Instruction 1', 'Predictor 6: Few-Shot Set 0', 'Predictor 7: Instruction 1', 'Predictor 7: Few-Shot Set 1', 'Predictor 8: Instruction 1', 'Predictor 8: Few-Shot Set 1', 'Predictor 9: Instruction 0', 'Predictor 9: Few-Shot Set 1', 'Predictor 10: Instruction 0', 'Predictor 10: Few-Shot Set 0', 'Predictor 11: Instruction 1', 'Predictor 11: Few-Shot Set 1'].\n",
      "2025/02/09 01:49:25 INFO dspy.teleprompt.mipro_optimizer_v2: Minibatch scores so far: [0.0, 37.15, 24.37]\n",
      "2025/02/09 01:49:25 INFO dspy.teleprompt.mipro_optimizer_v2: Full eval scores so far: [32.79]\n",
      "2025/02/09 01:49:25 INFO dspy.teleprompt.mipro_optimizer_v2: Best full score so far: 32.79\n",
      "2025/02/09 01:49:25 INFO dspy.teleprompt.mipro_optimizer_v2: ============================\n",
      "\n",
      "\n",
      "2025/02/09 01:49:25 INFO dspy.teleprompt.mipro_optimizer_v2: == Minibatch Trial 4 / 25 ==\n"
     ]
    },
    {
     "name": "stdout",
     "output_type": "stream",
     "text": [
      "\n",
      "Average Metric: 15.51 / 50 (31.0%): 100%|██████████| 50/50 [00:20<00:00,  2.47it/s]"
     ]
    },
    {
     "name": "stderr",
     "output_type": "stream",
     "text": [
      "2025/02/09 01:49:46 INFO dspy.evaluate.evaluate: Average Metric: 15.506555170624091 / 50 (31.0%)\n",
      "2025/02/09 01:49:46 INFO dspy.teleprompt.mipro_optimizer_v2: Score: 31.01 on minibatch of size 50 with parameters ['Predictor 0: Instruction 0', 'Predictor 0: Few-Shot Set 1', 'Predictor 1: Instruction 1', 'Predictor 1: Few-Shot Set 0', 'Predictor 2: Instruction 0', 'Predictor 2: Few-Shot Set 0', 'Predictor 3: Instruction 0', 'Predictor 3: Few-Shot Set 0', 'Predictor 4: Instruction 0', 'Predictor 4: Few-Shot Set 0', 'Predictor 5: Instruction 1', 'Predictor 5: Few-Shot Set 0', 'Predictor 6: Instruction 0', 'Predictor 6: Few-Shot Set 1', 'Predictor 7: Instruction 0', 'Predictor 7: Few-Shot Set 1', 'Predictor 8: Instruction 1', 'Predictor 8: Few-Shot Set 0', 'Predictor 9: Instruction 0', 'Predictor 9: Few-Shot Set 0', 'Predictor 10: Instruction 0', 'Predictor 10: Few-Shot Set 0', 'Predictor 11: Instruction 1', 'Predictor 11: Few-Shot Set 0'].\n",
      "2025/02/09 01:49:46 INFO dspy.teleprompt.mipro_optimizer_v2: Minibatch scores so far: [0.0, 37.15, 24.37, 31.01]\n",
      "2025/02/09 01:49:46 INFO dspy.teleprompt.mipro_optimizer_v2: Full eval scores so far: [32.79]\n",
      "2025/02/09 01:49:46 INFO dspy.teleprompt.mipro_optimizer_v2: Best full score so far: 32.79\n",
      "2025/02/09 01:49:46 INFO dspy.teleprompt.mipro_optimizer_v2: ============================\n",
      "\n",
      "\n",
      "2025/02/09 01:49:46 INFO dspy.teleprompt.mipro_optimizer_v2: ===== Full Eval 1 =====\n",
      "2025/02/09 01:49:46 INFO dspy.teleprompt.mipro_optimizer_v2: Doing full eval on next top averaging program (Avg Score: 37.15) from minibatch trials...\n"
     ]
    },
    {
     "name": "stdout",
     "output_type": "stream",
     "text": [
      "\n",
      "Average Metric: 66.15 / 240 (27.6%): 100%|██████████| 240/240 [02:03<00:00,  1.95it/s]"
     ]
    },
    {
     "name": "stderr",
     "output_type": "stream",
     "text": [
      "2025/02/09 01:51:50 INFO dspy.evaluate.evaluate: Average Metric: 66.14863210098498 / 240 (27.6%)\n",
      "2025/02/09 01:51:50 INFO dspy.teleprompt.mipro_optimizer_v2: Full eval scores so far: [32.79, 27.56]\n",
      "2025/02/09 01:51:50 INFO dspy.teleprompt.mipro_optimizer_v2: Best full score so far: 32.79\n",
      "2025/02/09 01:51:50 INFO dspy.teleprompt.mipro_optimizer_v2: =======================\n",
      "2025/02/09 01:51:50 INFO dspy.teleprompt.mipro_optimizer_v2: \n",
      "\n",
      "2025/02/09 01:51:50 INFO dspy.teleprompt.mipro_optimizer_v2: == Minibatch Trial 5 / 25 ==\n",
      "2025/02/09 01:51:50 ERROR dspy.utils.parallelizer: Error processing item Example({'task': 'What is the sentiment of this news? Please choose an answer from {strong negative/moderately negative/mildly negative/neutral/mildly positive/moderately positive/strong positive}.\\nThe economy has been facing severe headwinds, with only a few sectors holding firm. Earlier this year, several technology stocks were doused in red ink after their Q4 earnings calls.', 'mode': 'sentiment_analysis', 'label': 'mildly negative'}) (input_keys={'task'}): Invalid order string format. Ensure it follows '[<name of staff>] <order>'.. Set `provide_traceback=True` to see the stack trace.\n",
      "2025/02/09 01:51:50 ERROR dspy.utils.parallelizer: Error processing item Example({'task': 'Does the news headline talk about a general event (apart from prices) in the past? Please choose an answer from {Yes/No}.\\nGold futures edge up after two-session decline', 'mode': 'headline_classification', 'label': 'No'}) (input_keys={'task'}): Invalid order string format. Ensure it follows '[<name of staff>] <order>'.. Set `provide_traceback=True` to see the stack trace.\n"
     ]
    },
    {
     "name": "stdout",
     "output_type": "stream",
     "text": [
      "\n",
      "Average Metric: 0.00 / 4 (0.0%):  10%|█         | 5/50 [00:01<00:01, 37.05it/s]"
     ]
    },
    {
     "name": "stderr",
     "output_type": "stream",
     "text": [
      "2025/02/09 01:51:51 ERROR dspy.utils.parallelizer: Error processing item Example({'task': 'What is the sentiment of this news? Please choose an answer from {negative/neutral/positive}.\\nThe customer is cooperative retailer Osuuskauppa Suur-Savo .', 'mode': 'sentiment_analysis', 'label': 'neutral'}) (input_keys={'task'}): Invalid order string format. Ensure it follows '[<name of staff>] <order>'.. Set `provide_traceback=True` to see the stack trace.\n"
     ]
    },
    {
     "name": "stdout",
     "output_type": "stream",
     "text": [
      "Average Metric: 0.00 / 4 (0.0%):  12%|█▏        | 6/50 [00:01<00:01, 37.05it/s]"
     ]
    },
    {
     "name": "stderr",
     "output_type": "stream",
     "text": [
      "2025/02/09 01:51:51 ERROR dspy.utils.parallelizer: Error processing item Example({'task': 'Does the news headline compare gold with any other asset? Please choose an answer from {Yes/No}.\\ngold suffers third straight daily decline', 'mode': 'headline_classification', 'label': 'No'}) (input_keys={'task'}): Invalid order string format. Ensure it follows '[<name of staff>] <order>'.. Set `provide_traceback=True` to see the stack trace.\n"
     ]
    },
    {
     "name": "stdout",
     "output_type": "stream",
     "text": [
      "Average Metric: 0.00 / 4 (0.0%):  16%|█▌        | 8/50 [00:01<00:08,  4.87it/s]"
     ]
    },
    {
     "name": "stderr",
     "output_type": "stream",
     "text": [
      "2025/02/09 01:51:52 ERROR dspy.utils.parallelizer: Error processing item Example({'task': 'Offer your insights or judgment on the input financial query or topic using your financial expertise. Reply as normal question answering\\n1 EIN doing business under multiple business names', 'mode': 'fiqa', 'label': \"You're confusing a lot of things here. Company B LLC will have it's sales run under Company A LLC, and cease operating as a separate entity These two are contradicting each other. If B LLC ceases to exist - it is not going to have it's sales run under A LLC, since there will be no sales to run for a non-existent company. What happens is that you merge B LLC into A LLC, and then convert A LLC into S Corp. So you're cancelling the EIN for B LLC, you're cancelling the EIN for A LLC - because both entities cease to exist. You then create a EIN for A Corp, which is the converted A LLC, and you create a DBA where A Corp DBA B Shop. You then go to the bank and open the account for A Corp DBA B Shop with the EIN you just created for A Corp. Get a better accountant. Before you convert to S-Corp.\"}) (input_keys={'task'}): Invalid order string format. Ensure it follows '[<name of staff>] <order>'.. Set `provide_traceback=True` to see the stack trace.\n"
     ]
    },
    {
     "name": "stdout",
     "output_type": "stream",
     "text": [
      "Average Metric: 0.00 / 4 (0.0%):  16%|█▌        | 8/50 [00:01<00:08,  4.87it/s]"
     ]
    },
    {
     "name": "stderr",
     "output_type": "stream",
     "text": [
      "2025/02/09 01:51:52 ERROR dspy.utils.parallelizer: Error processing item Example({'task': 'What is the sentiment of this tweet? Please choose an answer from {negative/neutral/positive}.\\n$HCP Come to the party and buy this -gonna give solid gains and a dividend $$$$$$', 'mode': 'sentiment_analysis', 'label': 'positive'}) (input_keys={'task'}): Invalid order string format. Ensure it follows '[<name of staff>] <order>'.. Set `provide_traceback=True` to see the stack trace.\n"
     ]
    },
    {
     "name": "stdout",
     "output_type": "stream",
     "text": [
      "Average Metric: 0.00 / 4 (0.0%):  20%|██        | 10/50 [00:01<00:07,  5.67it/s]"
     ]
    },
    {
     "name": "stderr",
     "output_type": "stream",
     "text": [
      "2025/02/09 01:51:53 ERROR dspy.utils.parallelizer: Error processing item Example({'task': 'Does the news headline talk about price? Please choose an answer from {Yes/No}.\\nGold futures fall for the session, but gain for the week', 'mode': 'headline_classification', 'label': 'No'}) (input_keys={'task'}): Invalid order string format. Ensure it follows '[<name of staff>] <order>'.. Set `provide_traceback=True` to see the stack trace.\n"
     ]
    },
    {
     "name": "stdout",
     "output_type": "stream",
     "text": [
      "Average Metric: 0.00 / 4 (0.0%):  20%|██        | 10/50 [00:03<00:07,  5.67it/s]"
     ]
    },
    {
     "name": "stderr",
     "output_type": "stream",
     "text": [
      "2025/02/09 01:51:53 ERROR dspy.utils.parallelizer: Error processing item Example({'task': 'Does the news headline talk about price in the past? Please choose an answer from {Yes/No}.\\nGold futures fall for the session, but gain for the week', 'mode': 'headline_classification', 'label': 'Yes'}) (input_keys={'task'}): Invalid order string format. Ensure it follows '[<name of staff>] <order>'.. Set `provide_traceback=True` to see the stack trace.\n"
     ]
    },
    {
     "name": "stdout",
     "output_type": "stream",
     "text": [
      "Average Metric: 0.00 / 4 (0.0%):  24%|██▍       | 12/50 [00:03<00:14,  2.66it/s]"
     ]
    },
    {
     "name": "stderr",
     "output_type": "stream",
     "text": [
      "2025/02/09 01:51:55 ERROR dspy.utils.parallelizer: Error processing item Example({'task': 'Does the news headline talk about price going up? Please choose an answer from {Yes/No}.\\nGold futures fall for the session, but gain for the week', 'mode': 'headline_classification', 'label': 'Yes'}) (input_keys={'task'}): Invalid order string format. Ensure it follows '[<name of staff>] <order>'.. Set `provide_traceback=True` to see the stack trace.\n"
     ]
    },
    {
     "name": "stdout",
     "output_type": "stream",
     "text": [
      "Average Metric: 0.00 / 4 (0.0%):  26%|██▌       | 13/50 [00:05<00:24,  1.52it/s]"
     ]
    },
    {
     "name": "stderr",
     "output_type": "stream",
     "text": [
      "2025/02/09 01:52:32 INFO dspy.teleprompt.mipro_optimizer_v2: Score: 0.0 on minibatch of size 50 with parameters ['Predictor 0: Instruction 1', 'Predictor 0: Few-Shot Set 0', 'Predictor 1: Instruction 1', 'Predictor 1: Few-Shot Set 1', 'Predictor 2: Instruction 0', 'Predictor 2: Few-Shot Set 1', 'Predictor 3: Instruction 1', 'Predictor 3: Few-Shot Set 1', 'Predictor 4: Instruction 1', 'Predictor 4: Few-Shot Set 0', 'Predictor 5: Instruction 1', 'Predictor 5: Few-Shot Set 0', 'Predictor 6: Instruction 1', 'Predictor 6: Few-Shot Set 1', 'Predictor 7: Instruction 1', 'Predictor 7: Few-Shot Set 0', 'Predictor 8: Instruction 0', 'Predictor 8: Few-Shot Set 0', 'Predictor 9: Instruction 1', 'Predictor 9: Few-Shot Set 1', 'Predictor 10: Instruction 0', 'Predictor 10: Few-Shot Set 1', 'Predictor 11: Instruction 1', 'Predictor 11: Few-Shot Set 1'].\n",
      "2025/02/09 01:52:32 INFO dspy.teleprompt.mipro_optimizer_v2: Minibatch scores so far: [0.0, 37.15, 24.37, 31.01, 0.0]\n",
      "2025/02/09 01:52:32 INFO dspy.teleprompt.mipro_optimizer_v2: Full eval scores so far: [32.79, 27.56]\n",
      "2025/02/09 01:52:32 INFO dspy.teleprompt.mipro_optimizer_v2: Best full score so far: 32.79\n",
      "2025/02/09 01:52:32 INFO dspy.teleprompt.mipro_optimizer_v2: ============================\n",
      "\n",
      "\n",
      "2025/02/09 01:52:32 INFO dspy.teleprompt.mipro_optimizer_v2: == Minibatch Trial 6 / 25 ==\n",
      "2025/02/09 01:52:32 ERROR dspy.utils.parallelizer: Error processing item Example({'task': 'Does the news headline talk about price in the past? Please choose an answer from {Yes/No}.\\nGold futures fall for the session, but gain for the week', 'mode': 'headline_classification', 'label': 'Yes'}) (input_keys={'task'}): Invalid order string format. Ensure it follows '[<name of staff>] <order>'.. Set `provide_traceback=True` to see the stack trace.\n"
     ]
    },
    {
     "name": "stdout",
     "output_type": "stream",
     "text": [
      "Exception occurred: Invalid order string format. Ensure it follows '[<name of staff>] <order>'.\n"
     ]
    },
    {
     "name": "stderr",
     "output_type": "stream",
     "text": [
      "2025/02/09 01:52:33 ERROR dspy.utils.parallelizer: Error processing item Example({'task': 'What is the sentiment of this tweet? Please choose an answer from {negative/neutral/positive}.\\n$HCP Come to the party and buy this -gonna give solid gains and a dividend $$$$$$', 'mode': 'sentiment_analysis', 'label': 'positive'}) (input_keys={'task'}): Invalid order string format. Ensure it follows '[<name of staff>] <order>'.. Set `provide_traceback=True` to see the stack trace.\n",
      "2025/02/09 01:52:33 ERROR dspy.utils.parallelizer: Error processing item Example({'task': 'Does the news headline talk about price going down? Please choose an answer from {Yes/No}.\\nGold futures fall for the session, but gain for the week', 'mode': 'headline_classification', 'label': 'Yes'}) (input_keys={'task'}): Invalid order string format. Ensure it follows '[<name of staff>] <order>'.. Set `provide_traceback=True` to see the stack trace.\n",
      "2025/02/09 01:52:33 ERROR dspy.utils.parallelizer: Error processing item Example({'task': 'Does the news headline talk about a general event (apart from prices) in the past? Please choose an answer from {Yes/No}.\\nGold futures edge up after two-session decline', 'mode': 'headline_classification', 'label': 'No'}) (input_keys={'task'}): Invalid order string format. Ensure it follows '[<name of staff>] <order>'.. Set `provide_traceback=True` to see the stack trace.\n",
      "2025/02/09 01:52:33 ERROR dspy.utils.parallelizer: Error processing item Example({'task': 'Does the news headline talk about price in the past? Please choose an answer from {Yes/No}.\\ngold suffers third straight daily decline', 'mode': 'headline_classification', 'label': 'Yes'}) (input_keys={'task'}): Invalid order string format. Ensure it follows '[<name of staff>] <order>'.. Set `provide_traceback=True` to see the stack trace.\n"
     ]
    },
    {
     "name": "stdout",
     "output_type": "stream",
     "text": [
      "Average Metric: 0.00 / 9 (0.0%):  28%|██▊       | 14/50 [00:00<00:01, 23.86it/s]"
     ]
    },
    {
     "name": "stderr",
     "output_type": "stream",
     "text": [
      "2025/02/09 01:52:34 ERROR dspy.utils.parallelizer: Error processing item Example({'task': 'Does the news headline talk about price in the past? Please choose an answer from {Yes/No}.\\ngold falls by rs 25 on sluggish demand, global cues', 'mode': 'headline_classification', 'label': 'Yes'}) (input_keys={'task'}): Invalid order string format. Ensure it follows '[<name of staff>] <order>'.. Set `provide_traceback=True` to see the stack trace.\n"
     ]
    },
    {
     "name": "stdout",
     "output_type": "stream",
     "text": [
      "Average Metric: 0.00 / 10 (0.0%):  30%|███       | 15/50 [00:00<00:01, 23.86it/s]"
     ]
    },
    {
     "name": "stderr",
     "output_type": "stream",
     "text": [
      "2025/02/09 01:52:34 ERROR dspy.utils.parallelizer: Error processing item Example({'task': 'What is the sentiment of this news? Please choose an answer from {negative/neutral/positive}.\\nAmong the Scandinavian companies present in St. Petersburg , is also named the Swedish concern NCC , which implements projects in the field of asphalt production , road and housing construction ( project Swedish Krona ) .', 'mode': 'sentiment_analysis', 'label': 'neutral'}) (input_keys={'task'}): Invalid order string format. Ensure it follows '[<name of staff>] <order>'.. Set `provide_traceback=True` to see the stack trace.\n"
     ]
    },
    {
     "name": "stdout",
     "output_type": "stream",
     "text": [
      "Average Metric: 0.00 / 10 (0.0%):  34%|███▍      | 17/50 [00:01<00:02, 11.88it/s]"
     ]
    },
    {
     "name": "stderr",
     "output_type": "stream",
     "text": [
      "2025/02/09 01:52:34 ERROR dspy.utils.parallelizer: Error processing item Example({'task': \"What is the sentiment of this news? Please choose an answer from {strong negative/moderately negative/mildly negative/neutral/mildly positive/moderately positive/strong positive}.\\nThe competitive playing fields are evening out, and Big Tech is losing its edge. It's time to buy the tech startups that are unseating them.\", 'mode': 'sentiment_analysis', 'label': 'strong positive'}) (input_keys={'task'}): Invalid order string format. Ensure it follows '[<name of staff>] <order>'.. Set `provide_traceback=True` to see the stack trace.\n"
     ]
    },
    {
     "name": "stdout",
     "output_type": "stream",
     "text": [
      "Average Metric: 0.00 / 10 (0.0%):  34%|███▍      | 17/50 [00:01<00:02, 11.88it/s]"
     ]
    },
    {
     "name": "stderr",
     "output_type": "stream",
     "text": [
      "2025/02/09 01:52:36 ERROR dspy.utils.parallelizer: Error processing item Example({'task': 'Does the news headline talk about price going up? Please choose an answer from {Yes/No}.\\napril gold holds slight gain, up $2.50, or 0.2%, at $1320.20/oz.', 'mode': 'headline_classification', 'label': 'Yes'}) (input_keys={'task'}): Invalid order string format. Ensure it follows '[<name of staff>] <order>'.. Set `provide_traceback=True` to see the stack trace.\n"
     ]
    },
    {
     "name": "stdout",
     "output_type": "stream",
     "text": [
      "Average Metric: 0.00 / 4 (0.0%):  26%|██▌       | 13/50 [00:51<02:27,  3.99s/it]]\n",
      "Average Metric: 0.00 / 10 (0.0%):  38%|███▊      | 19/50 [00:13<00:08,  3.54it/s]"
     ]
    },
    {
     "name": "stderr",
     "output_type": "stream",
     "text": [
      "2025/02/09 01:53:16 INFO dspy.teleprompt.mipro_optimizer_v2: Score: 0.0 on minibatch of size 50 with parameters ['Predictor 0: Instruction 1', 'Predictor 0: Few-Shot Set 0', 'Predictor 1: Instruction 0', 'Predictor 1: Few-Shot Set 0', 'Predictor 2: Instruction 0', 'Predictor 2: Few-Shot Set 0', 'Predictor 3: Instruction 1', 'Predictor 3: Few-Shot Set 1', 'Predictor 4: Instruction 0', 'Predictor 4: Few-Shot Set 1', 'Predictor 5: Instruction 0', 'Predictor 5: Few-Shot Set 0', 'Predictor 6: Instruction 0', 'Predictor 6: Few-Shot Set 0', 'Predictor 7: Instruction 1', 'Predictor 7: Few-Shot Set 1', 'Predictor 8: Instruction 0', 'Predictor 8: Few-Shot Set 1', 'Predictor 9: Instruction 1', 'Predictor 9: Few-Shot Set 1', 'Predictor 10: Instruction 1', 'Predictor 10: Few-Shot Set 1', 'Predictor 11: Instruction 1', 'Predictor 11: Few-Shot Set 0'].\n",
      "2025/02/09 01:53:16 INFO dspy.teleprompt.mipro_optimizer_v2: Minibatch scores so far: [0.0, 37.15, 24.37, 31.01, 0.0, 0.0]\n",
      "2025/02/09 01:53:16 INFO dspy.teleprompt.mipro_optimizer_v2: Full eval scores so far: [32.79, 27.56]\n",
      "2025/02/09 01:53:16 INFO dspy.teleprompt.mipro_optimizer_v2: Best full score so far: 32.79\n",
      "2025/02/09 01:53:16 INFO dspy.teleprompt.mipro_optimizer_v2: ============================\n",
      "\n",
      "\n",
      "2025/02/09 01:53:16 INFO dspy.teleprompt.mipro_optimizer_v2: == Minibatch Trial 7 / 25 ==\n",
      "2025/02/09 01:53:16 ERROR dspy.utils.parallelizer: Error processing item Example({'task': 'Does the news headline talk about price going down? Please choose an answer from {Yes/No}.\\napril gold down 20 cents to settle at $1,116.10/oz', 'mode': 'headline_classification', 'label': 'Yes'}) (input_keys={'task'}): Invalid order string format. Ensure it follows '[<name of staff>] <order>'.. Set `provide_traceback=True` to see the stack trace.\n"
     ]
    },
    {
     "name": "stdout",
     "output_type": "stream",
     "text": [
      "Exception occurred: Invalid order string format. Ensure it follows '[<name of staff>] <order>'.\n"
     ]
    },
    {
     "name": "stderr",
     "output_type": "stream",
     "text": [
      "2025/02/09 01:53:16 ERROR dspy.utils.parallelizer: Error processing item Example({'task': \"What is the sentiment of this news? Please choose an answer from {strong negative/moderately negative/mildly negative/neutral/mildly positive/moderately positive/strong positive}.\\nThe competitive playing fields are evening out, and Big Tech is losing its edge. It's time to buy the tech startups that are unseating them.\", 'mode': 'sentiment_analysis', 'label': 'strong positive'}) (input_keys={'task'}): Invalid order string format. Ensure it follows '[<name of staff>] <order>'.. Set `provide_traceback=True` to see the stack trace.\n",
      "2025/02/09 01:53:16 ERROR dspy.utils.parallelizer: Error processing item Example({'task': 'Does the news headline compare gold with any other asset? Please choose an answer from {Yes/No}.\\napril gold down 20 cents to settle at $1,116.10/oz', 'mode': 'headline_classification', 'label': 'No'}) (input_keys={'task'}): Invalid order string format. Ensure it follows '[<name of staff>] <order>'.. Set `provide_traceback=True` to see the stack trace.\n"
     ]
    },
    {
     "name": "stdout",
     "output_type": "stream",
     "text": [
      "Average Metric: 0.00 / 4 (0.0%):  12%|█▏        | 6/50 [00:01<00:11,  3.83it/s]"
     ]
    },
    {
     "name": "stderr",
     "output_type": "stream",
     "text": [
      "2025/02/09 01:53:18 ERROR dspy.utils.parallelizer: Error processing item Example({'task': 'What is the sentiment of this tweet? Please choose an answer from {negative/neutral/positive}.\\n@ACInvestorBlog: $SPY eod run :)', 'mode': 'sentiment_analysis', 'label': 'positive'}) (input_keys={'task'}): Invalid order string format. Ensure it follows '[<name of staff>] <order>'.. Set `provide_traceback=True` to see the stack trace.\n"
     ]
    },
    {
     "name": "stdout",
     "output_type": "stream",
     "text": [
      "Average Metric: 0.00 / 4 (0.0%):  16%|█▌        | 8/50 [00:01<00:05,  7.51it/s]"
     ]
    },
    {
     "name": "stderr",
     "output_type": "stream",
     "text": [
      "2025/02/09 01:53:18 ERROR dspy.utils.parallelizer: Error processing item Example({'task': 'Does the news headline talk about price in the future? Please choose an answer from {Yes/No}.\\nGold futures fall for the session, but gain for the week', 'mode': 'headline_classification', 'label': 'No'}) (input_keys={'task'}): Invalid order string format. Ensure it follows '[<name of staff>] <order>'.. Set `provide_traceback=True` to see the stack trace.\n"
     ]
    },
    {
     "name": "stdout",
     "output_type": "stream",
     "text": [
      "Average Metric: 0.00 / 4 (0.0%):  16%|█▌        | 8/50 [00:01<00:05,  7.51it/s]"
     ]
    },
    {
     "name": "stderr",
     "output_type": "stream",
     "text": [
      "2025/02/09 01:53:18 ERROR dspy.utils.parallelizer: Error processing item Example({'task': 'What is the sentiment of this news? Please choose an answer from {negative/neutral/positive}.\\nFinnish operator Elisa and Aker Yards have signed a long-term service deal through which Elisa will deliver all necessary voice and data services for Aker Yards in Finland .', 'mode': 'sentiment_analysis', 'label': 'positive'}) (input_keys={'task'}): Invalid order string format. Ensure it follows '[<name of staff>] <order>'.. Set `provide_traceback=True` to see the stack trace.\n"
     ]
    },
    {
     "name": "stdout",
     "output_type": "stream",
     "text": [
      "Average Metric: 0.00 / 4 (0.0%):  20%|██        | 10/50 [00:01<00:04,  8.08it/s]"
     ]
    },
    {
     "name": "stderr",
     "output_type": "stream",
     "text": [
      "2025/02/09 01:53:18 ERROR dspy.utils.parallelizer: Error processing item Example({'task': 'Does the news headline compare gold with any other asset? Please choose an answer from {Yes/No}.\\nGold futures fall for the session, but gain for the week', 'mode': 'headline_classification', 'label': 'No'}) (input_keys={'task'}): Invalid order string format. Ensure it follows '[<name of staff>] <order>'.. Set `provide_traceback=True` to see the stack trace.\n"
     ]
    },
    {
     "name": "stdout",
     "output_type": "stream",
     "text": [
      "Average Metric: 0.00 / 4 (0.0%):  20%|██        | 10/50 [00:01<00:04,  8.08it/s]"
     ]
    },
    {
     "name": "stderr",
     "output_type": "stream",
     "text": [
      "2025/02/09 01:53:18 ERROR dspy.utils.parallelizer: Error processing item Example({'task': 'Does the news headline talk about price? Please choose an answer from {Yes/No}.\\ngold suffers third straight daily decline', 'mode': 'headline_classification', 'label': 'No'}) (input_keys={'task'}): Invalid order string format. Ensure it follows '[<name of staff>] <order>'.. Set `provide_traceback=True` to see the stack trace.\n"
     ]
    },
    {
     "name": "stdout",
     "output_type": "stream",
     "text": [
      "Average Metric: 0.00 / 5 (0.0%):  26%|██▌       | 13/50 [00:01<00:03, 10.13it/s]"
     ]
    },
    {
     "name": "stderr",
     "output_type": "stream",
     "text": [
      "2025/02/09 01:53:18 ERROR dspy.utils.parallelizer: Error processing item Example({'task': 'What is the sentiment of this tweet? Please choose an answer from {negative/neutral/positive}.\\nStarbucks downgraded on same day as new downgraded rewards program starts  $SBUX', 'mode': 'sentiment_analysis', 'label': 'negative'}) (input_keys={'task'}): Invalid order string format. Ensure it follows '[<name of staff>] <order>'.. Set `provide_traceback=True` to see the stack trace.\n"
     ]
    },
    {
     "name": "stdout",
     "output_type": "stream",
     "text": [
      "Average Metric: 0.00 / 10 (0.0%):  38%|███▊      | 19/50 [00:49<01:21,  2.62s/it]\n",
      "Average Metric: 0.00 / 5 (0.0%):  28%|██▊       | 14/50 [00:20<00:03, 10.13it/s]"
     ]
    },
    {
     "name": "stderr",
     "output_type": "stream",
     "text": [
      "2025/02/09 01:53:52 INFO dspy.teleprompt.mipro_optimizer_v2: Score: 0.0 on minibatch of size 50 with parameters ['Predictor 0: Instruction 1', 'Predictor 0: Few-Shot Set 0', 'Predictor 1: Instruction 0', 'Predictor 1: Few-Shot Set 0', 'Predictor 2: Instruction 1', 'Predictor 2: Few-Shot Set 0', 'Predictor 3: Instruction 1', 'Predictor 3: Few-Shot Set 1', 'Predictor 4: Instruction 1', 'Predictor 4: Few-Shot Set 0', 'Predictor 5: Instruction 1', 'Predictor 5: Few-Shot Set 1', 'Predictor 6: Instruction 0', 'Predictor 6: Few-Shot Set 0', 'Predictor 7: Instruction 0', 'Predictor 7: Few-Shot Set 0', 'Predictor 8: Instruction 1', 'Predictor 8: Few-Shot Set 0', 'Predictor 9: Instruction 1', 'Predictor 9: Few-Shot Set 1', 'Predictor 10: Instruction 1', 'Predictor 10: Few-Shot Set 1', 'Predictor 11: Instruction 0', 'Predictor 11: Few-Shot Set 0'].\n",
      "2025/02/09 01:53:52 INFO dspy.teleprompt.mipro_optimizer_v2: Minibatch scores so far: [0.0, 37.15, 24.37, 31.01, 0.0, 0.0, 0.0]\n",
      "2025/02/09 01:53:52 INFO dspy.teleprompt.mipro_optimizer_v2: Full eval scores so far: [32.79, 27.56]\n",
      "2025/02/09 01:53:52 INFO dspy.teleprompt.mipro_optimizer_v2: Best full score so far: 32.79\n",
      "2025/02/09 01:53:52 INFO dspy.teleprompt.mipro_optimizer_v2: ============================\n",
      "\n",
      "\n",
      "2025/02/09 01:53:52 INFO dspy.teleprompt.mipro_optimizer_v2: == Minibatch Trial 8 / 25 ==\n",
      "2025/02/09 01:53:52 ERROR dspy.utils.parallelizer: Error processing item Example({'task': 'Does the news headline talk about price in the past? Please choose an answer from {Yes/No}.\\nGold snaps three-day rally as Trump, lawmakers reach debt-ceiling deal', 'mode': 'headline_classification', 'label': 'Yes'}) (input_keys={'task'}): Invalid order string format. Ensure it follows '[<name of staff>] <order>'.. Set `provide_traceback=True` to see the stack trace.\n",
      "2025/02/09 01:53:52 ERROR dspy.utils.parallelizer: Error processing item Example({'task': 'Does the news headline talk about price going up? Please choose an answer from {Yes/No}.\\napril gold holds slight gain, up $2.50, or 0.2%, at $1320.20/oz.', 'mode': 'headline_classification', 'label': 'Yes'}) (input_keys={'task'}): Invalid order string format. Ensure it follows '[<name of staff>] <order>'.. Set `provide_traceback=True` to see the stack trace.\n"
     ]
    },
    {
     "name": "stdout",
     "output_type": "stream",
     "text": [
      "Exception occurred: Invalid order string format. Ensure it follows '[<name of staff>] <order>'.\n"
     ]
    },
    {
     "name": "stderr",
     "output_type": "stream",
     "text": [
      "2025/02/09 01:53:52 ERROR dspy.utils.parallelizer: Error processing item Example({'task': 'What is the sentiment of this news? Please choose an answer from {negative/neutral/positive}.\\nTesco sales rise shows tentative recovery continues', 'mode': 'sentiment_analysis', 'label': 'positive'}) (input_keys={'task'}): Invalid order string format. Ensure it follows '[<name of staff>] <order>'.. Set `provide_traceback=True` to see the stack trace.\n",
      "2025/02/09 01:53:52 ERROR dspy.utils.parallelizer: Error processing item Example({'task': 'What is the sentiment of this news? Please choose an answer from {strong negative/moderately negative/mildly negative/neutral/mildly positive/moderately positive/strong positive}.\\nThe economy has been facing severe headwinds, with only a few sectors holding firm. Earlier this year, several technology stocks were doused in red ink after their Q4 earnings calls.', 'mode': 'sentiment_analysis', 'label': 'mildly negative'}) (input_keys={'task'}): Invalid order string format. Ensure it follows '[<name of staff>] <order>'.. Set `provide_traceback=True` to see the stack trace.\n",
      "2025/02/09 01:53:52 ERROR dspy.utils.parallelizer: Error processing item Example({'task': 'What is the sentiment of this tweet? Please choose an answer from {negative/neutral/positive}.\\n$HCP Come to the party and buy this -gonna give solid gains and a dividend $$$$$$', 'mode': 'sentiment_analysis', 'label': 'positive'}) (input_keys={'task'}): Invalid order string format. Ensure it follows '[<name of staff>] <order>'.. Set `provide_traceback=True` to see the stack trace.\n",
      "2025/02/09 01:53:52 ERROR dspy.utils.parallelizer: Error processing item Example({'task': 'Does the news headline talk about a general event (apart from prices) in the past? Please choose an answer from {Yes/No}.\\nfeb. gold ends up $9.60, or 1.1%, at $901.60 an ounce', 'mode': 'headline_classification', 'label': 'No'}) (input_keys={'task'}): Invalid order string format. Ensure it follows '[<name of staff>] <order>'.. Set `provide_traceback=True` to see the stack trace.\n",
      "2025/02/09 01:53:52 ERROR dspy.utils.parallelizer: Error processing item Example({'task': 'Does the news headline compare gold with any other asset? Please choose an answer from {Yes/No}.\\napril gold down 20 cents to settle at $1,116.10/oz', 'mode': 'headline_classification', 'label': 'No'}) (input_keys={'task'}): Invalid order string format. Ensure it follows '[<name of staff>] <order>'.. Set `provide_traceback=True` to see the stack trace.\n"
     ]
    },
    {
     "name": "stdout",
     "output_type": "stream",
     "text": [
      "  0%|          | 0/50 [00:00<?, ?it/s]"
     ]
    },
    {
     "name": "stderr",
     "output_type": "stream",
     "text": [
      "2025/02/09 01:53:52 ERROR dspy.utils.parallelizer: Error processing item Example({'task': 'Does the news headline talk about price in the past? Please choose an answer from {Yes/No}.\\nGold struggles; silver slides, base metals falter', 'mode': 'headline_classification', 'label': 'Yes'}) (input_keys={'task'}): Invalid order string format. Ensure it follows '[<name of staff>] <order>'.. Set `provide_traceback=True` to see the stack trace.\n"
     ]
    },
    {
     "name": "stdout",
     "output_type": "stream",
     "text": [
      "Average Metric: 0.00 / 9 (0.0%):  32%|███▏      | 16/50 [00:01<00:02, 12.98it/s]"
     ]
    },
    {
     "name": "stderr",
     "output_type": "stream",
     "text": [
      "2025/02/09 01:53:54 ERROR dspy.utils.parallelizer: Error processing item Example({'task': 'What is the sentiment of this tweet? Please choose an answer from {negative/neutral/positive}.\\nGoogle Workers Rising Up After Employees Are Fired', 'mode': 'sentiment_analysis', 'label': 'neutral'}) (input_keys={'task'}): Invalid order string format. Ensure it follows '[<name of staff>] <order>'.. Set `provide_traceback=True` to see the stack trace.\n"
     ]
    },
    {
     "name": "stdout",
     "output_type": "stream",
     "text": [
      "Average Metric: 0.00 / 5 (0.0%):  28%|██▊       | 14/50 [01:03<02:44,  4.56s/it]]\n"
     ]
    },
    {
     "name": "stderr",
     "output_type": "stream",
     "text": [
      "2025/02/09 01:54:38 INFO dspy.teleprompt.mipro_optimizer_v2: Score: 0.0 on minibatch of size 50 with parameters ['Predictor 0: Instruction 1', 'Predictor 0: Few-Shot Set 0', 'Predictor 1: Instruction 1', 'Predictor 1: Few-Shot Set 0', 'Predictor 2: Instruction 1', 'Predictor 2: Few-Shot Set 1', 'Predictor 3: Instruction 1', 'Predictor 3: Few-Shot Set 1', 'Predictor 4: Instruction 0', 'Predictor 4: Few-Shot Set 0', 'Predictor 5: Instruction 0', 'Predictor 5: Few-Shot Set 1', 'Predictor 6: Instruction 1', 'Predictor 6: Few-Shot Set 0', 'Predictor 7: Instruction 1', 'Predictor 7: Few-Shot Set 0', 'Predictor 8: Instruction 0', 'Predictor 8: Few-Shot Set 0', 'Predictor 9: Instruction 1', 'Predictor 9: Few-Shot Set 0', 'Predictor 10: Instruction 0', 'Predictor 10: Few-Shot Set 0', 'Predictor 11: Instruction 1', 'Predictor 11: Few-Shot Set 1'].\n",
      "2025/02/09 01:54:38 INFO dspy.teleprompt.mipro_optimizer_v2: Minibatch scores so far: [0.0, 37.15, 24.37, 31.01, 0.0, 0.0, 0.0, 0.0]\n",
      "2025/02/09 01:54:38 INFO dspy.teleprompt.mipro_optimizer_v2: Full eval scores so far: [32.79, 27.56]\n",
      "2025/02/09 01:54:38 INFO dspy.teleprompt.mipro_optimizer_v2: Best full score so far: 32.79\n",
      "2025/02/09 01:54:38 INFO dspy.teleprompt.mipro_optimizer_v2: ============================\n",
      "\n",
      "\n",
      "2025/02/09 01:54:38 INFO dspy.teleprompt.mipro_optimizer_v2: ===== Full Eval 2 =====\n",
      "2025/02/09 01:54:38 INFO dspy.teleprompt.mipro_optimizer_v2: Doing full eval on next top averaging program (Avg Score: 31.01) from minibatch trials...\n"
     ]
    },
    {
     "name": "stdout",
     "output_type": "stream",
     "text": [
      "Exception occurred: Invalid order string format. Ensure it follows '[<name of staff>] <order>'.\n",
      "Average Metric: 0.00 / 12 (0.0%):  42%|████▏     | 21/50 [00:46<01:04,  2.23s/it]\n",
      "Average Metric: 69.18 / 240 (28.8%): 100%|██████████| 240/240 [00:39<00:00,  6.03it/s]"
     ]
    },
    {
     "name": "stderr",
     "output_type": "stream",
     "text": [
      "2025/02/09 01:55:20 INFO dspy.evaluate.evaluate: Average Metric: 69.18311979014759 / 240 (28.8%)\n",
      "2025/02/09 01:55:20 INFO dspy.teleprompt.mipro_optimizer_v2: Full eval scores so far: [32.79, 27.56, 28.83]\n",
      "2025/02/09 01:55:20 INFO dspy.teleprompt.mipro_optimizer_v2: Best full score so far: 32.79\n",
      "2025/02/09 01:55:20 INFO dspy.teleprompt.mipro_optimizer_v2: =======================\n",
      "2025/02/09 01:55:20 INFO dspy.teleprompt.mipro_optimizer_v2: \n",
      "\n",
      "2025/02/09 01:55:20 INFO dspy.teleprompt.mipro_optimizer_v2: == Minibatch Trial 9 / 25 ==\n",
      "2025/02/09 01:55:20 ERROR dspy.utils.parallelizer: Error processing item Example({'task': 'Does the news headline compare gold with any other asset? Please choose an answer from {Yes/No}.\\napril gold down 20 cents to settle at $1,116.10/oz', 'mode': 'headline_classification', 'label': 'No'}) (input_keys={'task'}): Invalid order string format. Ensure it follows '[<name of staff>] <order>'.. Set `provide_traceback=True` to see the stack trace.\n",
      "2025/02/09 01:55:20 ERROR dspy.utils.parallelizer: Error processing item Example({'task': \"What is the sentiment of this news? Please choose an answer from {negative/neutral/positive}.\\nAccording to Finnish petrol station chain St1 's managing director Kim Wiio , the company was forced to make purchases with rising prices in the first half of 2008 , and now consumer prices are going down almost daily due to competition .\", 'mode': 'sentiment_analysis', 'label': 'negative'}) (input_keys={'task'}): Invalid order string format. Ensure it follows '[<name of staff>] <order>'.. Set `provide_traceback=True` to see the stack trace.\n",
      "2025/02/09 01:55:20 ERROR dspy.utils.parallelizer: Error processing item Example({'task': 'Does the news headline compare gold with any other asset? Please choose an answer from {Yes/No}.\\nGold struggles; silver slides, base metals falter', 'mode': 'headline_classification', 'label': 'Yes'}) (input_keys={'task'}): Invalid order string format. Ensure it follows '[<name of staff>] <order>'.. Set `provide_traceback=True` to see the stack trace.\n"
     ]
    },
    {
     "name": "stdout",
     "output_type": "stream",
     "text": [
      "\n"
     ]
    },
    {
     "name": "stderr",
     "output_type": "stream",
     "text": [
      "2025/02/09 01:55:20 ERROR dspy.utils.parallelizer: Error processing item Example({'task': 'What is the sentiment of this tweet? Please choose an answer from {negative/neutral/positive}.\\n$DNKN $KKD $DPZ $LOCO Inside week buy triggers. http://stks.co/h0vV8  http://stks.co/r0ebN', 'mode': 'sentiment_analysis', 'label': 'positive'}) (input_keys={'task'}): Invalid order string format. Ensure it follows '[<name of staff>] <order>'.. Set `provide_traceback=True` to see the stack trace.\n",
      "2025/02/09 01:55:20 ERROR dspy.utils.parallelizer: Error processing item Example({'task': 'What is the sentiment of this tweet? Please choose an answer from {negative/neutral/positive}.\\nStarbucks downgraded on same day as new downgraded rewards program starts  $SBUX', 'mode': 'sentiment_analysis', 'label': 'negative'}) (input_keys={'task'}): Invalid order string format. Ensure it follows '[<name of staff>] <order>'.. Set `provide_traceback=True` to see the stack trace.\n",
      "2025/02/09 01:55:21 ERROR dspy.utils.parallelizer: Error processing item Example({'task': 'Does the news headline talk about price in the past? Please choose an answer from {Yes/No}.\\napril gold down 20 cents to settle at $1,116.10/oz', 'mode': 'headline_classification', 'label': 'Yes'}) (input_keys={'task'}): Invalid order string format. Ensure it follows '[<name of staff>] <order>'.. Set `provide_traceback=True` to see the stack trace.\n",
      "2025/02/09 01:55:21 ERROR dspy.utils.parallelizer: Error processing item Example({'task': 'Does the news headline compare gold with any other asset? Please choose an answer from {Yes/No}.\\nDec. gold climbs $9.40, or 0.7%, to settle at $1,356.90/oz', 'mode': 'headline_classification', 'label': 'No'}) (input_keys={'task'}): Invalid order string format. Ensure it follows '[<name of staff>] <order>'.. Set `provide_traceback=True` to see the stack trace.\n"
     ]
    },
    {
     "name": "stdout",
     "output_type": "stream",
     "text": [
      "Average Metric: 0.00 / 1 (0.0%):  14%|█▍        | 7/50 [00:00<00:02, 15.72it/s]"
     ]
    },
    {
     "name": "stderr",
     "output_type": "stream",
     "text": [
      "2025/02/09 01:55:21 ERROR dspy.utils.parallelizer: Error processing item Example({'task': 'Does the news headline talk about price in the past? Please choose an answer from {Yes/No}.\\nGold futures fall for the session, but gain for the week', 'mode': 'headline_classification', 'label': 'Yes'}) (input_keys={'task'}): Invalid order string format. Ensure it follows '[<name of staff>] <order>'.. Set `provide_traceback=True` to see the stack trace.\n"
     ]
    },
    {
     "name": "stdout",
     "output_type": "stream",
     "text": [
      "Average Metric: 0.00 / 7 (0.0%):  28%|██▊       | 14/50 [00:00<00:02, 12.78it/s]"
     ]
    },
    {
     "name": "stderr",
     "output_type": "stream",
     "text": [
      "2025/02/09 01:55:22 ERROR dspy.utils.parallelizer: Error processing item Example({'task': 'Does the news headline talk about price going up? Please choose an answer from {Yes/No}.\\ngold suffers third straight daily decline', 'mode': 'headline_classification', 'label': 'No'}) (input_keys={'task'}): Invalid order string format. Ensure it follows '[<name of staff>] <order>'.. Set `provide_traceback=True` to see the stack trace.\n"
     ]
    },
    {
     "name": "stdout",
     "output_type": "stream",
     "text": [
      "Average Metric: 0.00 / 7 (0.0%):  32%|███▏      | 16/50 [00:15<00:01, 18.23it/s]"
     ]
    },
    {
     "name": "stderr",
     "output_type": "stream",
     "text": [
      "2025/02/09 01:56:00 INFO dspy.teleprompt.mipro_optimizer_v2: Score: 0.0 on minibatch of size 50 with parameters ['Predictor 0: Instruction 1', 'Predictor 0: Few-Shot Set 1', 'Predictor 1: Instruction 0', 'Predictor 1: Few-Shot Set 0', 'Predictor 2: Instruction 1', 'Predictor 2: Few-Shot Set 0', 'Predictor 3: Instruction 0', 'Predictor 3: Few-Shot Set 0', 'Predictor 4: Instruction 1', 'Predictor 4: Few-Shot Set 1', 'Predictor 5: Instruction 0', 'Predictor 5: Few-Shot Set 1', 'Predictor 6: Instruction 1', 'Predictor 6: Few-Shot Set 0', 'Predictor 7: Instruction 0', 'Predictor 7: Few-Shot Set 1', 'Predictor 8: Instruction 1', 'Predictor 8: Few-Shot Set 0', 'Predictor 9: Instruction 0', 'Predictor 9: Few-Shot Set 1', 'Predictor 10: Instruction 1', 'Predictor 10: Few-Shot Set 1', 'Predictor 11: Instruction 0', 'Predictor 11: Few-Shot Set 1'].\n",
      "2025/02/09 01:56:00 INFO dspy.teleprompt.mipro_optimizer_v2: Minibatch scores so far: [0.0, 37.15, 24.37, 31.01, 0.0, 0.0, 0.0, 0.0, 0.0]\n",
      "2025/02/09 01:56:00 INFO dspy.teleprompt.mipro_optimizer_v2: Full eval scores so far: [32.79, 27.56, 28.83]\n",
      "2025/02/09 01:56:00 INFO dspy.teleprompt.mipro_optimizer_v2: Best full score so far: 32.79\n",
      "2025/02/09 01:56:00 INFO dspy.teleprompt.mipro_optimizer_v2: ============================\n",
      "\n",
      "\n",
      "2025/02/09 01:56:00 INFO dspy.teleprompt.mipro_optimizer_v2: == Minibatch Trial 10 / 25 ==\n",
      "2025/02/09 01:56:00 ERROR dspy.utils.parallelizer: Error processing item Example({'task': 'What is the sentiment of this news? Please choose an answer from {strong negative/moderately negative/mildly negative/neutral/mildly positive/moderately positive/strong positive}.\\nThe cuts across several areas of Microsoft is less drastic than a sales reorganization announced five years ago.', 'mode': 'sentiment_analysis', 'label': 'neutral'}) (input_keys={'task'}): Invalid order string format. Ensure it follows '[<name of staff>] <order>'.. Set `provide_traceback=True` to see the stack trace.\n",
      "2025/02/09 01:56:00 ERROR dspy.utils.parallelizer: Error processing item Example({'task': 'What is the sentiment of this news? Please choose an answer from {negative/neutral/positive}.\\nThe customer is cooperative retailer Osuuskauppa Suur-Savo .', 'mode': 'sentiment_analysis', 'label': 'neutral'}) (input_keys={'task'}): Invalid order string format. Ensure it follows '[<name of staff>] <order>'.. Set `provide_traceback=True` to see the stack trace.\n",
      "2025/02/09 01:56:00 ERROR dspy.utils.parallelizer: Error processing item Example({'task': 'Does the news headline talk about a general event (apart from prices) in the past? Please choose an answer from {Yes/No}.\\nfeb. gold ends up $9.60, or 1.1%, at $901.60 an ounce', 'mode': 'headline_classification', 'label': 'No'}) (input_keys={'task'}): Invalid order string format. Ensure it follows '[<name of staff>] <order>'.. Set `provide_traceback=True` to see the stack trace.\n"
     ]
    },
    {
     "name": "stdout",
     "output_type": "stream",
     "text": [
      "Exception occurred: Invalid order string format. Ensure it follows '[<name of staff>] <order>'.\n"
     ]
    },
    {
     "name": "stderr",
     "output_type": "stream",
     "text": [
      "2025/02/09 01:56:00 ERROR dspy.utils.parallelizer: Error processing item Example({'task': 'Does the news headline compare gold with any other asset? Please choose an answer from {Yes/No}.\\nDec. gold climbs $9.40, or 0.7%, to settle at $1,356.90/oz', 'mode': 'headline_classification', 'label': 'No'}) (input_keys={'task'}): Invalid order string format. Ensure it follows '[<name of staff>] <order>'.. Set `provide_traceback=True` to see the stack trace.\n",
      "2025/02/09 01:56:00 ERROR dspy.utils.parallelizer: Error processing item Example({'task': 'What is the sentiment of this news? Please choose an answer from {negative/neutral/positive}.\\nTesco sales rise shows tentative recovery continues', 'mode': 'sentiment_analysis', 'label': 'positive'}) (input_keys={'task'}): Invalid order string format. Ensure it follows '[<name of staff>] <order>'.. Set `provide_traceback=True` to see the stack trace.\n",
      "2025/02/09 01:56:00 ERROR dspy.utils.parallelizer: Error processing item Example({'task': \"What is the sentiment of this news? Please choose an answer from {strong negative/moderately negative/mildly negative/neutral/mildly positive/moderately positive/strong positive}.\\nAlphabet's Q2 earnings were mixed. With the company fresh off a stock split, investors got a front-row seat to the internet giant's challenges.\", 'mode': 'sentiment_analysis', 'label': 'mildly negative'}) (input_keys={'task'}): Invalid order string format. Ensure it follows '[<name of staff>] <order>'.. Set `provide_traceback=True` to see the stack trace.\n",
      "2025/02/09 01:56:00 ERROR dspy.utils.parallelizer: Error processing item Example({'task': 'What is the sentiment of this news? Please choose an answer from {negative/neutral/positive}.\\nThe optimization of the steel components heating process will reduce the energy consumption .', 'mode': 'sentiment_analysis', 'label': 'positive'}) (input_keys={'task'}): Invalid order string format. Ensure it follows '[<name of staff>] <order>'.. Set `provide_traceback=True` to see the stack trace.\n",
      "2025/02/09 01:56:00 ERROR dspy.utils.parallelizer: Error processing item Example({'task': 'Does the news headline talk about price? Please choose an answer from {Yes/No}.\\napril gold down 20 cents to settle at $1,116.10/oz', 'mode': 'headline_classification', 'label': 'No'}) (input_keys={'task'}): Invalid order string format. Ensure it follows '[<name of staff>] <order>'.. Set `provide_traceback=True` to see the stack trace.\n",
      "2025/02/09 01:56:00 ERROR dspy.utils.parallelizer: Error processing item Example({'task': 'What is the sentiment of this news? Please choose an answer from {negative/neutral/positive}.\\nFinnish operator Elisa and Aker Yards have signed a long-term service deal through which Elisa will deliver all necessary voice and data services for Aker Yards in Finland .', 'mode': 'sentiment_analysis', 'label': 'positive'}) (input_keys={'task'}): Invalid order string format. Ensure it follows '[<name of staff>] <order>'.. Set `provide_traceback=True` to see the stack trace.\n"
     ]
    },
    {
     "name": "stdout",
     "output_type": "stream",
     "text": [
      "Average Metric: 0.00 / 0 (0%):   0%|          | 0/50 [00:00<?, ?it/s]"
     ]
    },
    {
     "name": "stderr",
     "output_type": "stream",
     "text": [
      "2025/02/09 01:56:26 INFO dspy.teleprompt.mipro_optimizer_v2: Score: 0.0 on minibatch of size 50 with parameters ['Predictor 0: Instruction 1', 'Predictor 0: Few-Shot Set 1', 'Predictor 1: Instruction 0', 'Predictor 1: Few-Shot Set 1', 'Predictor 2: Instruction 1', 'Predictor 2: Few-Shot Set 1', 'Predictor 3: Instruction 0', 'Predictor 3: Few-Shot Set 0', 'Predictor 4: Instruction 0', 'Predictor 4: Few-Shot Set 1', 'Predictor 5: Instruction 0', 'Predictor 5: Few-Shot Set 1', 'Predictor 6: Instruction 1', 'Predictor 6: Few-Shot Set 0', 'Predictor 7: Instruction 1', 'Predictor 7: Few-Shot Set 1', 'Predictor 8: Instruction 1', 'Predictor 8: Few-Shot Set 0', 'Predictor 9: Instruction 0', 'Predictor 9: Few-Shot Set 1', 'Predictor 10: Instruction 1', 'Predictor 10: Few-Shot Set 1', 'Predictor 11: Instruction 0', 'Predictor 11: Few-Shot Set 1'].\n",
      "2025/02/09 01:56:26 INFO dspy.teleprompt.mipro_optimizer_v2: Minibatch scores so far: [0.0, 37.15, 24.37, 31.01, 0.0, 0.0, 0.0, 0.0, 0.0, 0.0]\n",
      "2025/02/09 01:56:26 INFO dspy.teleprompt.mipro_optimizer_v2: Full eval scores so far: [32.79, 27.56, 28.83]\n",
      "2025/02/09 01:56:26 INFO dspy.teleprompt.mipro_optimizer_v2: Best full score so far: 32.79\n",
      "2025/02/09 01:56:26 INFO dspy.teleprompt.mipro_optimizer_v2: =============================\n",
      "\n",
      "\n",
      "2025/02/09 01:56:26 INFO dspy.teleprompt.mipro_optimizer_v2: == Minibatch Trial 11 / 25 ==\n"
     ]
    },
    {
     "name": "stdout",
     "output_type": "stream",
     "text": [
      "Exception occurred: Invalid order string format. Ensure it follows '[<name of staff>] <order>'.\n",
      "Average Metric: 0.00 / 7 (0.0%):  32%|███▏      | 16/50 [01:06<02:20,  4.13s/it]\n",
      "Average Metric: 0.00 / 0 (0%):   2%|▏         | 1/50 [00:26<21:59, 26.93s/it]\n",
      "Average Metric: 11.45 / 50 (22.9%): 100%|██████████| 50/50 [00:23<00:00,  2.11it/s]"
     ]
    },
    {
     "name": "stderr",
     "output_type": "stream",
     "text": [
      "2025/02/09 01:56:51 INFO dspy.evaluate.evaluate: Average Metric: 11.454292717086833 / 50 (22.9%)\n",
      "2025/02/09 01:56:51 INFO dspy.teleprompt.mipro_optimizer_v2: Score: 22.91 on minibatch of size 50 with parameters ['Predictor 0: Instruction 0', 'Predictor 0: Few-Shot Set 0', 'Predictor 1: Instruction 0', 'Predictor 1: Few-Shot Set 1', 'Predictor 2: Instruction 1', 'Predictor 2: Few-Shot Set 1', 'Predictor 3: Instruction 1', 'Predictor 3: Few-Shot Set 0', 'Predictor 4: Instruction 0', 'Predictor 4: Few-Shot Set 0', 'Predictor 5: Instruction 1', 'Predictor 5: Few-Shot Set 0', 'Predictor 6: Instruction 1', 'Predictor 6: Few-Shot Set 1', 'Predictor 7: Instruction 0', 'Predictor 7: Few-Shot Set 0', 'Predictor 8: Instruction 0', 'Predictor 8: Few-Shot Set 1', 'Predictor 9: Instruction 0', 'Predictor 9: Few-Shot Set 0', 'Predictor 10: Instruction 0', 'Predictor 10: Few-Shot Set 0', 'Predictor 11: Instruction 0', 'Predictor 11: Few-Shot Set 0'].\n",
      "2025/02/09 01:56:51 INFO dspy.teleprompt.mipro_optimizer_v2: Minibatch scores so far: [0.0, 37.15, 24.37, 31.01, 0.0, 0.0, 0.0, 0.0, 0.0, 0.0, 22.91]\n",
      "2025/02/09 01:56:51 INFO dspy.teleprompt.mipro_optimizer_v2: Full eval scores so far: [32.79, 27.56, 28.83]\n",
      "2025/02/09 01:56:51 INFO dspy.teleprompt.mipro_optimizer_v2: Best full score so far: 32.79\n",
      "2025/02/09 01:56:51 INFO dspy.teleprompt.mipro_optimizer_v2: =============================\n",
      "\n",
      "\n",
      "2025/02/09 01:56:51 INFO dspy.teleprompt.mipro_optimizer_v2: == Minibatch Trial 12 / 25 ==\n"
     ]
    },
    {
     "name": "stdout",
     "output_type": "stream",
     "text": [
      "\n",
      "Average Metric: 6.81 / 50 (13.6%): 100%|██████████| 50/50 [00:01<00:00, 44.46it/s]"
     ]
    },
    {
     "name": "stderr",
     "output_type": "stream",
     "text": [
      "2025/02/09 01:56:53 INFO dspy.evaluate.evaluate: Average Metric: 6.805184696328072 / 50 (13.6%)\n",
      "2025/02/09 01:56:53 INFO dspy.teleprompt.mipro_optimizer_v2: Score: 13.61 on minibatch of size 50 with parameters ['Predictor 0: Instruction 0', 'Predictor 0: Few-Shot Set 1', 'Predictor 1: Instruction 1', 'Predictor 1: Few-Shot Set 0', 'Predictor 2: Instruction 0', 'Predictor 2: Few-Shot Set 1', 'Predictor 3: Instruction 0', 'Predictor 3: Few-Shot Set 0', 'Predictor 4: Instruction 0', 'Predictor 4: Few-Shot Set 0', 'Predictor 5: Instruction 1', 'Predictor 5: Few-Shot Set 0', 'Predictor 6: Instruction 0', 'Predictor 6: Few-Shot Set 0', 'Predictor 7: Instruction 0', 'Predictor 7: Few-Shot Set 1', 'Predictor 8: Instruction 1', 'Predictor 8: Few-Shot Set 0', 'Predictor 9: Instruction 0', 'Predictor 9: Few-Shot Set 0', 'Predictor 10: Instruction 0', 'Predictor 10: Few-Shot Set 0', 'Predictor 11: Instruction 1', 'Predictor 11: Few-Shot Set 0'].\n",
      "2025/02/09 01:56:53 INFO dspy.teleprompt.mipro_optimizer_v2: Minibatch scores so far: [0.0, 37.15, 24.37, 31.01, 0.0, 0.0, 0.0, 0.0, 0.0, 0.0, 22.91, 13.61]\n",
      "2025/02/09 01:56:53 INFO dspy.teleprompt.mipro_optimizer_v2: Full eval scores so far: [32.79, 27.56, 28.83]\n",
      "2025/02/09 01:56:53 INFO dspy.teleprompt.mipro_optimizer_v2: Best full score so far: 32.79\n",
      "2025/02/09 01:56:53 INFO dspy.teleprompt.mipro_optimizer_v2: =============================\n",
      "\n",
      "\n",
      "2025/02/09 01:56:53 INFO dspy.teleprompt.mipro_optimizer_v2: ===== Full Eval 3 =====\n",
      "2025/02/09 01:56:53 INFO dspy.teleprompt.mipro_optimizer_v2: Doing full eval on next top averaging program (Avg Score: 24.37) from minibatch trials...\n"
     ]
    },
    {
     "name": "stdout",
     "output_type": "stream",
     "text": [
      "\n",
      "Average Metric: 68.07 / 240 (28.4%): 100%|██████████| 240/240 [00:26<00:00,  8.96it/s]"
     ]
    },
    {
     "name": "stderr",
     "output_type": "stream",
     "text": [
      "2025/02/09 01:57:24 INFO dspy.evaluate.evaluate: Average Metric: 68.06619565757292 / 240 (28.4%)\n",
      "2025/02/09 01:57:24 INFO dspy.teleprompt.mipro_optimizer_v2: Full eval scores so far: [32.79, 27.56, 28.83, 28.36]\n",
      "2025/02/09 01:57:24 INFO dspy.teleprompt.mipro_optimizer_v2: Best full score so far: 32.79\n",
      "2025/02/09 01:57:24 INFO dspy.teleprompt.mipro_optimizer_v2: =======================\n",
      "2025/02/09 01:57:24 INFO dspy.teleprompt.mipro_optimizer_v2: \n",
      "\n",
      "2025/02/09 01:57:24 INFO dspy.teleprompt.mipro_optimizer_v2: == Minibatch Trial 13 / 25 ==\n"
     ]
    },
    {
     "name": "stdout",
     "output_type": "stream",
     "text": [
      "\n",
      "Average Metric: 10.18 / 50 (20.4%): 100%|██████████| 50/50 [00:01<00:00, 27.83it/s]"
     ]
    },
    {
     "name": "stderr",
     "output_type": "stream",
     "text": [
      "2025/02/09 01:57:28 INFO dspy.evaluate.evaluate: Average Metric: 10.176408315633566 / 50 (20.4%)\n",
      "2025/02/09 01:57:28 INFO dspy.teleprompt.mipro_optimizer_v2: Score: 20.35 on minibatch of size 50 with parameters ['Predictor 0: Instruction 0', 'Predictor 0: Few-Shot Set 1', 'Predictor 1: Instruction 0', 'Predictor 1: Few-Shot Set 1', 'Predictor 2: Instruction 0', 'Predictor 2: Few-Shot Set 1', 'Predictor 3: Instruction 0', 'Predictor 3: Few-Shot Set 0', 'Predictor 4: Instruction 0', 'Predictor 4: Few-Shot Set 1', 'Predictor 5: Instruction 1', 'Predictor 5: Few-Shot Set 1', 'Predictor 6: Instruction 1', 'Predictor 6: Few-Shot Set 1', 'Predictor 7: Instruction 1', 'Predictor 7: Few-Shot Set 0', 'Predictor 8: Instruction 0', 'Predictor 8: Few-Shot Set 1', 'Predictor 9: Instruction 0', 'Predictor 9: Few-Shot Set 0', 'Predictor 10: Instruction 0', 'Predictor 10: Few-Shot Set 0', 'Predictor 11: Instruction 1', 'Predictor 11: Few-Shot Set 0'].\n",
      "2025/02/09 01:57:28 INFO dspy.teleprompt.mipro_optimizer_v2: Minibatch scores so far: [0.0, 37.15, 24.37, 31.01, 0.0, 0.0, 0.0, 0.0, 0.0, 0.0, 22.91, 13.61, 20.35]\n",
      "2025/02/09 01:57:28 INFO dspy.teleprompt.mipro_optimizer_v2: Full eval scores so far: [32.79, 27.56, 28.83, 28.36]\n",
      "2025/02/09 01:57:28 INFO dspy.teleprompt.mipro_optimizer_v2: Best full score so far: 32.79\n",
      "2025/02/09 01:57:28 INFO dspy.teleprompt.mipro_optimizer_v2: =============================\n",
      "\n",
      "\n",
      "2025/02/09 01:57:28 INFO dspy.teleprompt.mipro_optimizer_v2: == Minibatch Trial 14 / 25 ==\n",
      "2025/02/09 01:57:28 ERROR dspy.utils.parallelizer: Error processing item Example({'task': 'Does the news headline talk about price going up? Please choose an answer from {Yes/No}.\\napril gold holds slight gain, up $2.50, or 0.2%, at $1320.20/oz.', 'mode': 'headline_classification', 'label': 'Yes'}) (input_keys={'task'}): Invalid order string format. Ensure it follows '[<name of staff>] <order>'.. Set `provide_traceback=True` to see the stack trace.\n",
      "2025/02/09 01:57:28 ERROR dspy.utils.parallelizer: Error processing item Example({'task': 'Does the news headline talk about price going down? Please choose an answer from {Yes/No}.\\nGold futures fall for the session, but gain for the week', 'mode': 'headline_classification', 'label': 'Yes'}) (input_keys={'task'}): Invalid order string format. Ensure it follows '[<name of staff>] <order>'.. Set `provide_traceback=True` to see the stack trace.\n",
      "2025/02/09 01:57:28 ERROR dspy.utils.parallelizer: Error processing item Example({'task': 'What is the sentiment of this tweet? Please choose an answer from {negative/neutral/positive}.\\nGoogle Workers Rising Up After Employees Are Fired', 'mode': 'sentiment_analysis', 'label': 'neutral'}) (input_keys={'task'}): Invalid order string format. Ensure it follows '[<name of staff>] <order>'.. Set `provide_traceback=True` to see the stack trace.\n"
     ]
    },
    {
     "name": "stdout",
     "output_type": "stream",
     "text": [
      "\n"
     ]
    },
    {
     "name": "stderr",
     "output_type": "stream",
     "text": [
      "2025/02/09 01:57:28 ERROR dspy.utils.parallelizer: Error processing item Example({'task': 'What is the sentiment of this news? Please choose an answer from {negative/neutral/positive}.\\nThe Helsinki-based company , which also owns the Salomon , Atomic and Suunto brands , said net profit rose 15 percent in the three months through Dec. 31 to (  x20ac ) 47 million ( $ 61US million ) , from (  x20ac ) 40.8 million a year earlier .', 'mode': 'sentiment_analysis', 'label': 'positive'}) (input_keys={'task'}): Invalid order string format. Ensure it follows '[<name of staff>] <order>'.. Set `provide_traceback=True` to see the stack trace.\n",
      "2025/02/09 01:57:28 ERROR dspy.utils.parallelizer: Error processing item Example({'task': 'What is the sentiment of this news? Please choose an answer from {negative/neutral/positive}.\\nThe optimization of the steel components heating process will reduce the energy consumption .', 'mode': 'sentiment_analysis', 'label': 'positive'}) (input_keys={'task'}): Invalid order string format. Ensure it follows '[<name of staff>] <order>'.. Set `provide_traceback=True` to see the stack trace.\n",
      "2025/02/09 01:57:28 ERROR dspy.utils.parallelizer: Error processing item Example({'task': 'What is the sentiment of this news? Please choose an answer from {negative/neutral/positive}.\\nFinnish management software solutions provider Ixonos Oyj net profit decreased to 369,000 euro ( $ 575,000 ) for the first quarter of 2008 from 669,000 euro ( $ 1.0 mln ) for the same period of 2007 .', 'mode': 'sentiment_analysis', 'label': 'negative'}) (input_keys={'task'}): Invalid order string format. Ensure it follows '[<name of staff>] <order>'.. Set `provide_traceback=True` to see the stack trace.\n",
      "2025/02/09 01:57:28 ERROR dspy.utils.parallelizer: Error processing item Example({'task': 'What is the sentiment of this news? Please choose an answer from {negative/neutral/positive}.\\nAmong the Scandinavian companies present in St. Petersburg , is also named the Swedish concern NCC , which implements projects in the field of asphalt production , road and housing construction ( project Swedish Krona ) .', 'mode': 'sentiment_analysis', 'label': 'neutral'}) (input_keys={'task'}): Invalid order string format. Ensure it follows '[<name of staff>] <order>'.. Set `provide_traceback=True` to see the stack trace.\n"
     ]
    },
    {
     "name": "stdout",
     "output_type": "stream",
     "text": [
      "  0%|          | 0/50 [00:00<?, ?it/s]"
     ]
    },
    {
     "name": "stderr",
     "output_type": "stream",
     "text": [
      "2025/02/09 01:57:28 ERROR dspy.utils.parallelizer: Error processing item Example({'task': 'Does the news headline compare gold with any other asset? Please choose an answer from {Yes/No}.\\ngold suffers third straight daily decline', 'mode': 'headline_classification', 'label': 'No'}) (input_keys={'task'}): Invalid order string format. Ensure it follows '[<name of staff>] <order>'.. Set `provide_traceback=True` to see the stack trace.\n"
     ]
    },
    {
     "name": "stdout",
     "output_type": "stream",
     "text": [
      "Average Metric: 0.00 / 1 (0.0%):   2%|▏         | 1/50 [00:00<00:00, 114.22it/s]"
     ]
    },
    {
     "name": "stderr",
     "output_type": "stream",
     "text": [
      "2025/02/09 01:57:29 ERROR dspy.utils.parallelizer: Error processing item Example({'task': 'What is the sentiment of this tweet? Please choose an answer from {negative/neutral/positive}.\\n$HCP Come to the party and buy this -gonna give solid gains and a dividend $$$$$$', 'mode': 'sentiment_analysis', 'label': 'positive'}) (input_keys={'task'}): Invalid order string format. Ensure it follows '[<name of staff>] <order>'.. Set `provide_traceback=True` to see the stack trace.\n",
      "2025/02/09 01:58:01 INFO dspy.teleprompt.mipro_optimizer_v2: Score: 0.0 on minibatch of size 50 with parameters ['Predictor 0: Instruction 1', 'Predictor 0: Few-Shot Set 0', 'Predictor 1: Instruction 0', 'Predictor 1: Few-Shot Set 1', 'Predictor 2: Instruction 0', 'Predictor 2: Few-Shot Set 1', 'Predictor 3: Instruction 1', 'Predictor 3: Few-Shot Set 1', 'Predictor 4: Instruction 0', 'Predictor 4: Few-Shot Set 0', 'Predictor 5: Instruction 1', 'Predictor 5: Few-Shot Set 0', 'Predictor 6: Instruction 1', 'Predictor 6: Few-Shot Set 1', 'Predictor 7: Instruction 1', 'Predictor 7: Few-Shot Set 1', 'Predictor 8: Instruction 0', 'Predictor 8: Few-Shot Set 1', 'Predictor 9: Instruction 0', 'Predictor 9: Few-Shot Set 0', 'Predictor 10: Instruction 0', 'Predictor 10: Few-Shot Set 0', 'Predictor 11: Instruction 1', 'Predictor 11: Few-Shot Set 0'].\n",
      "2025/02/09 01:58:01 INFO dspy.teleprompt.mipro_optimizer_v2: Minibatch scores so far: [0.0, 37.15, 24.37, 31.01, 0.0, 0.0, 0.0, 0.0, 0.0, 0.0, 22.91, 13.61, 20.35, 0.0]\n",
      "2025/02/09 01:58:01 INFO dspy.teleprompt.mipro_optimizer_v2: Full eval scores so far: [32.79, 27.56, 28.83, 28.36]\n",
      "2025/02/09 01:58:01 INFO dspy.teleprompt.mipro_optimizer_v2: Best full score so far: 32.79\n",
      "2025/02/09 01:58:01 INFO dspy.teleprompt.mipro_optimizer_v2: =============================\n",
      "\n",
      "\n",
      "2025/02/09 01:58:01 INFO dspy.teleprompt.mipro_optimizer_v2: == Minibatch Trial 15 / 25 ==\n"
     ]
    },
    {
     "name": "stdout",
     "output_type": "stream",
     "text": [
      "Exception occurred: Invalid order string format. Ensure it follows '[<name of staff>] <order>'.\n",
      "Average Metric: 0.00 / 1 (0.0%):   4%|▍         | 2/50 [00:33<13:23, 16.75s/it] \n",
      "Average Metric: 18.70 / 50 (37.4%): 100%|██████████| 50/50 [00:02<00:00, 22.09it/s]"
     ]
    },
    {
     "name": "stderr",
     "output_type": "stream",
     "text": [
      "2025/02/09 01:58:05 INFO dspy.evaluate.evaluate: Average Metric: 18.696126531420646 / 50 (37.4%)\n",
      "2025/02/09 01:58:06 INFO dspy.teleprompt.mipro_optimizer_v2: Score: 37.39 on minibatch of size 50 with parameters ['Predictor 0: Instruction 0', 'Predictor 0: Few-Shot Set 0', 'Predictor 1: Instruction 0', 'Predictor 1: Few-Shot Set 1', 'Predictor 2: Instruction 0', 'Predictor 2: Few-Shot Set 1', 'Predictor 3: Instruction 1', 'Predictor 3: Few-Shot Set 0', 'Predictor 4: Instruction 1', 'Predictor 4: Few-Shot Set 0', 'Predictor 5: Instruction 1', 'Predictor 5: Few-Shot Set 0', 'Predictor 6: Instruction 1', 'Predictor 6: Few-Shot Set 1', 'Predictor 7: Instruction 1', 'Predictor 7: Few-Shot Set 0', 'Predictor 8: Instruction 0', 'Predictor 8: Few-Shot Set 1', 'Predictor 9: Instruction 0', 'Predictor 9: Few-Shot Set 1', 'Predictor 10: Instruction 0', 'Predictor 10: Few-Shot Set 0', 'Predictor 11: Instruction 1', 'Predictor 11: Few-Shot Set 0'].\n",
      "2025/02/09 01:58:06 INFO dspy.teleprompt.mipro_optimizer_v2: Minibatch scores so far: [0.0, 37.15, 24.37, 31.01, 0.0, 0.0, 0.0, 0.0, 0.0, 0.0, 22.91, 13.61, 20.35, 0.0, 37.39]\n",
      "2025/02/09 01:58:06 INFO dspy.teleprompt.mipro_optimizer_v2: Full eval scores so far: [32.79, 27.56, 28.83, 28.36]\n",
      "2025/02/09 01:58:06 INFO dspy.teleprompt.mipro_optimizer_v2: Best full score so far: 32.79\n",
      "2025/02/09 01:58:06 INFO dspy.teleprompt.mipro_optimizer_v2: =============================\n",
      "\n",
      "\n",
      "2025/02/09 01:58:06 INFO dspy.teleprompt.mipro_optimizer_v2: == Minibatch Trial 16 / 25 ==\n"
     ]
    },
    {
     "name": "stdout",
     "output_type": "stream",
     "text": [
      "\n",
      "Average Metric: 16.60 / 50 (33.2%): 100%|██████████| 50/50 [00:24<00:00,  2.03it/s]"
     ]
    },
    {
     "name": "stderr",
     "output_type": "stream",
     "text": [
      "2025/02/09 01:58:32 INFO dspy.evaluate.evaluate: Average Metric: 16.596063748079878 / 50 (33.2%)\n",
      "2025/02/09 01:58:32 INFO dspy.teleprompt.mipro_optimizer_v2: Score: 33.19 on minibatch of size 50 with parameters ['Predictor 0: Instruction 0', 'Predictor 0: Few-Shot Set 0', 'Predictor 1: Instruction 0', 'Predictor 1: Few-Shot Set 1', 'Predictor 2: Instruction 0', 'Predictor 2: Few-Shot Set 1', 'Predictor 3: Instruction 0', 'Predictor 3: Few-Shot Set 0', 'Predictor 4: Instruction 1', 'Predictor 4: Few-Shot Set 0', 'Predictor 5: Instruction 1', 'Predictor 5: Few-Shot Set 0', 'Predictor 6: Instruction 0', 'Predictor 6: Few-Shot Set 1', 'Predictor 7: Instruction 1', 'Predictor 7: Few-Shot Set 0', 'Predictor 8: Instruction 0', 'Predictor 8: Few-Shot Set 1', 'Predictor 9: Instruction 0', 'Predictor 9: Few-Shot Set 1', 'Predictor 10: Instruction 0', 'Predictor 10: Few-Shot Set 0', 'Predictor 11: Instruction 0', 'Predictor 11: Few-Shot Set 0'].\n",
      "2025/02/09 01:58:32 INFO dspy.teleprompt.mipro_optimizer_v2: Minibatch scores so far: [0.0, 37.15, 24.37, 31.01, 0.0, 0.0, 0.0, 0.0, 0.0, 0.0, 22.91, 13.61, 20.35, 0.0, 37.39, 33.19]\n",
      "2025/02/09 01:58:32 INFO dspy.teleprompt.mipro_optimizer_v2: Full eval scores so far: [32.79, 27.56, 28.83, 28.36]\n",
      "2025/02/09 01:58:32 INFO dspy.teleprompt.mipro_optimizer_v2: Best full score so far: 32.79\n",
      "2025/02/09 01:58:32 INFO dspy.teleprompt.mipro_optimizer_v2: =============================\n",
      "\n",
      "\n",
      "2025/02/09 01:58:32 INFO dspy.teleprompt.mipro_optimizer_v2: ===== Full Eval 4 =====\n",
      "2025/02/09 01:58:32 INFO dspy.teleprompt.mipro_optimizer_v2: Doing full eval on next top averaging program (Avg Score: 37.39) from minibatch trials...\n"
     ]
    },
    {
     "name": "stdout",
     "output_type": "stream",
     "text": [
      "\n",
      "Average Metric: 67.20 / 240 (28.0%): 100%|██████████| 240/240 [00:29<00:00,  8.27it/s]"
     ]
    },
    {
     "name": "stderr",
     "output_type": "stream",
     "text": [
      "2025/02/09 01:59:05 INFO dspy.evaluate.evaluate: Average Metric: 67.19741258878986 / 240 (28.0%)\n",
      "2025/02/09 01:59:05 INFO dspy.teleprompt.mipro_optimizer_v2: Full eval scores so far: [32.79, 27.56, 28.83, 28.36, 28.0]\n",
      "2025/02/09 01:59:05 INFO dspy.teleprompt.mipro_optimizer_v2: Best full score so far: 32.79\n",
      "2025/02/09 01:59:05 INFO dspy.teleprompt.mipro_optimizer_v2: =======================\n",
      "2025/02/09 01:59:05 INFO dspy.teleprompt.mipro_optimizer_v2: \n",
      "\n",
      "2025/02/09 01:59:05 INFO dspy.teleprompt.mipro_optimizer_v2: == Minibatch Trial 17 / 25 ==\n",
      "2025/02/09 01:59:05 ERROR dspy.utils.parallelizer: Error processing item Example({'task': 'Based on your financial expertise, provide your response or viewpoint on the given financial question or topic. The response format is open.\\nTaxable income on full-time job + business earnings', 'mode': 'fiqa', 'label': \"I'm not sure I am fully understanding the nuance of your question, but based on your answer in the comments you and your business are not separate legal entities. So your income is the full $70K, there is no distinct business to have income. If you clarify your question to include why you want to know this I might be able to give a more meaningful answer for your situation.\"}) (input_keys={'task'}): Invalid order string format. Ensure it follows '[<name of staff>] <order>'.. Set `provide_traceback=True` to see the stack trace.\n",
      "2025/02/09 01:59:05 ERROR dspy.utils.parallelizer: Error processing item Example({'task': 'What is the sentiment of this tweet? Please choose an answer from {negative/neutral/positive}.\\n$DNKN $KKD $DPZ $LOCO Inside week buy triggers. http://stks.co/h0vV8  http://stks.co/r0ebN', 'mode': 'sentiment_analysis', 'label': 'positive'}) (input_keys={'task'}): Invalid order string format. Ensure it follows '[<name of staff>] <order>'.. Set `provide_traceback=True` to see the stack trace.\n",
      "2025/02/09 01:59:06 ERROR dspy.utils.parallelizer: Error processing item Example({'task': 'Does the news headline talk about price in the future? Please choose an answer from {Yes/No}.\\nGold futures fall for the session, but gain for the week', 'mode': 'headline_classification', 'label': 'No'}) (input_keys={'task'}): Invalid order string format. Ensure it follows '[<name of staff>] <order>'.. Set `provide_traceback=True` to see the stack trace.\n"
     ]
    },
    {
     "name": "stdout",
     "output_type": "stream",
     "text": [
      "\n"
     ]
    },
    {
     "name": "stderr",
     "output_type": "stream",
     "text": [
      "2025/02/09 01:59:06 ERROR dspy.utils.parallelizer: Error processing item Example({'task': 'What is the sentiment of this news? Please choose an answer from {negative/neutral/positive}.\\nThe objective of the planned measures is to achieve significant savings in the next few years .', 'mode': 'sentiment_analysis', 'label': 'positive'}) (input_keys={'task'}): Invalid order string format. Ensure it follows '[<name of staff>] <order>'.. Set `provide_traceback=True` to see the stack trace.\n",
      "2025/02/09 01:59:06 ERROR dspy.utils.parallelizer: Error processing item Example({'task': \"What is the sentiment of this news? Please choose an answer from {strong negative/moderately negative/mildly negative/neutral/mildly positive/moderately positive/strong positive}.\\nCadence's (CDNS) performance has been benefiting from its diversified product portfolio and synergies from acquisitions.\", 'mode': 'sentiment_analysis', 'label': 'moderately positive'}) (input_keys={'task'}): Invalid order string format. Ensure it follows '[<name of staff>] <order>'.. Set `provide_traceback=True` to see the stack trace.\n",
      "2025/02/09 01:59:06 ERROR dspy.utils.parallelizer: Error processing item Example({'task': 'Utilize your financial knowledge, give your answer or opinion to the input question or subject . Answer format is not limited.\\nWhat are the ins/outs of writing equipment purchases off as business expenses in a home based business?', 'mode': 'fiqa', 'label': \"First of all, Dilip's answer explains well how the business deductions generally work. For most (big) expenses you depreciate it. However, in some cases you need to capitalize it, which is another accounting method. When you capitalize your expense, it becomes part of the basis of the product you're creating. Since you're an engineer, this might be relevant for you. Talk to your tax adviser. How exactly you deduct/depreciate/capitalize things, and what expense goes which way depends greatly on the laws and jurisdictions. Even in the US, different states have different laws, and the IRS and State laws don't have to conform (unfortunately). For example, the limitations on Sec. 179 deduction in 2010-2011 were 20 times higher on Federal level than in the State of California. This could have lead to cases where you fully deducted your expense on your Federal tax return, but need to continue and depreciate it on your State return (or vice versa). Good tax adviser is crucial to avoid or manage these cases.\"}) (input_keys={'task'}): Invalid order string format. Ensure it follows '[<name of staff>] <order>'.. Set `provide_traceback=True` to see the stack trace.\n",
      "2025/02/09 01:59:06 ERROR dspy.utils.parallelizer: Error processing item Example({'task': 'Does the news headline talk about price in the past? Please choose an answer from {Yes/No}.\\nGold struggles; silver slides, base metals falter', 'mode': 'headline_classification', 'label': 'Yes'}) (input_keys={'task'}): Invalid order string format. Ensure it follows '[<name of staff>] <order>'.. Set `provide_traceback=True` to see the stack trace.\n",
      "2025/02/09 01:59:06 ERROR dspy.utils.parallelizer: Error processing item Example({'task': 'Does the news headline talk about price in the past? Please choose an answer from {Yes/No}.\\nGold snaps three-day rally as Trump, lawmakers reach debt-ceiling deal', 'mode': 'headline_classification', 'label': 'Yes'}) (input_keys={'task'}): Invalid order string format. Ensure it follows '[<name of staff>] <order>'.. Set `provide_traceback=True` to see the stack trace.\n",
      "2025/02/09 01:59:06 ERROR dspy.utils.parallelizer: Error processing item Example({'task': 'What is the sentiment of this news? Please choose an answer from {negative/neutral/positive}.\\nFinnish operator Elisa and Aker Yards have signed a long-term service deal through which Elisa will deliver all necessary voice and data services for Aker Yards in Finland .', 'mode': 'sentiment_analysis', 'label': 'positive'}) (input_keys={'task'}): Invalid order string format. Ensure it follows '[<name of staff>] <order>'.. Set `provide_traceback=True` to see the stack trace.\n"
     ]
    },
    {
     "name": "stdout",
     "output_type": "stream",
     "text": [
      "Average Metric: 0.00 / 2 (0.0%):   8%|▊         | 4/50 [00:00<00:00, 82.14it/s]"
     ]
    },
    {
     "name": "stderr",
     "output_type": "stream",
     "text": [
      "2025/02/09 01:59:44 INFO dspy.teleprompt.mipro_optimizer_v2: Score: 0.0 on minibatch of size 50 with parameters ['Predictor 0: Instruction 1', 'Predictor 0: Few-Shot Set 0', 'Predictor 1: Instruction 0', 'Predictor 1: Few-Shot Set 1', 'Predictor 2: Instruction 0', 'Predictor 2: Few-Shot Set 0', 'Predictor 3: Instruction 1', 'Predictor 3: Few-Shot Set 0', 'Predictor 4: Instruction 1', 'Predictor 4: Few-Shot Set 0', 'Predictor 5: Instruction 1', 'Predictor 5: Few-Shot Set 0', 'Predictor 6: Instruction 1', 'Predictor 6: Few-Shot Set 1', 'Predictor 7: Instruction 1', 'Predictor 7: Few-Shot Set 0', 'Predictor 8: Instruction 1', 'Predictor 8: Few-Shot Set 1', 'Predictor 9: Instruction 0', 'Predictor 9: Few-Shot Set 1', 'Predictor 10: Instruction 0', 'Predictor 10: Few-Shot Set 0', 'Predictor 11: Instruction 1', 'Predictor 11: Few-Shot Set 0'].\n",
      "2025/02/09 01:59:44 INFO dspy.teleprompt.mipro_optimizer_v2: Minibatch scores so far: [0.0, 37.15, 24.37, 31.01, 0.0, 0.0, 0.0, 0.0, 0.0, 0.0, 22.91, 13.61, 20.35, 0.0, 37.39, 33.19, 0.0]\n",
      "2025/02/09 01:59:44 INFO dspy.teleprompt.mipro_optimizer_v2: Full eval scores so far: [32.79, 27.56, 28.83, 28.36, 28.0]\n",
      "2025/02/09 01:59:44 INFO dspy.teleprompt.mipro_optimizer_v2: Best full score so far: 32.79\n",
      "2025/02/09 01:59:44 INFO dspy.teleprompt.mipro_optimizer_v2: =============================\n",
      "\n",
      "\n",
      "2025/02/09 01:59:44 INFO dspy.teleprompt.mipro_optimizer_v2: == Minibatch Trial 18 / 25 ==\n"
     ]
    },
    {
     "name": "stdout",
     "output_type": "stream",
     "text": [
      "Exception occurred: Invalid order string format. Ensure it follows '[<name of staff>] <order>'.\n",
      "Average Metric: 0.00 / 2 (0.0%):  10%|█         | 5/50 [00:38<05:49,  7.76s/it]\n",
      "Average Metric: 15.04 / 50 (30.1%): 100%|██████████| 50/50 [00:35<00:00,  1.41it/s]"
     ]
    },
    {
     "name": "stderr",
     "output_type": "stream",
     "text": [
      "2025/02/09 02:00:21 INFO dspy.evaluate.evaluate: Average Metric: 15.041825288377012 / 50 (30.1%)\n",
      "2025/02/09 02:00:21 INFO dspy.teleprompt.mipro_optimizer_v2: Score: 30.08 on minibatch of size 50 with parameters ['Predictor 0: Instruction 0', 'Predictor 0: Few-Shot Set 0', 'Predictor 1: Instruction 1', 'Predictor 1: Few-Shot Set 1', 'Predictor 2: Instruction 0', 'Predictor 2: Few-Shot Set 1', 'Predictor 3: Instruction 1', 'Predictor 3: Few-Shot Set 0', 'Predictor 4: Instruction 1', 'Predictor 4: Few-Shot Set 0', 'Predictor 5: Instruction 1', 'Predictor 5: Few-Shot Set 0', 'Predictor 6: Instruction 1', 'Predictor 6: Few-Shot Set 1', 'Predictor 7: Instruction 0', 'Predictor 7: Few-Shot Set 1', 'Predictor 8: Instruction 0', 'Predictor 8: Few-Shot Set 1', 'Predictor 9: Instruction 1', 'Predictor 9: Few-Shot Set 1', 'Predictor 10: Instruction 0', 'Predictor 10: Few-Shot Set 0', 'Predictor 11: Instruction 1', 'Predictor 11: Few-Shot Set 0'].\n",
      "2025/02/09 02:00:21 INFO dspy.teleprompt.mipro_optimizer_v2: Minibatch scores so far: [0.0, 37.15, 24.37, 31.01, 0.0, 0.0, 0.0, 0.0, 0.0, 0.0, 22.91, 13.61, 20.35, 0.0, 37.39, 33.19, 0.0, 30.08]\n",
      "2025/02/09 02:00:21 INFO dspy.teleprompt.mipro_optimizer_v2: Full eval scores so far: [32.79, 27.56, 28.83, 28.36, 28.0]\n",
      "2025/02/09 02:00:21 INFO dspy.teleprompt.mipro_optimizer_v2: Best full score so far: 32.79\n",
      "2025/02/09 02:00:21 INFO dspy.teleprompt.mipro_optimizer_v2: =============================\n",
      "\n",
      "\n",
      "2025/02/09 02:00:21 INFO dspy.teleprompt.mipro_optimizer_v2: == Minibatch Trial 19 / 25 ==\n"
     ]
    },
    {
     "name": "stdout",
     "output_type": "stream",
     "text": [
      "\n",
      "Average Metric: 15.17 / 50 (30.3%): 100%|██████████| 50/50 [00:01<00:00, 27.39it/s]"
     ]
    },
    {
     "name": "stderr",
     "output_type": "stream",
     "text": [
      "2025/02/09 02:00:25 INFO dspy.evaluate.evaluate: Average Metric: 15.16697428581679 / 50 (30.3%)\n",
      "2025/02/09 02:00:25 INFO dspy.teleprompt.mipro_optimizer_v2: Score: 30.33 on minibatch of size 50 with parameters ['Predictor 0: Instruction 0', 'Predictor 0: Few-Shot Set 1', 'Predictor 1: Instruction 1', 'Predictor 1: Few-Shot Set 1', 'Predictor 2: Instruction 0', 'Predictor 2: Few-Shot Set 1', 'Predictor 3: Instruction 1', 'Predictor 3: Few-Shot Set 0', 'Predictor 4: Instruction 1', 'Predictor 4: Few-Shot Set 0', 'Predictor 5: Instruction 1', 'Predictor 5: Few-Shot Set 0', 'Predictor 6: Instruction 1', 'Predictor 6: Few-Shot Set 0', 'Predictor 7: Instruction 1', 'Predictor 7: Few-Shot Set 0', 'Predictor 8: Instruction 0', 'Predictor 8: Few-Shot Set 1', 'Predictor 9: Instruction 0', 'Predictor 9: Few-Shot Set 1', 'Predictor 10: Instruction 0', 'Predictor 10: Few-Shot Set 0', 'Predictor 11: Instruction 1', 'Predictor 11: Few-Shot Set 0'].\n"
     ]
    },
    {
     "name": "stdout",
     "output_type": "stream",
     "text": [
      "\n"
     ]
    },
    {
     "name": "stderr",
     "output_type": "stream",
     "text": [
      "2025/02/09 02:00:25 INFO dspy.teleprompt.mipro_optimizer_v2: Minibatch scores so far: [0.0, 37.15, 24.37, 31.01, 0.0, 0.0, 0.0, 0.0, 0.0, 0.0, 22.91, 13.61, 20.35, 0.0, 37.39, 33.19, 0.0, 30.08, 30.33]\n",
      "2025/02/09 02:00:25 INFO dspy.teleprompt.mipro_optimizer_v2: Full eval scores so far: [32.79, 27.56, 28.83, 28.36, 28.0]\n",
      "2025/02/09 02:00:25 INFO dspy.teleprompt.mipro_optimizer_v2: Best full score so far: 32.79\n",
      "2025/02/09 02:00:25 INFO dspy.teleprompt.mipro_optimizer_v2: =============================\n",
      "\n",
      "\n",
      "2025/02/09 02:00:25 INFO dspy.teleprompt.mipro_optimizer_v2: == Minibatch Trial 20 / 25 ==\n"
     ]
    },
    {
     "name": "stdout",
     "output_type": "stream",
     "text": [
      "Average Metric: 16.10 / 50 (32.2%): 100%|██████████| 50/50 [00:01<00:00, 30.09it/s]"
     ]
    },
    {
     "name": "stderr",
     "output_type": "stream",
     "text": [
      "2025/02/09 02:00:29 INFO dspy.evaluate.evaluate: Average Metric: 16.10162583390844 / 50 (32.2%)\n",
      "2025/02/09 02:00:29 INFO dspy.teleprompt.mipro_optimizer_v2: Score: 32.2 on minibatch of size 50 with parameters ['Predictor 0: Instruction 0', 'Predictor 0: Few-Shot Set 0', 'Predictor 1: Instruction 0', 'Predictor 1: Few-Shot Set 1', 'Predictor 2: Instruction 0', 'Predictor 2: Few-Shot Set 1', 'Predictor 3: Instruction 1', 'Predictor 3: Few-Shot Set 0', 'Predictor 4: Instruction 0', 'Predictor 4: Few-Shot Set 1', 'Predictor 5: Instruction 0', 'Predictor 5: Few-Shot Set 0', 'Predictor 6: Instruction 0', 'Predictor 6: Few-Shot Set 1', 'Predictor 7: Instruction 1', 'Predictor 7: Few-Shot Set 0', 'Predictor 8: Instruction 0', 'Predictor 8: Few-Shot Set 1', 'Predictor 9: Instruction 0', 'Predictor 9: Few-Shot Set 1', 'Predictor 10: Instruction 0', 'Predictor 10: Few-Shot Set 0', 'Predictor 11: Instruction 1', 'Predictor 11: Few-Shot Set 0'].\n",
      "2025/02/09 02:00:29 INFO dspy.teleprompt.mipro_optimizer_v2: Minibatch scores so far: [0.0, 37.15, 24.37, 31.01, 0.0, 0.0, 0.0, 0.0, 0.0, 0.0, 22.91, 13.61, 20.35, 0.0, 37.39, 33.19, 0.0, 30.08, 30.33, 32.2]\n",
      "2025/02/09 02:00:29 INFO dspy.teleprompt.mipro_optimizer_v2: Full eval scores so far: [32.79, 27.56, 28.83, 28.36, 28.0]\n",
      "2025/02/09 02:00:29 INFO dspy.teleprompt.mipro_optimizer_v2: Best full score so far: 32.79\n",
      "2025/02/09 02:00:29 INFO dspy.teleprompt.mipro_optimizer_v2: =============================\n",
      "\n",
      "\n",
      "2025/02/09 02:00:29 INFO dspy.teleprompt.mipro_optimizer_v2: ===== Full Eval 5 =====\n",
      "2025/02/09 02:00:29 INFO dspy.teleprompt.mipro_optimizer_v2: Doing full eval on next top averaging program (Avg Score: 33.19) from minibatch trials...\n"
     ]
    },
    {
     "name": "stdout",
     "output_type": "stream",
     "text": [
      "\n",
      "Average Metric: 71.12 / 240 (29.6%): 100%|██████████| 240/240 [00:32<00:00,  7.31it/s]"
     ]
    },
    {
     "name": "stderr",
     "output_type": "stream",
     "text": [
      "2025/02/09 02:01:06 INFO dspy.evaluate.evaluate: Average Metric: 71.12333851471577 / 240 (29.6%)\n",
      "2025/02/09 02:01:06 INFO dspy.teleprompt.mipro_optimizer_v2: Full eval scores so far: [32.79, 27.56, 28.83, 28.36, 28.0, 29.63]\n",
      "2025/02/09 02:01:06 INFO dspy.teleprompt.mipro_optimizer_v2: Best full score so far: 32.79\n",
      "2025/02/09 02:01:06 INFO dspy.teleprompt.mipro_optimizer_v2: =======================\n",
      "2025/02/09 02:01:06 INFO dspy.teleprompt.mipro_optimizer_v2: \n",
      "\n",
      "2025/02/09 02:01:06 INFO dspy.teleprompt.mipro_optimizer_v2: == Minibatch Trial 21 / 25 ==\n"
     ]
    },
    {
     "name": "stdout",
     "output_type": "stream",
     "text": [
      "\n",
      "Average Metric: 12.39 / 50 (24.8%): 100%|██████████| 50/50 [00:02<00:00, 24.59it/s]"
     ]
    },
    {
     "name": "stderr",
     "output_type": "stream",
     "text": [
      "2025/02/09 02:01:10 INFO dspy.evaluate.evaluate: Average Metric: 12.393746222673101 / 50 (24.8%)\n"
     ]
    },
    {
     "name": "stdout",
     "output_type": "stream",
     "text": [
      "\n"
     ]
    },
    {
     "name": "stderr",
     "output_type": "stream",
     "text": [
      "2025/02/09 02:01:10 INFO dspy.teleprompt.mipro_optimizer_v2: Score: 24.79 on minibatch of size 50 with parameters ['Predictor 0: Instruction 0', 'Predictor 0: Few-Shot Set 0', 'Predictor 1: Instruction 0', 'Predictor 1: Few-Shot Set 1', 'Predictor 2: Instruction 0', 'Predictor 2: Few-Shot Set 1', 'Predictor 3: Instruction 1', 'Predictor 3: Few-Shot Set 0', 'Predictor 4: Instruction 1', 'Predictor 4: Few-Shot Set 1', 'Predictor 5: Instruction 1', 'Predictor 5: Few-Shot Set 0', 'Predictor 6: Instruction 1', 'Predictor 6: Few-Shot Set 1', 'Predictor 7: Instruction 1', 'Predictor 7: Few-Shot Set 0', 'Predictor 8: Instruction 0', 'Predictor 8: Few-Shot Set 1', 'Predictor 9: Instruction 0', 'Predictor 9: Few-Shot Set 1', 'Predictor 10: Instruction 0', 'Predictor 10: Few-Shot Set 1', 'Predictor 11: Instruction 1', 'Predictor 11: Few-Shot Set 1'].\n",
      "2025/02/09 02:01:10 INFO dspy.teleprompt.mipro_optimizer_v2: Minibatch scores so far: [0.0, 37.15, 24.37, 31.01, 0.0, 0.0, 0.0, 0.0, 0.0, 0.0, 22.91, 13.61, 20.35, 0.0, 37.39, 33.19, 0.0, 30.08, 30.33, 32.2, 24.79]\n",
      "2025/02/09 02:01:10 INFO dspy.teleprompt.mipro_optimizer_v2: Full eval scores so far: [32.79, 27.56, 28.83, 28.36, 28.0, 29.63]\n",
      "2025/02/09 02:01:10 INFO dspy.teleprompt.mipro_optimizer_v2: Best full score so far: 32.79\n",
      "2025/02/09 02:01:10 INFO dspy.teleprompt.mipro_optimizer_v2: =============================\n",
      "\n",
      "\n",
      "2025/02/09 02:01:10 INFO dspy.teleprompt.mipro_optimizer_v2: == Minibatch Trial 22 / 25 ==\n"
     ]
    },
    {
     "name": "stdout",
     "output_type": "stream",
     "text": [
      "Average Metric: 13.66 / 50 (27.3%): 100%|██████████| 50/50 [00:02<00:00, 20.86it/s]"
     ]
    },
    {
     "name": "stderr",
     "output_type": "stream",
     "text": [
      "2025/02/09 02:01:15 INFO dspy.evaluate.evaluate: Average Metric: 13.658708048224176 / 50 (27.3%)\n",
      "2025/02/09 02:01:15 INFO dspy.teleprompt.mipro_optimizer_v2: Score: 27.32 on minibatch of size 50 with parameters ['Predictor 0: Instruction 0', 'Predictor 0: Few-Shot Set 0', 'Predictor 1: Instruction 1', 'Predictor 1: Few-Shot Set 1', 'Predictor 2: Instruction 0', 'Predictor 2: Few-Shot Set 1', 'Predictor 3: Instruction 0', 'Predictor 3: Few-Shot Set 0', 'Predictor 4: Instruction 1', 'Predictor 4: Few-Shot Set 0', 'Predictor 5: Instruction 1', 'Predictor 5: Few-Shot Set 0', 'Predictor 6: Instruction 0', 'Predictor 6: Few-Shot Set 1', 'Predictor 7: Instruction 1', 'Predictor 7: Few-Shot Set 0', 'Predictor 8: Instruction 0', 'Predictor 8: Few-Shot Set 1', 'Predictor 9: Instruction 0', 'Predictor 9: Few-Shot Set 1', 'Predictor 10: Instruction 0', 'Predictor 10: Few-Shot Set 0', 'Predictor 11: Instruction 0', 'Predictor 11: Few-Shot Set 0'].\n",
      "2025/02/09 02:01:15 INFO dspy.teleprompt.mipro_optimizer_v2: Minibatch scores so far: [0.0, 37.15, 24.37, 31.01, 0.0, 0.0, 0.0, 0.0, 0.0, 0.0, 22.91, 13.61, 20.35, 0.0, 37.39, 33.19, 0.0, 30.08, 30.33, 32.2, 24.79, 27.32]\n",
      "2025/02/09 02:01:15 INFO dspy.teleprompt.mipro_optimizer_v2: Full eval scores so far: [32.79, 27.56, 28.83, 28.36, 28.0, 29.63]\n",
      "2025/02/09 02:01:15 INFO dspy.teleprompt.mipro_optimizer_v2: Best full score so far: 32.79\n",
      "2025/02/09 02:01:15 INFO dspy.teleprompt.mipro_optimizer_v2: =============================\n",
      "\n",
      "\n",
      "2025/02/09 02:01:15 INFO dspy.teleprompt.mipro_optimizer_v2: == Minibatch Trial 23 / 25 ==\n"
     ]
    },
    {
     "name": "stdout",
     "output_type": "stream",
     "text": [
      "\n",
      "Average Metric: 15.53 / 50 (31.1%): 100%|██████████| 50/50 [00:11<00:00,  4.28it/s]"
     ]
    },
    {
     "name": "stderr",
     "output_type": "stream",
     "text": [
      "2025/02/09 02:01:29 INFO dspy.evaluate.evaluate: Average Metric: 15.532885533086395 / 50 (31.1%)\n",
      "2025/02/09 02:01:29 INFO dspy.teleprompt.mipro_optimizer_v2: Score: 31.07 on minibatch of size 50 with parameters ['Predictor 0: Instruction 0', 'Predictor 0: Few-Shot Set 0', 'Predictor 1: Instruction 0', 'Predictor 1: Few-Shot Set 1', 'Predictor 2: Instruction 0', 'Predictor 2: Few-Shot Set 1', 'Predictor 3: Instruction 1', 'Predictor 3: Few-Shot Set 0', 'Predictor 4: Instruction 0', 'Predictor 4: Few-Shot Set 0', 'Predictor 5: Instruction 1', 'Predictor 5: Few-Shot Set 0', 'Predictor 6: Instruction 0', 'Predictor 6: Few-Shot Set 1', 'Predictor 7: Instruction 1', 'Predictor 7: Few-Shot Set 0', 'Predictor 8: Instruction 0', 'Predictor 8: Few-Shot Set 0', 'Predictor 9: Instruction 1', 'Predictor 9: Few-Shot Set 0', 'Predictor 10: Instruction 0', 'Predictor 10: Few-Shot Set 0', 'Predictor 11: Instruction 1', 'Predictor 11: Few-Shot Set 0'].\n",
      "2025/02/09 02:01:29 INFO dspy.teleprompt.mipro_optimizer_v2: Minibatch scores so far: [0.0, 37.15, 24.37, 31.01, 0.0, 0.0, 0.0, 0.0, 0.0, 0.0, 22.91, 13.61, 20.35, 0.0, 37.39, 33.19, 0.0, 30.08, 30.33, 32.2, 24.79, 27.32, 31.07]\n",
      "2025/02/09 02:01:29 INFO dspy.teleprompt.mipro_optimizer_v2: Full eval scores so far: [32.79, 27.56, 28.83, 28.36, 28.0, 29.63]\n",
      "2025/02/09 02:01:29 INFO dspy.teleprompt.mipro_optimizer_v2: Best full score so far: 32.79\n",
      "2025/02/09 02:01:29 INFO dspy.teleprompt.mipro_optimizer_v2: =============================\n",
      "\n",
      "\n",
      "2025/02/09 02:01:29 INFO dspy.teleprompt.mipro_optimizer_v2: == Minibatch Trial 24 / 25 ==\n"
     ]
    },
    {
     "name": "stdout",
     "output_type": "stream",
     "text": [
      "\n",
      "Average Metric: 16.07 / 50 (32.1%): 100%|██████████| 50/50 [00:02<00:00, 23.23it/s]"
     ]
    },
    {
     "name": "stderr",
     "output_type": "stream",
     "text": [
      "2025/02/09 02:01:34 INFO dspy.evaluate.evaluate: Average Metric: 16.074054096513116 / 50 (32.1%)\n",
      "2025/02/09 02:01:34 INFO dspy.teleprompt.mipro_optimizer_v2: Score: 32.15 on minibatch of size 50 with parameters ['Predictor 0: Instruction 0', 'Predictor 0: Few-Shot Set 0', 'Predictor 1: Instruction 0', 'Predictor 1: Few-Shot Set 1', 'Predictor 2: Instruction 0', 'Predictor 2: Few-Shot Set 1', 'Predictor 3: Instruction 1', 'Predictor 3: Few-Shot Set 0', 'Predictor 4: Instruction 1', 'Predictor 4: Few-Shot Set 0', 'Predictor 5: Instruction 1', 'Predictor 5: Few-Shot Set 0', 'Predictor 6: Instruction 1', 'Predictor 6: Few-Shot Set 1', 'Predictor 7: Instruction 1', 'Predictor 7: Few-Shot Set 0', 'Predictor 8: Instruction 1', 'Predictor 8: Few-Shot Set 1', 'Predictor 9: Instruction 0', 'Predictor 9: Few-Shot Set 0', 'Predictor 10: Instruction 0', 'Predictor 10: Few-Shot Set 1', 'Predictor 11: Instruction 0', 'Predictor 11: Few-Shot Set 0'].\n",
      "2025/02/09 02:01:34 INFO dspy.teleprompt.mipro_optimizer_v2: Minibatch scores so far: [0.0, 37.15, 24.37, 31.01, 0.0, 0.0, 0.0, 0.0, 0.0, 0.0, 22.91, 13.61, 20.35, 0.0, 37.39, 33.19, 0.0, 30.08, 30.33, 32.2, 24.79, 27.32, 31.07, 32.15]\n",
      "2025/02/09 02:01:34 INFO dspy.teleprompt.mipro_optimizer_v2: Full eval scores so far: [32.79, 27.56, 28.83, 28.36, 28.0, 29.63]\n",
      "2025/02/09 02:01:34 INFO dspy.teleprompt.mipro_optimizer_v2: Best full score so far: 32.79\n",
      "2025/02/09 02:01:34 INFO dspy.teleprompt.mipro_optimizer_v2: =============================\n",
      "\n",
      "\n",
      "2025/02/09 02:01:34 INFO dspy.teleprompt.mipro_optimizer_v2: ===== Full Eval 6 =====\n",
      "2025/02/09 02:01:34 INFO dspy.teleprompt.mipro_optimizer_v2: Doing full eval on next top averaging program (Avg Score: 32.2) from minibatch trials...\n"
     ]
    },
    {
     "name": "stdout",
     "output_type": "stream",
     "text": [
      "\n",
      "Average Metric: 71.20 / 240 (29.7%): 100%|██████████| 240/240 [00:33<00:00,  7.09it/s]"
     ]
    },
    {
     "name": "stderr",
     "output_type": "stream",
     "text": [
      "2025/02/09 02:02:11 INFO dspy.evaluate.evaluate: Average Metric: 71.19741258878985 / 240 (29.7%)\n",
      "2025/02/09 02:02:11 INFO dspy.teleprompt.mipro_optimizer_v2: Full eval scores so far: [32.79, 27.56, 28.83, 28.36, 28.0, 29.63, 29.67]\n",
      "2025/02/09 02:02:11 INFO dspy.teleprompt.mipro_optimizer_v2: Best full score so far: 32.79\n",
      "2025/02/09 02:02:11 INFO dspy.teleprompt.mipro_optimizer_v2: =======================\n",
      "2025/02/09 02:02:11 INFO dspy.teleprompt.mipro_optimizer_v2: \n",
      "\n",
      "2025/02/09 02:02:11 INFO dspy.teleprompt.mipro_optimizer_v2: == Minibatch Trial 25 / 25 ==\n"
     ]
    },
    {
     "name": "stdout",
     "output_type": "stream",
     "text": [
      "\n",
      "Average Metric: 19.46 / 50 (38.9%): 100%|██████████| 50/50 [00:03<00:00, 15.46it/s]"
     ]
    },
    {
     "name": "stderr",
     "output_type": "stream",
     "text": [
      "2025/02/09 02:02:17 INFO dspy.evaluate.evaluate: Average Metric: 19.461440355492076 / 50 (38.9%)\n",
      "2025/02/09 02:02:17 INFO dspy.teleprompt.mipro_optimizer_v2: Score: 38.92 on minibatch of size 50 with parameters ['Predictor 0: Instruction 0', 'Predictor 0: Few-Shot Set 0', 'Predictor 1: Instruction 1', 'Predictor 1: Few-Shot Set 1', 'Predictor 2: Instruction 0', 'Predictor 2: Few-Shot Set 0', 'Predictor 3: Instruction 1', 'Predictor 3: Few-Shot Set 0', 'Predictor 4: Instruction 0', 'Predictor 4: Few-Shot Set 0', 'Predictor 5: Instruction 1', 'Predictor 5: Few-Shot Set 0', 'Predictor 6: Instruction 1', 'Predictor 6: Few-Shot Set 1', 'Predictor 7: Instruction 1', 'Predictor 7: Few-Shot Set 0', 'Predictor 8: Instruction 0', 'Predictor 8: Few-Shot Set 1', 'Predictor 9: Instruction 0', 'Predictor 9: Few-Shot Set 0', 'Predictor 10: Instruction 0', 'Predictor 10: Few-Shot Set 0', 'Predictor 11: Instruction 1', 'Predictor 11: Few-Shot Set 0'].\n",
      "2025/02/09 02:02:17 INFO dspy.teleprompt.mipro_optimizer_v2: Minibatch scores so far: [0.0, 37.15, 24.37, 31.01, 0.0, 0.0, 0.0, 0.0, 0.0, 0.0, 22.91, 13.61, 20.35, 0.0, 37.39, 33.19, 0.0, 30.08, 30.33, 32.2, 24.79, 27.32, 31.07, 32.15, 38.92]\n",
      "2025/02/09 02:02:17 INFO dspy.teleprompt.mipro_optimizer_v2: Full eval scores so far: [32.79, 27.56, 28.83, 28.36, 28.0, 29.63, 29.67]\n",
      "2025/02/09 02:02:17 INFO dspy.teleprompt.mipro_optimizer_v2: Best full score so far: 32.79\n",
      "2025/02/09 02:02:17 INFO dspy.teleprompt.mipro_optimizer_v2: =============================\n",
      "\n",
      "\n",
      "2025/02/09 02:02:17 INFO dspy.teleprompt.mipro_optimizer_v2: ===== Full Eval 7 =====\n",
      "2025/02/09 02:02:17 INFO dspy.teleprompt.mipro_optimizer_v2: Doing full eval on next top averaging program (Avg Score: 38.92) from minibatch trials...\n"
     ]
    },
    {
     "name": "stdout",
     "output_type": "stream",
     "text": [
      "\n",
      "Average Metric: 70.20 / 240 (29.2%): 100%|██████████| 240/240 [00:23<00:00, 10.17it/s]"
     ]
    },
    {
     "name": "stderr",
     "output_type": "stream",
     "text": [
      "2025/02/09 02:02:47 INFO dspy.evaluate.evaluate: Average Metric: 70.19741258878985 / 240 (29.2%)\n",
      "2025/02/09 02:02:47 INFO dspy.teleprompt.mipro_optimizer_v2: Full eval scores so far: [32.79, 27.56, 28.83, 28.36, 28.0, 29.63, 29.67, 29.25]\n",
      "2025/02/09 02:02:47 INFO dspy.teleprompt.mipro_optimizer_v2: Best full score so far: 32.79\n",
      "2025/02/09 02:02:47 INFO dspy.teleprompt.mipro_optimizer_v2: =======================\n",
      "2025/02/09 02:02:47 INFO dspy.teleprompt.mipro_optimizer_v2: \n",
      "\n",
      "2025/02/09 02:02:47 INFO dspy.teleprompt.mipro_optimizer_v2: Returning best identified program with score 32.79!\n"
     ]
    },
    {
     "name": "stdout",
     "output_type": "stream",
     "text": [
      "\n"
     ]
    }
   ],
   "source": [
    "optimized = tp.compile(fin_robot, trainset=train_dspy, num_trials=64, max_bootstrapped_demos=4, max_labeled_demos=4, **kwargs)"
   ]
  },
  {
   "cell_type": "code",
   "execution_count": 11,
   "metadata": {},
   "outputs": [
    {
     "name": "stdout",
     "output_type": "stream",
     "text": [
      "Average Metric: 74.26 / 300 (24.8%): 100%|██████████| 300/300 [00:22<00:00, 13.57it/s] "
     ]
    },
    {
     "name": "stderr",
     "output_type": "stream",
     "text": [
      "2025/02/09 02:26:56 INFO dspy.evaluate.evaluate: Average Metric: 74.25712722224446 / 300 (24.8%)\n"
     ]
    },
    {
     "name": "stdout",
     "output_type": "stream",
     "text": [
      "\n"
     ]
    },
    {
     "data": {
      "text/plain": [
       "24.75"
      ]
     },
     "execution_count": 11,
     "metadata": {},
     "output_type": "execute_result"
    }
   ],
   "source": [
    "evaluator(optimized)"
   ]
  },
  {
   "cell_type": "code",
   "execution_count": 12,
   "metadata": {},
   "outputs": [],
   "source": [
    "optimized.save(\"fin_robot_optimized\")"
   ]
  },
  {
   "cell_type": "code",
   "execution_count": null,
   "metadata": {},
   "outputs": [],
   "source": []
  }
 ],
 "metadata": {
  "kernelspec": {
   "display_name": "test_cognify",
   "language": "python",
   "name": "python3"
  },
  "language_info": {
   "codemirror_mode": {
    "name": "ipython",
    "version": 3
   },
   "file_extension": ".py",
   "mimetype": "text/x-python",
   "name": "python",
   "nbconvert_exporter": "python",
   "pygments_lexer": "ipython3",
   "version": "3.11.0"
  }
 },
 "nbformat": 4,
 "nbformat_minor": 2
}
