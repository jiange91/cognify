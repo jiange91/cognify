{
 "cells": [
  {
   "cell_type": "code",
   "execution_count": 3,
   "metadata": {},
   "outputs": [],
   "source": [
    "import os\n",
    "from pathlib import Path\n",
    "import json\n",
    "import collections"
   ]
  },
  {
   "cell_type": "code",
   "execution_count": 9,
   "metadata": {},
   "outputs": [],
   "source": [
    "root_dir = '/mnt/data/ssd2/zijian/cognify/examples/text-to-sql/small_eval_ca_school_demo_results'"
   ]
  },
  {
   "cell_type": "code",
   "execution_count": 10,
   "metadata": {},
   "outputs": [
    {
     "name": "stdout",
     "output_type": "stream",
     "text": [
      "california_schools\n"
     ]
    }
   ],
   "source": [
    "results = collections.defaultdict(int)\n",
    "rate = collections.defaultdict(int)\n",
    "details = collections.defaultdict(lambda: collections.defaultdict(bool))\n",
    "\n",
    "for path in Path(root_dir).iterdir():\n",
    "    print(path.name)\n",
    "    for qid in path.iterdir():\n",
    "        records = [f for f in qid.iterdir()]\n",
    "        up_to_date = max(records)\n",
    "        \n",
    "        with open(up_to_date / '-statistics.json', 'r') as f:\n",
    "            stats = json.load(f)\n",
    "        ok = False\n",
    "        if len(stats[\"counts\"]) > 0:\n",
    "            # ok = stats[\"counts\"][\"candidate_generation\"][\"correct\"] or stats[\"counts\"][\"revision\"][\"correct\"]\n",
    "            ok = stats[\"counts\"][\"revision\"][\"correct\"]\n",
    "            # ok = stats[\"counts\"][\"candidate_generation\"][\"correct\"]\n",
    "        results[path.name] += int(ok)\n",
    "        details[path.name][qid.name] = ok\n",
    "    rate[path.name] = results[path.name] / len(list(path.iterdir()))"
   ]
  },
  {
   "cell_type": "code",
   "execution_count": 6,
   "metadata": {},
   "outputs": [
    {
     "data": {
      "text/plain": [
       "2"
      ]
     },
     "execution_count": 6,
     "metadata": {},
     "output_type": "execute_result"
    }
   ],
   "source": [
    "sum(results.values())"
   ]
  },
  {
   "cell_type": "code",
   "execution_count": 7,
   "metadata": {},
   "outputs": [
    {
     "data": {
      "text/plain": [
       "defaultdict(int, {'california_schools': 0.25})"
      ]
     },
     "execution_count": 7,
     "metadata": {},
     "output_type": "execute_result"
    }
   ],
   "source": [
    "rate"
   ]
  },
  {
   "cell_type": "code",
   "execution_count": 8,
   "metadata": {},
   "outputs": [
    {
     "data": {
      "text/plain": [
       "defaultdict(bool,\n",
       "            {'35': 1,\n",
       "             '81': 0,\n",
       "             '76': 0,\n",
       "             '21': 0,\n",
       "             '43': 1,\n",
       "             '25': 0,\n",
       "             '40': 0,\n",
       "             '9': 0})"
      ]
     },
     "execution_count": 8,
     "metadata": {},
     "output_type": "execute_result"
    }
   ],
   "source": [
    "details['california_schools']"
   ]
  },
  {
   "cell_type": "code",
   "execution_count": 11,
   "metadata": {},
   "outputs": [
    {
     "data": {
      "text/plain": [
       "defaultdict(bool,\n",
       "            {'35': 1,\n",
       "             '81': 0,\n",
       "             '76': 1,\n",
       "             '21': 0,\n",
       "             '43': 1,\n",
       "             '25': 0,\n",
       "             '40': 0,\n",
       "             '9': 1})"
      ]
     },
     "execution_count": 11,
     "metadata": {},
     "output_type": "execute_result"
    }
   ],
   "source": [
    "details['california_schools']"
   ]
  },
  {
   "cell_type": "code",
   "execution_count": null,
   "metadata": {},
   "outputs": [],
   "source": []
  }
 ],
 "metadata": {
  "kernelspec": {
   "display_name": "test_cognify",
   "language": "python",
   "name": "python3"
  },
  "language_info": {
   "codemirror_mode": {
    "name": "ipython",
    "version": 3
   },
   "file_extension": ".py",
   "mimetype": "text/x-python",
   "name": "python",
   "nbconvert_exporter": "python",
   "pygments_lexer": "ipython3",
   "version": "3.11.0"
  }
 },
 "nbformat": 4,
 "nbformat_minor": 2
}
