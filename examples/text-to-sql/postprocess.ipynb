{
 "cells": [
  {
   "cell_type": "code",
   "execution_count": 1,
   "metadata": {},
   "outputs": [],
   "source": [
    "import os\n",
    "from pathlib import Path\n",
    "import json\n",
    "import collections"
   ]
  },
  {
   "cell_type": "code",
   "execution_count": 2,
   "metadata": {},
   "outputs": [],
   "source": [
    "root_dir = '/mnt/data/ssd2/zijian/cognify/examples/text-to-sql/opt_simplified'\n",
    "other_dir = '/mnt/data/ssd2/zijian/cognify/examples/text-to-sql/opt_result_stats'"
   ]
  },
  {
   "cell_type": "code",
   "execution_count": 3,
   "metadata": {},
   "outputs": [
    {
     "name": "stdout",
     "output_type": "stream",
     "text": [
      "thrombosis_prediction\n",
      "formula_1\n",
      "financial\n",
      "california_schools\n",
      "student_club\n",
      "codebase_community\n",
      "debit_card_specializing\n",
      "card_games\n",
      "european_football_2\n",
      "superhero\n",
      "toxicology\n"
     ]
    }
   ],
   "source": [
    "results = collections.defaultdict(int)\n",
    "rate = collections.defaultdict(int)\n",
    "details = collections.defaultdict(lambda: collections.defaultdict(bool))\n",
    "\n",
    "for path in Path(root_dir).iterdir():\n",
    "    print(path.name)\n",
    "    for qid in path.iterdir():\n",
    "        records = [f for f in qid.iterdir()]\n",
    "        up_to_date = sorted(records)[-1]\n",
    "        \n",
    "        with open(up_to_date / '-statistics.json', 'r') as f:\n",
    "            stats = json.load(f)\n",
    "        ok = False\n",
    "        if len(stats[\"counts\"]) > 0:\n",
    "            ok = stats[\"counts\"][\"candidate_generation\"][\"correct\"] or stats[\"counts\"][\"revision\"][\"correct\"]\n",
    "            # ok = stats[\"counts\"][\"revision\"][\"correct\"]\n",
    "            # ok = stats[\"counts\"][\"candidate_generation\"][\"correct\"]\n",
    "        \n",
    "        results[path.name] += int(ok)\n",
    "        details[path.name][qid.name] = ok\n",
    "    rate[path.name] = results[path.name] / len(list(path.iterdir()))"
   ]
  },
  {
   "cell_type": "code",
   "execution_count": 4,
   "metadata": {},
   "outputs": [
    {
     "data": {
      "text/plain": [
       "91"
      ]
     },
     "execution_count": 4,
     "metadata": {},
     "output_type": "execute_result"
    }
   ],
   "source": [
    "sum(results.values())"
   ]
  },
  {
   "cell_type": "code",
   "execution_count": 5,
   "metadata": {},
   "outputs": [
    {
     "data": {
      "text/plain": [
       "defaultdict(int,\n",
       "            {'thrombosis_prediction': 0.4375,\n",
       "             'formula_1': 0.6470588235294118,\n",
       "             'financial': 0.5,\n",
       "             'california_schools': 0.625,\n",
       "             'student_club': 0.7333333333333333,\n",
       "             'codebase_community': 0.5555555555555556,\n",
       "             'debit_card_specializing': 0.6666666666666666,\n",
       "             'card_games': 0.42105263157894735,\n",
       "             'european_football_2': 0.8333333333333334,\n",
       "             'superhero': 0.75,\n",
       "             'toxicology': 0.7857142857142857})"
      ]
     },
     "execution_count": 5,
     "metadata": {},
     "output_type": "execute_result"
    }
   ],
   "source": [
    "rate"
   ]
  },
  {
   "cell_type": "code",
   "execution_count": 6,
   "metadata": {},
   "outputs": [],
   "source": [
    "with open('stats.json', 'w') as f:\n",
    "    json.dump(details, f)"
   ]
  },
  {
   "cell_type": "code",
   "execution_count": 7,
   "metadata": {},
   "outputs": [],
   "source": [
    "with open(\"ori_stats.json\", 'r') as f:\n",
    "    ori_stats = json.load(f)"
   ]
  },
  {
   "cell_type": "code",
   "execution_count": 8,
   "metadata": {},
   "outputs": [],
   "source": [
    "def get_stats(ori, opt):\n",
    "    for db in ori_stats:\n",
    "        for qid in ori_stats[db]:\n",
    "            if ori_stats[db][qid] == ori and details[db][qid] == opt:\n",
    "                print(db, qid)"
   ]
  },
  {
   "cell_type": "code",
   "execution_count": 9,
   "metadata": {},
   "outputs": [
    {
     "name": "stdout",
     "output_type": "stream",
     "text": [
      "california_schools 76\n",
      "california_schools 81\n",
      "card_games 350\n",
      "codebase_community 538\n",
      "codebase_community 575\n",
      "debit_card_specializing 1472\n",
      "debit_card_specializing 1533\n",
      "european_football_2 1040\n",
      "european_football_2 1063\n",
      "european_football_2 1082\n",
      "financial 93\n",
      "formula_1 929\n",
      "formula_1 944\n",
      "formula_1 996\n",
      "student_club 1466\n",
      "superhero 729\n",
      "superhero 797\n",
      "toxicology 287\n",
      "toxicology 326\n",
      "toxicology 338\n"
     ]
    }
   ],
   "source": [
    "get_stats(False, True)"
   ]
  },
  {
   "cell_type": "code",
   "execution_count": null,
   "metadata": {},
   "outputs": [],
   "source": []
  }
 ],
 "metadata": {
  "kernelspec": {
   "display_name": "test_cognify",
   "language": "python",
   "name": "python3"
  },
  "language_info": {
   "codemirror_mode": {
    "name": "ipython",
    "version": 3
   },
   "file_extension": ".py",
   "mimetype": "text/x-python",
   "name": "python",
   "nbconvert_exporter": "python",
   "pygments_lexer": "ipython3",
   "version": "3.11.0"
  }
 },
 "nbformat": 4,
 "nbformat_minor": 2
}
