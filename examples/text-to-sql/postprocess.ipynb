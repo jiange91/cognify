{
 "cells": [
  {
   "cell_type": "code",
   "execution_count": 11,
   "metadata": {},
   "outputs": [],
   "source": [
    "import os\n",
    "from pathlib import Path\n",
    "import json\n",
    "import collections"
   ]
  },
  {
   "cell_type": "code",
   "execution_count": 6,
   "metadata": {},
   "outputs": [],
   "source": [
    "root_dir = '/mnt/data/ssd2/zijian/cognify/examples/text-to-sql/results'"
   ]
  },
  {
   "cell_type": "code",
   "execution_count": 18,
   "metadata": {},
   "outputs": [
    {
     "name": "stdout",
     "output_type": "stream",
     "text": [
      "thrombosis_prediction\n",
      "formula_1\n",
      "financial\n",
      "california_schools\n",
      "student_club\n",
      "codebase_community\n",
      "debit_card_specializing\n",
      "card_games\n",
      "european_football_2\n",
      "superhero\n",
      "toxicology\n"
     ]
    }
   ],
   "source": [
    "results = collections.defaultdict(int)\n",
    "rate = collections.defaultdict(int)\n",
    "\n",
    "for path in Path(root_dir).iterdir():\n",
    "    print(path.name)\n",
    "    for qid in path.iterdir():\n",
    "        records = [f for f in qid.iterdir()]\n",
    "        up_to_date = max(records)\n",
    "        \n",
    "        with open(up_to_date / '-statistics.json', 'r') as f:\n",
    "            stats = json.load(f)\n",
    "        ok = stats[\"counts\"][\"candidate_generation\"][\"correct\"] or stats[\"counts\"][\"revision\"][\"correct\"]\n",
    "        results[path.name] += int(ok)\n",
    "    rate[path.name] = results[path.name] / len(list(path.iterdir()))"
   ]
  },
  {
   "cell_type": "code",
   "execution_count": 17,
   "metadata": {},
   "outputs": [
    {
     "data": {
      "text/plain": [
       "79"
      ]
     },
     "execution_count": 17,
     "metadata": {},
     "output_type": "execute_result"
    }
   ],
   "source": [
    "sum(results.values())"
   ]
  },
  {
   "cell_type": "code",
   "execution_count": 19,
   "metadata": {},
   "outputs": [
    {
     "data": {
      "text/plain": [
       "defaultdict(int,\n",
       "            {'thrombosis_prediction': 0.4375,\n",
       "             'formula_1': 0.29411764705882354,\n",
       "             'financial': 0.5,\n",
       "             'california_schools': 0.375,\n",
       "             'student_club': 0.7333333333333333,\n",
       "             'codebase_community': 0.6111111111111112,\n",
       "             'debit_card_specializing': 0.6666666666666666,\n",
       "             'card_games': 0.3157894736842105,\n",
       "             'european_football_2': 0.5833333333333334,\n",
       "             'superhero': 0.75,\n",
       "             'toxicology': 0.7857142857142857})"
      ]
     },
     "execution_count": 19,
     "metadata": {},
     "output_type": "execute_result"
    }
   ],
   "source": [
    "rate"
   ]
  },
  {
   "cell_type": "code",
   "execution_count": null,
   "metadata": {},
   "outputs": [],
   "source": []
  }
 ],
 "metadata": {
  "kernelspec": {
   "display_name": "test_cognify",
   "language": "python",
   "name": "python3"
  },
  "language_info": {
   "codemirror_mode": {
    "name": "ipython",
    "version": 3
   },
   "file_extension": ".py",
   "mimetype": "text/x-python",
   "name": "python",
   "nbconvert_exporter": "python",
   "pygments_lexer": "ipython3",
   "version": "3.11.0"
  }
 },
 "nbformat": 4,
 "nbformat_minor": 2
}
