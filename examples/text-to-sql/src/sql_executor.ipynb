{
 "cells": [
  {
   "cell_type": "code",
   "execution_count": 1,
   "metadata": {},
   "outputs": [],
   "source": [
    "__import__('pysqlite3')\n",
    "import sys\n",
    "sys.modules['sqlite3'] = sys.modules.pop('pysqlite3')\n",
    "import dotenv\n",
    "\n",
    "dotenv.load_dotenv(\"../.env\")\n",
    "\n",
    "from runner.database_manager import DatabaseManager"
   ]
  },
  {
   "cell_type": "code",
   "execution_count": 2,
   "metadata": {},
   "outputs": [],
   "source": [
    "def _clean_sql(sql: str) -> str:\n",
    "    \"\"\"\n",
    "    Cleans the SQL query by removing unwanted characters and whitespace.\n",
    "    \n",
    "    Args:\n",
    "        sql (str): The SQL query string.\n",
    "        \n",
    "    Returns:\n",
    "        str: The cleaned SQL query string.\n",
    "    \"\"\"\n",
    "    return sql.replace('\\n', ' ').replace('\"', \"'\").strip(\"`.\")"
   ]
  },
  {
   "cell_type": "code",
   "execution_count": 23,
   "metadata": {},
   "outputs": [],
   "source": [
    "def exec_sql(sql1, sql2, db):\n",
    "    db_manager = DatabaseManager(db_mode='dev', db_id=db)\n",
    "    sql1, sql2 = _clean_sql(sql1), _clean_sql(sql2)\n",
    "    print(\"sql 1: \")\n",
    "    print(set(db_manager.execute_sql(sql=sql1)))\n",
    "    print(\"sql 2: \")\n",
    "    print(set(db_manager.execute_sql(sql=sql2)))"
   ]
  },
  {
   "cell_type": "code",
   "execution_count": 27,
   "metadata": {},
   "outputs": [
    {
     "name": "stdout",
     "output_type": "stream",
     "text": [
      "sql 1: \n",
      "{('Le Grand',)}\n",
      "sql 2: \n",
      "set()\n"
     ]
    }
   ],
   "source": [
    "exec_sql(\n",
    "    sql1= \"SELECT s.City FROM frpm f JOIN schools s ON f.CDSCode = s.CDSCode WHERE f.`NSLP Provision Status` = 'Lunch Provision 2' AND f.`Low Grade` = '9' AND f.`High Grade` = '12' AND f.`County Name` = 'Merced' AND s.EILCode = 'HS' ORDER BY s.CDSCode LIMIT 1; \",\n",
    "    sql2= \"SELECT T1.City FROM schools T1 JOIN frpm T2 ON T1.CDSCode = T2.CDSCode WHERE T1.EILCode = 'HS' AND T2.`NSLP Provision Status` = 'Lunch Provision 2' AND T1.GSserved = '9-12' AND T1.County = 'Merced';\",\n",
    "    db=\"california_schools\",\n",
    ")"
   ]
  },
  {
   "cell_type": "code",
   "execution_count": 11,
   "metadata": {},
   "outputs": [
    {
     "data": {
      "text/plain": [
       "[]"
      ]
     },
     "execution_count": 11,
     "metadata": {},
     "output_type": "execute_result"
    }
   ],
   "source": [
    "exec_sql(\n",
    "    sql= \"SELECT T1.City FROM schools T1 JOIN frpm T2 ON T1.CDSCode = T2.CDSCode WHERE T1.EILCode = 'HS' AND T2.`NSLP Provision Status` = 'Lunch Provision 2' AND T1.GSserved = '9-12' AND T1.County = 'Merced';\",\n",
    "    db=\"california_schools\"\n",
    ")"
   ]
  },
  {
   "cell_type": "code",
   "execution_count": 17,
   "metadata": {},
   "outputs": [
    {
     "data": {
      "text/plain": [
       "{('Cleanup',),\n",
       " ('Editor',),\n",
       " ('Famous Question',),\n",
       " ('Favorite Question',),\n",
       " ('Good Question',),\n",
       " ('Nice Question',),\n",
       " ('Notable Question',),\n",
       " ('Popular Question',),\n",
       " ('Student',),\n",
       " ('Supporter',),\n",
       " ('Taxonomist',)}"
      ]
     },
     "execution_count": 17,
     "metadata": {},
     "output_type": "execute_result"
    }
   ],
   "source": [
    "exec_sql(\n",
    "    sql= \"SELECT T2.Name FROM users AS T1 INNER JOIN badges AS T2 ON T1.Id = T2.UserId WHERE T1.DisplayName = 'SilentGhost'\",\n",
    "    db=\"codebase_community\"\n",
    ")"
   ]
  },
  {
   "cell_type": "code",
   "execution_count": 29,
   "metadata": {},
   "outputs": [
    {
     "name": "stdout",
     "output_type": "stream",
     "text": [
      "sql 1: \n",
      "{('Good Question',), ('Editor',), ('Student',), ('Supporter',), ('Popular Question',), ('Notable Question',), ('Cleanup',), ('Favorite Question',), ('Famous Question',), ('Taxonomist',), ('Nice Question',)}\n",
      "sql 2: \n",
      "{('Cleanup',)}\n"
     ]
    }
   ],
   "source": [
    "exec_sql(\n",
    "    sql1= \"SELECT b.Name FROM badges b JOIN users u ON b.UserId = u.Id WHERE u.DisplayName = 'SilentGhost';\",\n",
    "    sql2= \"SELECT T2.Name FROM users AS T1 JOIN badges AS T2 ON T1.Id = T2.UserId WHERE T1.DisplayName = 'SilentGhost' ORDER BY T2.Name LIMIT 1;\",\n",
    "    db=\"codebase_community\"\n",
    ")"
   ]
  },
  {
   "cell_type": "code",
   "execution_count": 19,
   "metadata": {},
   "outputs": [
    {
     "data": {
      "text/plain": [
       "{('Cleanup',),\n",
       " ('Editor',),\n",
       " ('Famous Question',),\n",
       " ('Favorite Question',),\n",
       " ('Good Question',),\n",
       " ('Nice Question',),\n",
       " ('Notable Question',),\n",
       " ('Popular Question',),\n",
       " ('Student',),\n",
       " ('Supporter',),\n",
       " ('Taxonomist',)}"
      ]
     },
     "execution_count": 19,
     "metadata": {},
     "output_type": "execute_result"
    }
   ],
   "source": [
    "exec_sql(\n",
    "    sql= \"SELECT T2.Name FROM users AS T1 INNER JOIN badges AS T2 ON T1.Id = T2.UserId WHERE T1.DisplayName = 'SilentGhost'\",\n",
    "    db=\"codebase_community\"\n",
    ")"
   ]
  },
  {
   "cell_type": "code",
   "execution_count": 31,
   "metadata": {},
   "outputs": [
    {
     "name": "stdout",
     "output_type": "stream",
     "text": [
      "sql 1: \n",
      "{('Per Mertesacker',), ('Michael Ballack',), ('John Terry',), ('Didier Drogba',), ('Miroslav Klose',), ('Fernando Morientes',), ('Daniel van Buyten',), ('Naldo',), ('Fernando Llorente',), ('Luca Toni',)}\n",
      "sql 2: \n",
      "{(193061,), (155887,), (162131,), (182495,), (138956,), (125995,), (183284,), (173210,), (41635,), (184344,)}\n"
     ]
    }
   ],
   "source": [
    "exec_sql(\n",
    "    db=\"european_football_2\",\n",
    "    sql1= \"SELECT P.player_name  FROM Player P  JOIN Player_Attributes PA ON P.player_api_id = PA.player_api_id  WHERE P.height > 180  GROUP BY P.player_api_id  ORDER BY AVG(PA.heading_accuracy) DESC  LIMIT 10; \",\n",
    "    sql2= \"SELECT T1.player_fifa_api_id FROM Player T1 JOIN Player_Attributes T2 ON T1.player_fifa_api_id = T2.player_fifa_api_id WHERE T1.height > 180 GROUP BY T1.player_fifa_api_id ORDER BY SUM(T2.heading_accuracy) DESC LIMIT 10;\",\n",
    ")"
   ]
  },
  {
   "cell_type": "code",
   "execution_count": 30,
   "metadata": {},
   "outputs": [
    {
     "name": "stdout",
     "output_type": "stream",
     "text": [
      "sql 1: \n",
      "{('Per Mertesacker',), ('Michael Ballack',), ('John Terry',), ('Didier Drogba',), ('Miroslav Klose',), ('Fernando Morientes',), ('Daniel van Buyten',), ('Naldo',), ('Fernando Llorente',), ('Luca Toni',)}\n",
      "sql 2: \n",
      "{('Per Mertesacker',), ('Michael Ballack',), ('John Terry',), ('Didier Drogba',), ('Miroslav Klose',), ('Fernando Morientes',), ('Daniel van Buyten',), ('Naldo',), ('Fernando Llorente',), ('Luca Toni',)}\n"
     ]
    }
   ],
   "source": [
    "exec_sql(\n",
    "    db=\"european_football_2\",\n",
    "    sql1= \"SELECT t1.player_name FROM Player AS t1 INNER JOIN Player_Attributes AS t2 ON t1.player_api_id = t2.player_api_id WHERE t1.height > 180 GROUP BY t1.id ORDER BY CAST(SUM(t2.heading_accuracy) AS REAL) / COUNT(t2.`player_fifa_api_id`) DESC LIMIT 10\",\n",
    "    sql2= \"SELECT P.player_name  FROM Player P  JOIN Player_Attributes PA ON P.player_api_id = PA.player_api_id  WHERE P.height > 180  GROUP BY P.player_api_id  ORDER BY AVG(PA.heading_accuracy) DESC  LIMIT 10; \",\n",
    ")"
   ]
  },
  {
   "cell_type": "code",
   "execution_count": null,
   "metadata": {},
   "outputs": [],
   "source": []
  }
 ],
 "metadata": {
  "kernelspec": {
   "display_name": "test_cognify",
   "language": "python",
   "name": "python3"
  },
  "language_info": {
   "codemirror_mode": {
    "name": "ipython",
    "version": 3
   },
   "file_extension": ".py",
   "mimetype": "text/x-python",
   "name": "python",
   "nbconvert_exporter": "python",
   "pygments_lexer": "ipython3",
   "version": "3.11.0"
  }
 },
 "nbformat": 4,
 "nbformat_minor": 2
}
